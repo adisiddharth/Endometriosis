{
 "cells": [
  {
   "cell_type": "code",
   "execution_count": 64,
   "id": "f10cb82e-b84b-4d37-b5f0-f54492c4676e",
   "metadata": {},
   "outputs": [],
   "source": [
    "# import libraries\n",
    "import numpy as np\n",
    "import pandas as pd\n",
    "import torch\n",
    "import torch.nn as nn\n",
    "from torch.autograd import grad\n",
    "\n",
    "import matplotlib.pyplot as plt\n",
    "\n",
    "from captum.attr import IntegratedGradients\n",
    "from captum.attr import LayerConductance\n",
    "from captum.attr import NeuronConductance"
   ]
  },
  {
   "cell_type": "code",
   "execution_count": 65,
   "id": "a4587f9d-7079-48b6-aacc-8b6b46b61677",
   "metadata": {
    "jp-MarkdownHeadingCollapsed": true,
    "tags": []
   },
   "outputs": [
    {
     "name": "stdout",
     "output_type": "stream",
     "text": [
      "\u001b[34m\u001b[1mwandb\u001b[0m: Currently logged in as: \u001b[33madisiddharth\u001b[0m (use `wandb login --relogin` to force relogin)\n"
     ]
    }
   ],
   "source": [
    "# import and login Weights and Baises\n",
    "import wandb\n",
    "!wandb login"
   ]
  },
  {
   "cell_type": "code",
   "execution_count": 66,
   "id": "cdd57111-e9db-428c-80c0-649ab588f394",
   "metadata": {},
   "outputs": [
    {
     "data": {
      "text/html": [
       "Finishing last run (ID:1wtu2gcb) before initializing another..."
      ],
      "text/plain": [
       "<IPython.core.display.HTML object>"
      ]
     },
     "metadata": {},
     "output_type": "display_data"
    },
    {
     "data": {
      "text/html": [
       "<br/>Waiting for W&B process to finish, PID 6447... <strong style=\"color:green\">(success).</strong>"
      ],
      "text/plain": [
       "<IPython.core.display.HTML object>"
      ]
     },
     "metadata": {},
     "output_type": "display_data"
    },
    {
     "data": {
      "application/vnd.jupyter.widget-view+json": {
       "model_id": "",
       "version_major": 2,
       "version_minor": 0
      },
      "text/plain": [
       "VBox(children=(Label(value=' 0.00MB of 0.00MB uploaded (0.00MB deduped)\\r'), FloatProgress(value=1.0, max=1.0)…"
      ]
     },
     "metadata": {},
     "output_type": "display_data"
    },
    {
     "data": {
      "text/html": [
       "<style>\n",
       "    table.wandb td:nth-child(1) { padding: 0 10px; text-align: right }\n",
       "    .wandb-row { display: flex; flex-direction: row; flex-wrap: wrap; width: 100% }\n",
       "    .wandb-col { display: flex; flex-direction: column; flex-basis: 100%; flex: 1; padding: 10px; }\n",
       "    </style>\n",
       "<div class=\"wandb-row\"><div class=\"wandb-col\">\n",
       "</div><div class=\"wandb-col\">\n",
       "</div></div>\n",
       "Synced 6 W&B file(s), 0 media file(s), 0 artifact file(s) and 0 other file(s)\n",
       "<br/>Synced <strong style=\"color:#cdcd00\">logical-microwave-27</strong>: <a href=\"https://wandb.ai/adisiddharth/Captum%20Pytorch%20Cycle%20Phase/runs/1wtu2gcb\" target=\"_blank\">https://wandb.ai/adisiddharth/Captum%20Pytorch%20Cycle%20Phase/runs/1wtu2gcb</a><br/>\n",
       "Find logs at: <code>./wandb/run-20220721_154406-1wtu2gcb/logs</code><br/>\n"
      ],
      "text/plain": [
       "<IPython.core.display.HTML object>"
      ]
     },
     "metadata": {},
     "output_type": "display_data"
    },
    {
     "data": {
      "text/html": [
       "Successfully finished last run (ID:1wtu2gcb). Initializing new run:<br/>"
      ],
      "text/plain": [
       "<IPython.core.display.HTML object>"
      ]
     },
     "metadata": {},
     "output_type": "display_data"
    },
    {
     "name": "stderr",
     "output_type": "stream",
     "text": [
      "\u001b[34m\u001b[1mwandb\u001b[0m: wandb version 0.12.21 is available!  To upgrade, please run:\n",
      "\u001b[34m\u001b[1mwandb\u001b[0m:  $ pip install wandb --upgrade\n",
      "2022-07-21 15:49:09.764128: W tensorflow/stream_executor/platform/default/dso_loader.cc:64] Could not load dynamic library 'libcudart.so.11.0'; dlerror: libcudart.so.11.0: cannot open shared object file: No such file or directory\n",
      "2022-07-21 15:49:09.764161: I tensorflow/stream_executor/cuda/cudart_stub.cc:29] Ignore above cudart dlerror if you do not have a GPU set up on your machine.\n"
     ]
    },
    {
     "data": {
      "text/html": [
       "\n",
       "                    Syncing run <strong><a href=\"https://wandb.ai/adisiddharth/Captum%20Pytorch%20Cycle%20Phase/runs/wzhfmveo\" target=\"_blank\">prime-wood-28</a></strong> to <a href=\"https://wandb.ai/adisiddharth/Captum%20Pytorch%20Cycle%20Phase\" target=\"_blank\">Weights & Biases</a> (<a href=\"https://docs.wandb.com/integrations/jupyter.html\" target=\"_blank\">docs</a>).<br/>\n",
       "\n",
       "                "
      ],
      "text/plain": [
       "<IPython.core.display.HTML object>"
      ]
     },
     "metadata": {},
     "output_type": "display_data"
    },
    {
     "data": {
      "text/html": [
       "<button onClick=\"this.nextSibling.style.display='block';this.style.display='none';\">Display W&B run</button><iframe src=\"https://wandb.ai/adisiddharth/Captum%20Pytorch%20Cycle%20Phase/runs/wzhfmveo?jupyter=true\" style=\"border:none;width:100%;height:420px;display:none;\"></iframe>"
      ],
      "text/plain": [
       "<wandb.sdk.wandb_run.Run at 0x7f66716549d0>"
      ]
     },
     "execution_count": 66,
     "metadata": {},
     "output_type": "execute_result"
    }
   ],
   "source": [
    "# Initialize wandb project\n",
    "wandb.init(project = 'Captum Pytorch Cycle Phase')"
   ]
  },
  {
   "cell_type": "code",
   "execution_count": 67,
   "id": "6a8d3a7b-5ba8-4e59-b599-5848d909d687",
   "metadata": {},
   "outputs": [],
   "source": [
    "#set cuda\n",
    "device = torch.device('cuda' if torch.cuda.is_available() else 'cpu')"
   ]
  },
  {
   "cell_type": "code",
   "execution_count": 68,
   "id": "693a410b-b3e9-419c-970f-6c570f0a0537",
   "metadata": {},
   "outputs": [],
   "source": [
    "# Train dataset\n",
    "train = pd.read_csv('Endometriosis_subset_train_feature_extract_no_mamc_splitfunction_random.csv')\n",
    "\n",
    "# Set index to IDs\n",
    "train.set_axis(train['meth_id'], inplace = True)\n",
    "\n",
    "# Drop the ID cols \n",
    "cols_drop = ['meth_id', 'meth_id.1']\n",
    "train.drop(columns=cols_drop, inplace = True)\n",
    "\n",
    "# Change Endo Yes/No to binary\n",
    "train['Endometriosis_int'] = np.where(train['Endometriosis'] == 'Yes', 1, train['Endometriosis'])\n",
    "train['Endometriosis_int'] = np.where(train['Endometriosis_int'] == 'No', 0, train['Endometriosis_int'])\n",
    "\n",
    "train.drop(train.loc[train['Stage'] == 'UNKNOWN'].index, inplace=True)\n",
    "\n",
    "# Change Endo Yes/No to binary\n",
    "train['Cycle_Phase_1'] = np.where(train['Cycle_Phase'] == 'PE', 0, '')\n",
    "train['Cycle_Phase_2'] = np.where(train['Cycle_Phase'] == 'SE', 1, '')\n",
    "train['Cycle_Phase_3'] = np.where(train['Cycle_Phase'] == 'Menstrual', 2, '')\n",
    "train['Cycle_Phase_int'] = train['Cycle_Phase_1'] + train['Cycle_Phase_2'] + train['Cycle_Phase_3'] \n",
    "\n",
    "train.drop(train[train['Cycle_Phase_int'] == '2'].index, inplace = True)\n",
    "\n",
    "# Comment out to remove Cycle Phase from features\n",
    "y_train = train['Cycle_Phase_int']\n",
    "x_train = train.iloc[:, 5:-5]"
   ]
  },
  {
   "cell_type": "code",
   "execution_count": 69,
   "id": "337cbc64-6747-4828-b5de-ae87f0945581",
   "metadata": {},
   "outputs": [],
   "source": [
    "# Val dataset\n",
    "val = pd.read_csv('Endometriosis_subset_val_feature_extract_no_mamc_splitfunction_random.csv')\n",
    "\n",
    "#set index to IDs\n",
    "val = val.set_axis(val['meth_id'])\n",
    "\n",
    "# Group ESE, MSE and LSE into SE \n",
    "val.loc[val['Cycle_Phase'].isin(['ESE', 'MSE', 'LSE']), 'Cycle_Phase'] = 'SE'\n",
    "\n",
    "# Change Endo Yes/No to binary\n",
    "val['Endometriosis_int'] = np.where(val['Endometriosis'] == 'Yes', 1, val['Endometriosis'])\n",
    "val['Endometriosis_int'] = np.where(val['Endometriosis_int'] == 'No', 0, val['Endometriosis_int'])\n",
    "\n",
    "val.drop(val.loc[val['Stage'] == 'UNKNOWN'].index, inplace=True)\n",
    "\n",
    "# Change Endo Yes/No to binary\n",
    "val['Cycle_Phase_1'] = np.where(val['Cycle_Phase'] == 'PE', 0, '')\n",
    "val['Cycle_Phase_2'] = np.where(val['Cycle_Phase'] == 'SE', 1, '')\n",
    "val['Cycle_Phase_3'] = np.where(val['Cycle_Phase'] == 'Menstrual', 2, '')\n",
    "val['Cycle_Phase_int'] = val['Cycle_Phase_1'] + val['Cycle_Phase_2'] + val['Cycle_Phase_3'] \n",
    "\n",
    "val.drop(val[val['Cycle_Phase_int'] == '2'].index, inplace = True)\n",
    "\n",
    "# Comment out to remove Cycle Phase from features\n",
    "y_val = val['Cycle_Phase_int']\n",
    "x_val = val.iloc[:, 7:-5]"
   ]
  },
  {
   "cell_type": "code",
   "execution_count": 70,
   "id": "adcf28a2-14ea-44df-b37f-90bd5e9da83f",
   "metadata": {},
   "outputs": [],
   "source": [
    "# Test dataset\n",
    "test = pd.read_csv('Endometriosis_subset_test2_feature_extract_no_mamc_splitfunction_random.csv')\n",
    "\n",
    "# Assign index as IDs\n",
    "test.set_index('meth_id', inplace = True)\n",
    "\n",
    "test.drop(test.loc[test['Stage'] == 'UNKNOWN'].index, inplace=True)\n",
    "\n",
    "test.drop('Unnamed: 0', axis=1, inplace=True)\n",
    "\n",
    "# Group ESE, MSE and LSE into SE \n",
    "test.loc[test['Cycle_Phase'].isin(['ESE', 'MSE', 'LSE']), 'Cycle_Phase'] = 'SE'\n",
    "\n",
    "# Change Endo Yes/No to binary\n",
    "test['Cycle_Phase_1'] = np.where(test['Cycle_Phase'] == 'PE', 0, '')\n",
    "test['Cycle_Phase_2'] = np.where(test['Cycle_Phase'] == 'SE', 1, '')\n",
    "test['Cycle_Phase_3'] = np.where(test['Cycle_Phase'] == 'Menstrual', 2, '')\n",
    "test['Cycle_Phase_int'] = test['Cycle_Phase_1'] + test['Cycle_Phase_2'] + test['Cycle_Phase_3'] \n",
    "\n",
    "test.drop(test[test['Cycle_Phase_int'] == '2'].index, inplace = True)\n",
    "\n",
    "# Change Endo Yes/No to binary\n",
    "test['Endometriosis_int'] = np.where(test['Endometriosis'] == 'Yes', 1, test['Endometriosis'])\n",
    "test['Endometriosis_int'] = np.where(test['Endometriosis_int'] == 'No', 0, test['Endometriosis_int'])\n",
    "\n",
    "# Comment out to remove Cycle Phase from features\n",
    "#test = test.join(pd.get_dummies(test['Cycle_Phase']))\n",
    "y_test = test['Cycle_Phase_int']\n",
    "x_test = test.iloc[:, 5:-5]"
   ]
  },
  {
   "cell_type": "code",
   "execution_count": 71,
   "id": "b3d129f0-6fed-4674-a975-5f578579de23",
   "metadata": {},
   "outputs": [],
   "source": [
    "# Set train and test features and labels\n",
    "train_features = x_train.to_numpy()\n",
    "train_labels = y_train.to_numpy(dtype=np.int64)\n",
    "\n",
    "val_features = x_val.to_numpy()\n",
    "val_labels = y_val.to_numpy(dtype=np.int64)\n",
    "\n",
    "test_features = x_test.to_numpy()\n",
    "test_labels = y_test.to_numpy(dtype=np.int64)"
   ]
  },
  {
   "cell_type": "code",
   "execution_count": 72,
   "id": "048c881c-bbed-42c0-986c-e7eadd9ca290",
   "metadata": {},
   "outputs": [],
   "source": [
    "from sklearn.preprocessing import StandardScaler\n",
    "train_features = StandardScaler().fit_transform(train_features)\n",
    "val_features = StandardScaler().fit_transform(val_features)\n",
    "test_features = StandardScaler().fit_transform(test_features)"
   ]
  },
  {
   "cell_type": "code",
   "execution_count": 73,
   "id": "3f719e9d-5f85-45b6-8a45-98bed9feb691",
   "metadata": {},
   "outputs": [
    {
     "data": {
      "text/plain": [
       "((705, 45000), (175, 45000), (47, 45000))"
      ]
     },
     "execution_count": 73,
     "metadata": {},
     "output_type": "execute_result"
    }
   ],
   "source": [
    "train_features.shape, val_features.shape, test_features.shape"
   ]
  },
  {
   "cell_type": "code",
   "execution_count": 74,
   "id": "444589a7-7f6c-46f8-8280-9207eacf4f80",
   "metadata": {},
   "outputs": [],
   "source": [
    "# Set hyperparameters\n",
    "lr=0.0001 \n",
    "optimizer = \"Adamax\"\n",
    "num_epochs = 500\n",
    "loss = 'CrossEntropyLoss'\n",
    "nodes = 300\n",
    "activation1 = 'relu'\n",
    "activation2 = 'softmax'"
   ]
  },
  {
   "cell_type": "markdown",
   "id": "8bc9017b-722d-40d5-930c-d941d26366df",
   "metadata": {},
   "source": [
    "# Set up config (columns) to record in wandb\n",
    "run_config = {'lr': lr, 'optimizer': optimizer, 'epochs': num_epochs, 'nodes': nodes, 'activation1': activation1, 'activation2': activation2, 'loss': loss}\n",
    "wandb_run = wandb.init(project='Captum Pytorch Cycle Phase', config=run_config)"
   ]
  },
  {
   "cell_type": "code",
   "execution_count": 75,
   "id": "66ec34e9-ea70-4ac4-8f12-cc0740ab7274",
   "metadata": {},
   "outputs": [],
   "source": [
    "if activation1 == 'relu':    \n",
    "    activation1 = nn.ReLU()\n",
    "elif activation1 == 'elu':    \n",
    "    activation1 = nn.ELU()\n",
    "elif activation1 == 'selu':    \n",
    "    activation1 = nn.SELU()\n",
    "elif activation1 == 'sigmoid':    \n",
    "    activation1 = nn.Sigmoid()\n",
    "if activation2 == 'sigmoid':    \n",
    "    activation2 = nn.Sigmoid()\n",
    "elif activation2 == 'relu':    \n",
    "    activation2 = nn.ReLU()\n",
    "elif activation2 == 'softmax':    \n",
    "    activation2 = nn.Softmax()"
   ]
  },
  {
   "cell_type": "code",
   "execution_count": 76,
   "id": "2ca6db8d-8b17-495a-a1c3-ce54e4ca1dce",
   "metadata": {
    "scrolled": true,
    "tags": []
   },
   "outputs": [
    {
     "name": "stderr",
     "output_type": "stream",
     "text": [
      "/tmp/ipykernel_6163/3942551225.py:37: UserWarning: Implicit dimension choice for softmax has been deprecated. Change the call to include dim=X as an argument.\n",
      "  out11 = self.relu10(self.linear10(out10))\n"
     ]
    },
    {
     "name": "stdout",
     "output_type": "stream",
     "text": [
      "Epoch 1 \t\t Training Loss: 0.003961499759129116 \t\t Validation Loss: 0.6931700110435486\n",
      "Validation Loss Decreased(inf--->121.304752) \t Saving The Model\n",
      "Validation Loss Decreased(121.304752--->121.295781) \t Saving The Model\n",
      "Validation Loss Decreased(121.295781--->121.285465) \t Saving The Model\n",
      "Validation Loss Decreased(121.285465--->121.273209) \t Saving The Model\n",
      "Validation Loss Decreased(121.273209--->121.258523) \t Saving The Model\n",
      "Validation Loss Decreased(121.258523--->121.240571) \t Saving The Model\n",
      "Validation Loss Decreased(121.240571--->121.218792) \t Saving The Model\n",
      "Validation Loss Decreased(121.218792--->121.192881) \t Saving The Model\n",
      "Validation Loss Decreased(121.192881--->121.163070) \t Saving The Model\n",
      "Validation Loss Decreased(121.163070--->121.128638) \t Saving The Model\n",
      "Validation Loss Decreased(121.128638--->121.088740) \t Saving The Model\n",
      "Validation Loss Decreased(121.088740--->121.042584) \t Saving The Model\n",
      "Validation Loss Decreased(121.042584--->120.989230) \t Saving The Model\n",
      "Validation Loss Decreased(120.989230--->120.928460) \t Saving The Model\n",
      "Validation Loss Decreased(120.928460--->120.859669) \t Saving The Model\n",
      "Validation Loss Decreased(120.859669--->120.782711) \t Saving The Model\n",
      "Validation Loss Decreased(120.782711--->120.697261) \t Saving The Model\n",
      "Validation Loss Decreased(120.697261--->120.603342) \t Saving The Model\n",
      "Validation Loss Decreased(120.603342--->120.500557) \t Saving The Model\n",
      "Validation Loss Decreased(120.500557--->120.388322) \t Saving The Model\n",
      "Validation Loss Decreased(120.388322--->120.266198) \t Saving The Model\n",
      "Validation Loss Decreased(120.266198--->120.133539) \t Saving The Model\n",
      "Validation Loss Decreased(120.133539--->119.989896) \t Saving The Model\n",
      "Validation Loss Decreased(119.989896--->119.835468) \t Saving The Model\n",
      "Validation Loss Decreased(119.835468--->119.669221) \t Saving The Model\n",
      "Validation Loss Decreased(119.669221--->119.491021) \t Saving The Model\n",
      "Validation Loss Decreased(119.491021--->119.301118) \t Saving The Model\n",
      "Validation Loss Decreased(119.301118--->119.097383) \t Saving The Model\n",
      "Validation Loss Decreased(119.097383--->118.878451) \t Saving The Model\n",
      "Validation Loss Decreased(118.878451--->118.642652) \t Saving The Model\n",
      "Validation Loss Decreased(118.642652--->118.389861) \t Saving The Model\n",
      "Validation Loss Decreased(118.389861--->118.118149) \t Saving The Model\n",
      "Validation Loss Decreased(118.118149--->117.825826) \t Saving The Model\n",
      "Validation Loss Decreased(117.825826--->117.512943) \t Saving The Model\n",
      "Validation Loss Decreased(117.512943--->117.178792) \t Saving The Model\n",
      "Validation Loss Decreased(117.178792--->116.819242) \t Saving The Model\n",
      "Validation Loss Decreased(116.819242--->116.433614) \t Saving The Model\n",
      "Validation Loss Decreased(116.433614--->116.017999) \t Saving The Model\n",
      "Validation Loss Decreased(116.017999--->115.568379) \t Saving The Model\n",
      "Validation Loss Decreased(115.568379--->115.082261) \t Saving The Model\n",
      "Validation Loss Decreased(115.082261--->114.554952) \t Saving The Model\n",
      "Validation Loss Decreased(114.554952--->113.983917) \t Saving The Model\n",
      "Validation Loss Decreased(113.983917--->113.364828) \t Saving The Model\n",
      "Validation Loss Decreased(113.364828--->112.692760) \t Saving The Model\n",
      "Validation Loss Decreased(112.692760--->111.961529) \t Saving The Model\n",
      "Validation Loss Decreased(111.961529--->111.164927) \t Saving The Model\n",
      "Validation Loss Decreased(111.164927--->110.298252) \t Saving The Model\n",
      "Validation Loss Decreased(110.298252--->109.355098) \t Saving The Model\n",
      "Validation Loss Decreased(109.355098--->108.330667) \t Saving The Model\n",
      "Validation Loss Decreased(108.330667--->107.218617) \t Saving The Model\n",
      "Epoch 51 \t\t Training Loss: 0.003101483072553362 \t\t Validation Loss: 0.6057790517807007\n",
      "Validation Loss Decreased(107.218617--->106.011334) \t Saving The Model\n",
      "Validation Loss Decreased(106.011334--->104.701714) \t Saving The Model\n",
      "Validation Loss Decreased(104.701714--->103.283854) \t Saving The Model\n",
      "Validation Loss Decreased(103.283854--->101.758003) \t Saving The Model\n",
      "Validation Loss Decreased(101.758003--->100.121930) \t Saving The Model\n",
      "Validation Loss Decreased(100.121930--->98.383030) \t Saving The Model\n",
      "Validation Loss Decreased(98.383030--->96.556918) \t Saving The Model\n",
      "Validation Loss Decreased(96.556918--->94.667137) \t Saving The Model\n",
      "Validation Loss Decreased(94.667137--->92.739095) \t Saving The Model\n",
      "Validation Loss Decreased(92.739095--->90.807402) \t Saving The Model\n",
      "Validation Loss Decreased(90.807402--->88.907117) \t Saving The Model\n",
      "Validation Loss Decreased(88.907117--->87.073114) \t Saving The Model\n",
      "Validation Loss Decreased(87.073114--->85.339361) \t Saving The Model\n",
      "Validation Loss Decreased(85.339361--->83.734122) \t Saving The Model\n",
      "Validation Loss Decreased(83.734122--->82.279503) \t Saving The Model\n",
      "Validation Loss Decreased(82.279503--->80.988398) \t Saving The Model\n",
      "Validation Loss Decreased(80.988398--->79.862908) \t Saving The Model\n",
      "Validation Loss Decreased(79.862908--->78.900854) \t Saving The Model\n",
      "Validation Loss Decreased(78.900854--->78.090682) \t Saving The Model\n",
      "Validation Loss Decreased(78.090682--->77.417399) \t Saving The Model\n",
      "Validation Loss Decreased(77.417399--->76.864905) \t Saving The Model\n",
      "Validation Loss Decreased(76.864905--->76.416609) \t Saving The Model\n",
      "Validation Loss Decreased(76.416609--->76.054785) \t Saving The Model\n",
      "Validation Loss Decreased(76.054785--->75.763359) \t Saving The Model\n",
      "Validation Loss Decreased(75.763359--->75.528806) \t Saving The Model\n",
      "Validation Loss Decreased(75.528806--->75.339477) \t Saving The Model\n",
      "Validation Loss Decreased(75.339477--->75.187338) \t Saving The Model\n",
      "Validation Loss Decreased(75.187338--->75.063681) \t Saving The Model\n",
      "Validation Loss Decreased(75.063681--->74.963326) \t Saving The Model\n",
      "Validation Loss Decreased(74.963326--->74.881851) \t Saving The Model\n",
      "Validation Loss Decreased(74.881851--->74.814676) \t Saving The Model\n",
      "Validation Loss Decreased(74.814676--->74.757776) \t Saving The Model\n",
      "Validation Loss Decreased(74.757776--->74.709325) \t Saving The Model\n",
      "Validation Loss Decreased(74.709325--->74.667534) \t Saving The Model\n",
      "Validation Loss Decreased(74.667534--->74.631365) \t Saving The Model\n",
      "Validation Loss Decreased(74.631365--->74.599916) \t Saving The Model\n",
      "Validation Loss Decreased(74.599916--->74.572113) \t Saving The Model\n",
      "Validation Loss Decreased(74.572113--->74.547309) \t Saving The Model\n",
      "Validation Loss Decreased(74.547309--->74.525274) \t Saving The Model\n",
      "Validation Loss Decreased(74.525274--->74.505408) \t Saving The Model\n",
      "Validation Loss Decreased(74.505408--->74.487425) \t Saving The Model\n",
      "Validation Loss Decreased(74.487425--->74.471185) \t Saving The Model\n",
      "Validation Loss Decreased(74.471185--->74.456488) \t Saving The Model\n",
      "Validation Loss Decreased(74.456488--->74.443152) \t Saving The Model\n",
      "Validation Loss Decreased(74.443152--->74.430916) \t Saving The Model\n",
      "Validation Loss Decreased(74.430916--->74.419656) \t Saving The Model\n",
      "Validation Loss Decreased(74.419656--->74.409147) \t Saving The Model\n",
      "Validation Loss Decreased(74.409147--->74.399160) \t Saving The Model\n",
      "Validation Loss Decreased(74.399160--->74.389673) \t Saving The Model\n",
      "Validation Loss Decreased(74.389673--->74.380812) \t Saving The Model\n",
      "Epoch 101 \t\t Training Loss: 0.001790187188557216 \t\t Validation Loss: 0.42498496174812317\n",
      "Validation Loss Decreased(74.380812--->74.372368) \t Saving The Model\n",
      "Validation Loss Decreased(74.372368--->74.364420) \t Saving The Model\n",
      "Validation Loss Decreased(74.364420--->74.356962) \t Saving The Model\n",
      "Validation Loss Decreased(74.356962--->74.350052) \t Saving The Model\n",
      "Validation Loss Decreased(74.350052--->74.343522) \t Saving The Model\n",
      "Validation Loss Decreased(74.343522--->74.337321) \t Saving The Model\n",
      "Validation Loss Decreased(74.337321--->74.331438) \t Saving The Model\n",
      "Validation Loss Decreased(74.331438--->74.325852) \t Saving The Model\n",
      "Validation Loss Decreased(74.325852--->74.320558) \t Saving The Model\n",
      "Validation Loss Decreased(74.320558--->74.315489) \t Saving The Model\n",
      "Validation Loss Decreased(74.315489--->74.310644) \t Saving The Model\n",
      "Validation Loss Decreased(74.310644--->74.305679) \t Saving The Model\n",
      "Validation Loss Decreased(74.305679--->74.300860) \t Saving The Model\n",
      "Validation Loss Decreased(74.300860--->74.296135) \t Saving The Model\n",
      "Validation Loss Decreased(74.296135--->74.291582) \t Saving The Model\n",
      "Validation Loss Decreased(74.291582--->74.287216) \t Saving The Model\n",
      "Validation Loss Decreased(74.287216--->74.283013) \t Saving The Model\n",
      "Validation Loss Decreased(74.283013--->74.278992) \t Saving The Model\n",
      "Validation Loss Decreased(74.278992--->74.275169) \t Saving The Model\n",
      "Validation Loss Decreased(74.275169--->74.271471) \t Saving The Model\n",
      "Validation Loss Decreased(74.271471--->74.267862) \t Saving The Model\n",
      "Validation Loss Decreased(74.267862--->74.264357) \t Saving The Model\n",
      "Validation Loss Decreased(74.264357--->74.260941) \t Saving The Model\n",
      "Validation Loss Decreased(74.260941--->74.257598) \t Saving The Model\n",
      "Validation Loss Decreased(74.257598--->74.254318) \t Saving The Model\n",
      "Validation Loss Decreased(74.254318--->74.251131) \t Saving The Model\n",
      "Validation Loss Decreased(74.251131--->74.248023) \t Saving The Model\n",
      "Validation Loss Decreased(74.248023--->74.244998) \t Saving The Model\n",
      "Validation Loss Decreased(74.244998--->74.242035) \t Saving The Model\n",
      "Validation Loss Decreased(74.242035--->74.239136) \t Saving The Model\n",
      "Validation Loss Decreased(74.239136--->74.236272) \t Saving The Model\n",
      "Validation Loss Decreased(74.236272--->74.233466) \t Saving The Model\n",
      "Validation Loss Decreased(74.233466--->74.230723) \t Saving The Model\n",
      "Validation Loss Decreased(74.230723--->74.228037) \t Saving The Model\n",
      "Validation Loss Decreased(74.228037--->74.225403) \t Saving The Model\n",
      "Validation Loss Decreased(74.225403--->74.222811) \t Saving The Model\n",
      "Validation Loss Decreased(74.222811--->74.220282) \t Saving The Model\n",
      "Validation Loss Decreased(74.220282--->74.217805) \t Saving The Model\n",
      "Validation Loss Decreased(74.217805--->74.215364) \t Saving The Model\n",
      "Validation Loss Decreased(74.215364--->74.212975) \t Saving The Model\n",
      "Validation Loss Decreased(74.212975--->74.210633) \t Saving The Model\n",
      "Validation Loss Decreased(74.210633--->74.208323) \t Saving The Model\n",
      "Validation Loss Decreased(74.208323--->74.206049) \t Saving The Model\n",
      "Validation Loss Decreased(74.206049--->74.203812) \t Saving The Model\n",
      "Validation Loss Decreased(74.203812--->74.201605) \t Saving The Model\n",
      "Validation Loss Decreased(74.201605--->74.199441) \t Saving The Model\n",
      "Validation Loss Decreased(74.199441--->74.197303) \t Saving The Model\n",
      "Validation Loss Decreased(74.197303--->74.195191) \t Saving The Model\n",
      "Validation Loss Decreased(74.195191--->74.193110) \t Saving The Model\n",
      "Validation Loss Decreased(74.193110--->74.191055) \t Saving The Model\n",
      "Epoch 151 \t\t Training Loss: 0.0017901311601911272 \t\t Validation Loss: 0.42393729090690613\n",
      "Validation Loss Decreased(74.191055--->74.189026) \t Saving The Model\n",
      "Validation Loss Decreased(74.189026--->74.187018) \t Saving The Model\n",
      "Validation Loss Decreased(74.187018--->74.185041) \t Saving The Model\n",
      "Validation Loss Decreased(74.185041--->74.183091) \t Saving The Model\n",
      "Validation Loss Decreased(74.183091--->74.181151) \t Saving The Model\n",
      "Validation Loss Decreased(74.181151--->74.179231) \t Saving The Model\n",
      "Validation Loss Decreased(74.179231--->74.177323) \t Saving The Model\n",
      "Validation Loss Decreased(74.177323--->74.175461) \t Saving The Model\n",
      "Validation Loss Decreased(74.175461--->74.173583) \t Saving The Model\n",
      "Validation Loss Decreased(74.173583--->74.171747) \t Saving The Model\n",
      "Validation Loss Decreased(74.171747--->74.169906) \t Saving The Model\n",
      "Validation Loss Decreased(74.169906--->74.168076) \t Saving The Model\n",
      "Validation Loss Decreased(74.168076--->74.166261) \t Saving The Model\n",
      "Validation Loss Decreased(74.166261--->74.164477) \t Saving The Model\n",
      "Validation Loss Decreased(74.164477--->74.162683) \t Saving The Model\n",
      "Validation Loss Decreased(74.162683--->74.160904) \t Saving The Model\n",
      "Validation Loss Decreased(74.160904--->74.159121) \t Saving The Model\n",
      "Validation Loss Decreased(74.159121--->74.157332) \t Saving The Model\n",
      "Validation Loss Decreased(74.157332--->74.155553) \t Saving The Model\n",
      "Validation Loss Decreased(74.155553--->74.153780) \t Saving The Model\n",
      "Validation Loss Decreased(74.153780--->74.152017) \t Saving The Model\n",
      "Validation Loss Decreased(74.152017--->74.150255) \t Saving The Model\n",
      "Validation Loss Decreased(74.150255--->74.148497) \t Saving The Model\n",
      "Validation Loss Decreased(74.148497--->74.146729) \t Saving The Model\n",
      "Validation Loss Decreased(74.146729--->74.144982) \t Saving The Model\n",
      "Validation Loss Decreased(74.144982--->74.143235) \t Saving The Model\n",
      "Validation Loss Decreased(74.143235--->74.141503) \t Saving The Model\n",
      "Validation Loss Decreased(74.141503--->74.139787) \t Saving The Model\n",
      "Validation Loss Decreased(74.139787--->74.138071) \t Saving The Model\n",
      "Validation Loss Decreased(74.138071--->74.136376) \t Saving The Model\n",
      "Validation Loss Decreased(74.136376--->74.134697) \t Saving The Model\n",
      "Validation Loss Decreased(74.134697--->74.133028) \t Saving The Model\n",
      "Validation Loss Decreased(74.133028--->74.131380) \t Saving The Model\n",
      "Validation Loss Decreased(74.131380--->74.129732) \t Saving The Model\n",
      "Validation Loss Decreased(74.129732--->74.128115) \t Saving The Model\n",
      "Validation Loss Decreased(74.128115--->74.126519) \t Saving The Model\n",
      "Validation Loss Decreased(74.126519--->74.124923) \t Saving The Model\n",
      "Validation Loss Decreased(74.124923--->74.123343) \t Saving The Model\n",
      "Validation Loss Decreased(74.123343--->74.121794) \t Saving The Model\n",
      "Validation Loss Decreased(74.121794--->74.120256) \t Saving The Model\n",
      "Validation Loss Decreased(74.120256--->74.118712) \t Saving The Model\n",
      "Validation Loss Decreased(74.118712--->74.117189) \t Saving The Model\n",
      "Validation Loss Decreased(74.117189--->74.115645) \t Saving The Model\n",
      "Validation Loss Decreased(74.115645--->74.114122) \t Saving The Model\n",
      "Validation Loss Decreased(74.114122--->74.112594) \t Saving The Model\n",
      "Validation Loss Decreased(74.112594--->74.111082) \t Saving The Model\n",
      "Validation Loss Decreased(74.111082--->74.109595) \t Saving The Model\n",
      "Validation Loss Decreased(74.109595--->74.108114) \t Saving The Model\n",
      "Validation Loss Decreased(74.108114--->74.106628) \t Saving The Model\n",
      "Validation Loss Decreased(74.106628--->74.105188) \t Saving The Model\n",
      "Epoch 201 \t\t Training Loss: 0.0017901182174682618 \t\t Validation Loss: 0.42344996333122253\n",
      "Validation Loss Decreased(74.105188--->74.103744) \t Saving The Model\n",
      "Validation Loss Decreased(74.103744--->74.102320) \t Saving The Model\n",
      "Validation Loss Decreased(74.102320--->74.100906) \t Saving The Model\n",
      "Validation Loss Decreased(74.100906--->74.099519) \t Saving The Model\n",
      "Validation Loss Decreased(74.099519--->74.098121) \t Saving The Model\n",
      "Validation Loss Decreased(74.098121--->74.096739) \t Saving The Model\n",
      "Validation Loss Decreased(74.096739--->74.095373) \t Saving The Model\n",
      "Validation Loss Decreased(74.095373--->74.094022) \t Saving The Model\n",
      "Validation Loss Decreased(74.094022--->74.092687) \t Saving The Model\n",
      "Validation Loss Decreased(74.092687--->74.091352) \t Saving The Model\n",
      "Validation Loss Decreased(74.091352--->74.090058) \t Saving The Model\n",
      "Validation Loss Decreased(74.090058--->74.088770) \t Saving The Model\n",
      "Validation Loss Decreased(74.088770--->74.087487) \t Saving The Model\n",
      "Validation Loss Decreased(74.087487--->74.086225) \t Saving The Model\n",
      "Validation Loss Decreased(74.086225--->74.084999) \t Saving The Model\n",
      "Validation Loss Decreased(74.084999--->74.083784) \t Saving The Model\n",
      "Validation Loss Decreased(74.083784--->74.082590) \t Saving The Model\n",
      "Validation Loss Decreased(74.082590--->74.081396) \t Saving The Model\n",
      "Validation Loss Decreased(74.081396--->74.080222) \t Saving The Model\n",
      "Validation Loss Decreased(74.080222--->74.079064) \t Saving The Model\n",
      "Validation Loss Decreased(74.079064--->74.077933) \t Saving The Model\n",
      "Validation Loss Decreased(74.077933--->74.076811) \t Saving The Model\n",
      "Validation Loss Decreased(74.076811--->74.075700) \t Saving The Model\n",
      "Validation Loss Decreased(74.075700--->74.074595) \t Saving The Model\n",
      "Validation Loss Decreased(74.074595--->74.073499) \t Saving The Model\n",
      "Validation Loss Decreased(74.073499--->74.072456) \t Saving The Model\n",
      "Validation Loss Decreased(74.072456--->74.071429) \t Saving The Model\n",
      "Validation Loss Decreased(74.071429--->74.070396) \t Saving The Model\n",
      "Validation Loss Decreased(74.070396--->74.069395) \t Saving The Model\n",
      "Validation Loss Decreased(74.069395--->74.068399) \t Saving The Model\n",
      "Validation Loss Decreased(74.068399--->74.067408) \t Saving The Model\n",
      "Validation Loss Decreased(74.067408--->74.066453) \t Saving The Model\n",
      "Validation Loss Decreased(74.066453--->74.065473) \t Saving The Model\n",
      "Validation Loss Decreased(74.065473--->74.064524) \t Saving The Model\n",
      "Validation Loss Decreased(74.064524--->74.063601) \t Saving The Model\n",
      "Validation Loss Decreased(74.063601--->74.062677) \t Saving The Model\n",
      "Validation Loss Decreased(74.062677--->74.061770) \t Saving The Model\n",
      "Validation Loss Decreased(74.061770--->74.060873) \t Saving The Model\n",
      "Validation Loss Decreased(74.060873--->74.060012) \t Saving The Model\n",
      "Validation Loss Decreased(74.060012--->74.059141) \t Saving The Model\n",
      "Validation Loss Decreased(74.059141--->74.058281) \t Saving The Model\n",
      "Validation Loss Decreased(74.058281--->74.057452) \t Saving The Model\n",
      "Validation Loss Decreased(74.057452--->74.056628) \t Saving The Model\n",
      "Validation Loss Decreased(74.056628--->74.055804) \t Saving The Model\n",
      "Validation Loss Decreased(74.055804--->74.055000) \t Saving The Model\n",
      "Validation Loss Decreased(74.055000--->74.054208) \t Saving The Model\n",
      "Validation Loss Decreased(74.054208--->74.053404) \t Saving The Model\n",
      "Validation Loss Decreased(74.053404--->74.052622) \t Saving The Model\n",
      "Validation Loss Decreased(74.052622--->74.051835) \t Saving The Model\n",
      "Validation Loss Decreased(74.051835--->74.051042) \t Saving The Model\n",
      "Epoch 251 \t\t Training Loss: 0.0017901059559413365 \t\t Validation Loss: 0.4231443703174591\n",
      "Validation Loss Decreased(74.051042--->74.050265) \t Saving The Model\n",
      "Validation Loss Decreased(74.050265--->74.049509) \t Saving The Model\n",
      "Validation Loss Decreased(74.049509--->74.048752) \t Saving The Model\n",
      "Validation Loss Decreased(74.048752--->74.048012) \t Saving The Model\n",
      "Validation Loss Decreased(74.048012--->74.047287) \t Saving The Model\n",
      "Validation Loss Decreased(74.047287--->74.046578) \t Saving The Model\n",
      "Validation Loss Decreased(74.046578--->74.045868) \t Saving The Model\n",
      "Validation Loss Decreased(74.045868--->74.045206) \t Saving The Model\n",
      "Validation Loss Decreased(74.045206--->74.044554) \t Saving The Model\n",
      "Validation Loss Decreased(74.044554--->74.043912) \t Saving The Model\n",
      "Validation Loss Decreased(74.043912--->74.043266) \t Saving The Model\n",
      "Validation Loss Decreased(74.043266--->74.042635) \t Saving The Model\n",
      "Validation Loss Decreased(74.042635--->74.042014) \t Saving The Model\n",
      "Validation Loss Decreased(74.042014--->74.041383) \t Saving The Model\n",
      "Validation Loss Decreased(74.041383--->74.040762) \t Saving The Model\n",
      "Validation Loss Decreased(74.040762--->74.040152) \t Saving The Model\n",
      "Validation Loss Decreased(74.040152--->74.039542) \t Saving The Model\n",
      "Validation Loss Decreased(74.039542--->74.038942) \t Saving The Model\n",
      "Validation Loss Decreased(74.038942--->74.038353) \t Saving The Model\n",
      "Validation Loss Decreased(74.038353--->74.037774) \t Saving The Model\n",
      "Validation Loss Decreased(74.037774--->74.037195) \t Saving The Model\n",
      "Validation Loss Decreased(74.037195--->74.036611) \t Saving The Model\n",
      "Validation Loss Decreased(74.036611--->74.036042) \t Saving The Model\n",
      "Validation Loss Decreased(74.036042--->74.035469) \t Saving The Model\n",
      "Validation Loss Decreased(74.035469--->74.034911) \t Saving The Model\n",
      "Validation Loss Decreased(74.034911--->74.034353) \t Saving The Model\n",
      "Validation Loss Decreased(74.034353--->74.033821) \t Saving The Model\n",
      "Validation Loss Decreased(74.033821--->74.033294) \t Saving The Model\n",
      "Validation Loss Decreased(74.033294--->74.032793) \t Saving The Model\n",
      "Validation Loss Decreased(74.032793--->74.032282) \t Saving The Model\n",
      "Validation Loss Decreased(74.032282--->74.031776) \t Saving The Model\n",
      "Validation Loss Decreased(74.031776--->74.031281) \t Saving The Model\n",
      "Validation Loss Decreased(74.031281--->74.030801) \t Saving The Model\n",
      "Validation Loss Decreased(74.030801--->74.030321) \t Saving The Model\n",
      "Validation Loss Decreased(74.030321--->74.029852) \t Saving The Model\n",
      "Validation Loss Decreased(74.029852--->74.029398) \t Saving The Model\n",
      "Validation Loss Decreased(74.029398--->74.028923) \t Saving The Model\n",
      "Validation Loss Decreased(74.028923--->74.028449) \t Saving The Model\n",
      "Validation Loss Decreased(74.028449--->74.027990) \t Saving The Model\n",
      "Validation Loss Decreased(74.027990--->74.027526) \t Saving The Model\n",
      "Validation Loss Decreased(74.027526--->74.027067) \t Saving The Model\n",
      "Validation Loss Decreased(74.027067--->74.026634) \t Saving The Model\n",
      "Validation Loss Decreased(74.026634--->74.026201) \t Saving The Model\n",
      "Validation Loss Decreased(74.026201--->74.025747) \t Saving The Model\n",
      "Validation Loss Decreased(74.025747--->74.025299) \t Saving The Model\n",
      "Validation Loss Decreased(74.025299--->74.024850) \t Saving The Model\n",
      "Validation Loss Decreased(74.024850--->74.024407) \t Saving The Model\n",
      "Validation Loss Decreased(74.024407--->74.023984) \t Saving The Model\n",
      "Validation Loss Decreased(74.023984--->74.023572) \t Saving The Model\n",
      "Validation Loss Decreased(74.023572--->74.023176) \t Saving The Model\n",
      "Epoch 301 \t\t Training Loss: 0.0017900947162083217 \t\t Validation Loss: 0.42298728227615356\n",
      "Validation Loss Decreased(74.023176--->74.022774) \t Saving The Model\n",
      "Validation Loss Decreased(74.022774--->74.022394) \t Saving The Model\n",
      "Validation Loss Decreased(74.022394--->74.022003) \t Saving The Model\n",
      "Validation Loss Decreased(74.022003--->74.021627) \t Saving The Model\n",
      "Validation Loss Decreased(74.021627--->74.021272) \t Saving The Model\n",
      "Validation Loss Decreased(74.021272--->74.020912) \t Saving The Model\n",
      "Validation Loss Decreased(74.020912--->74.020553) \t Saving The Model\n",
      "Validation Loss Decreased(74.020553--->74.020219) \t Saving The Model\n",
      "Validation Loss Decreased(74.020219--->74.019890) \t Saving The Model\n",
      "Validation Loss Decreased(74.019890--->74.019577) \t Saving The Model\n",
      "Validation Loss Decreased(74.019577--->74.019249) \t Saving The Model\n",
      "Validation Loss Decreased(74.019249--->74.018931) \t Saving The Model\n",
      "Validation Loss Decreased(74.018931--->74.018618) \t Saving The Model\n",
      "Validation Loss Decreased(74.018618--->74.018305) \t Saving The Model\n",
      "Validation Loss Decreased(74.018305--->74.017997) \t Saving The Model\n",
      "Validation Loss Decreased(74.017997--->74.017700) \t Saving The Model\n",
      "Validation Loss Decreased(74.017700--->74.017403) \t Saving The Model\n",
      "Validation Loss Decreased(74.017403--->74.017121) \t Saving The Model\n",
      "Validation Loss Decreased(74.017121--->74.016844) \t Saving The Model\n",
      "Validation Loss Decreased(74.016844--->74.016563) \t Saving The Model\n",
      "Validation Loss Decreased(74.016563--->74.016286) \t Saving The Model\n",
      "Validation Loss Decreased(74.016286--->74.016015) \t Saving The Model\n",
      "Validation Loss Decreased(74.016015--->74.015739) \t Saving The Model\n",
      "Validation Loss Decreased(74.015739--->74.015478) \t Saving The Model\n",
      "Validation Loss Decreased(74.015478--->74.015238) \t Saving The Model\n",
      "Validation Loss Decreased(74.015238--->74.015009) \t Saving The Model\n",
      "Validation Loss Decreased(74.015009--->74.014795) \t Saving The Model\n",
      "Validation Loss Decreased(74.014795--->74.014529) \t Saving The Model\n",
      "Validation Loss Decreased(74.014529--->74.014268) \t Saving The Model\n",
      "Validation Loss Decreased(74.014268--->74.014002) \t Saving The Model\n",
      "Validation Loss Decreased(74.014002--->74.013762) \t Saving The Model\n",
      "Validation Loss Decreased(74.013762--->74.013512) \t Saving The Model\n",
      "Validation Loss Decreased(74.013512--->74.013235) \t Saving The Model\n",
      "Validation Loss Decreased(74.013235--->74.012917) \t Saving The Model\n",
      "Validation Loss Decreased(74.012917--->74.012589) \t Saving The Model\n",
      "Validation Loss Decreased(74.012589--->74.012244) \t Saving The Model\n",
      "Validation Loss Decreased(74.012244--->74.011879) \t Saving The Model\n",
      "Validation Loss Decreased(74.011879--->74.011556) \t Saving The Model\n",
      "Validation Loss Decreased(74.011556--->74.011301) \t Saving The Model\n",
      "Validation Loss Decreased(74.011301--->74.011024) \t Saving The Model\n",
      "Validation Loss Decreased(74.011024--->74.010742) \t Saving The Model\n",
      "Validation Loss Decreased(74.010742--->74.010461) \t Saving The Model\n",
      "Validation Loss Decreased(74.010461--->74.010195) \t Saving The Model\n",
      "Validation Loss Decreased(74.010195--->74.009908) \t Saving The Model\n",
      "Validation Loss Decreased(74.009908--->74.009642) \t Saving The Model\n",
      "Validation Loss Decreased(74.009642--->74.009371) \t Saving The Model\n",
      "Validation Loss Decreased(74.009371--->74.009094) \t Saving The Model\n",
      "Validation Loss Decreased(74.009094--->74.008828) \t Saving The Model\n",
      "Validation Loss Decreased(74.008828--->74.008588) \t Saving The Model\n",
      "Validation Loss Decreased(74.008588--->74.008364) \t Saving The Model\n",
      "Epoch 351 \t\t Training Loss: 0.0017900850091661727 \t\t Validation Loss: 0.4229036569595337\n",
      "Validation Loss Decreased(74.008364--->74.008140) \t Saving The Model\n",
      "Validation Loss Decreased(74.008140--->74.007910) \t Saving The Model\n",
      "Validation Loss Decreased(74.007910--->74.007691) \t Saving The Model\n",
      "Validation Loss Decreased(74.007691--->74.007462) \t Saving The Model\n",
      "Validation Loss Decreased(74.007462--->74.007238) \t Saving The Model\n",
      "Validation Loss Decreased(74.007238--->74.007019) \t Saving The Model\n",
      "Validation Loss Decreased(74.007019--->74.006820) \t Saving The Model\n",
      "Validation Loss Decreased(74.006820--->74.006622) \t Saving The Model\n",
      "Validation Loss Decreased(74.006622--->74.006419) \t Saving The Model\n",
      "Validation Loss Decreased(74.006419--->74.006231) \t Saving The Model\n",
      "Validation Loss Decreased(74.006231--->74.006028) \t Saving The Model\n",
      "Validation Loss Decreased(74.006028--->74.005835) \t Saving The Model\n",
      "Validation Loss Decreased(74.005835--->74.005652) \t Saving The Model\n",
      "Validation Loss Decreased(74.005652--->74.005454) \t Saving The Model\n",
      "Validation Loss Decreased(74.005454--->74.005271) \t Saving The Model\n",
      "Validation Loss Decreased(74.005271--->74.005105) \t Saving The Model\n",
      "Validation Loss Decreased(74.005105--->74.004912) \t Saving The Model\n",
      "Validation Loss Decreased(74.004912--->74.004740) \t Saving The Model\n",
      "Validation Loss Decreased(74.004740--->74.004583) \t Saving The Model\n",
      "Validation Loss Decreased(74.004583--->74.004416) \t Saving The Model\n",
      "Validation Loss Decreased(74.004416--->74.004270) \t Saving The Model\n",
      "Validation Loss Decreased(74.004270--->74.004114) \t Saving The Model\n",
      "Validation Loss Decreased(74.004114--->74.003952) \t Saving The Model\n",
      "Validation Loss Decreased(74.003952--->74.003801) \t Saving The Model\n",
      "Validation Loss Decreased(74.003801--->74.003644) \t Saving The Model\n",
      "Validation Loss Decreased(74.003644--->74.003488) \t Saving The Model\n",
      "Validation Loss Decreased(74.003488--->74.003342) \t Saving The Model\n",
      "Validation Loss Decreased(74.003342--->74.003175) \t Saving The Model\n",
      "Validation Loss Decreased(74.003175--->74.003034) \t Saving The Model\n",
      "Validation Loss Decreased(74.003034--->74.002883) \t Saving The Model\n",
      "Validation Loss Decreased(74.002883--->74.002752) \t Saving The Model\n",
      "Validation Loss Decreased(74.002752--->74.002622) \t Saving The Model\n",
      "Validation Loss Decreased(74.002622--->74.002497) \t Saving The Model\n",
      "Validation Loss Decreased(74.002497--->74.002367) \t Saving The Model\n",
      "Validation Loss Decreased(74.002367--->74.002236) \t Saving The Model\n",
      "Validation Loss Decreased(74.002236--->74.002101) \t Saving The Model\n",
      "Validation Loss Decreased(74.002101--->74.001986) \t Saving The Model\n",
      "Validation Loss Decreased(74.001986--->74.001855) \t Saving The Model\n",
      "Validation Loss Decreased(74.001855--->74.001746) \t Saving The Model\n",
      "Validation Loss Decreased(74.001746--->74.001657) \t Saving The Model\n",
      "Validation Loss Decreased(74.001657--->74.001548) \t Saving The Model\n",
      "Validation Loss Decreased(74.001548--->74.001464) \t Saving The Model\n",
      "Validation Loss Decreased(74.001464--->74.001365) \t Saving The Model\n",
      "Validation Loss Decreased(74.001365--->74.001282) \t Saving The Model\n",
      "Validation Loss Decreased(74.001282--->74.001183) \t Saving The Model\n",
      "Validation Loss Decreased(74.001183--->74.001084) \t Saving The Model\n",
      "Validation Loss Decreased(74.001084--->74.000990) \t Saving The Model\n",
      "Validation Loss Decreased(74.000990--->74.000906) \t Saving The Model\n",
      "Validation Loss Decreased(74.000906--->74.000807) \t Saving The Model\n",
      "Validation Loss Decreased(74.000807--->74.000718) \t Saving The Model\n",
      "Epoch 401 \t\t Training Loss: 0.0017900776863098145 \t\t Validation Loss: 0.4228608012199402\n",
      "Validation Loss Decreased(74.000718--->74.000640) \t Saving The Model\n",
      "Validation Loss Decreased(74.000640--->74.000557) \t Saving The Model\n",
      "Validation Loss Decreased(74.000557--->74.000473) \t Saving The Model\n",
      "Validation Loss Decreased(74.000473--->74.000390) \t Saving The Model\n",
      "Validation Loss Decreased(74.000390--->74.000306) \t Saving The Model\n",
      "Validation Loss Decreased(74.000306--->74.000213) \t Saving The Model\n",
      "Validation Loss Decreased(74.000213--->74.000129) \t Saving The Model\n",
      "Validation Loss Decreased(74.000129--->74.000030) \t Saving The Model\n",
      "Validation Loss Decreased(74.000030--->73.999952) \t Saving The Model\n",
      "Validation Loss Decreased(73.999952--->73.999868) \t Saving The Model\n",
      "Validation Loss Decreased(73.999868--->73.999795) \t Saving The Model\n",
      "Validation Loss Decreased(73.999795--->73.999717) \t Saving The Model\n",
      "Validation Loss Decreased(73.999717--->73.999655) \t Saving The Model\n",
      "Validation Loss Decreased(73.999655--->73.999587) \t Saving The Model\n",
      "Validation Loss Decreased(73.999587--->73.999519) \t Saving The Model\n",
      "Validation Loss Decreased(73.999519--->73.999467) \t Saving The Model\n",
      "Validation Loss Decreased(73.999467--->73.999399) \t Saving The Model\n",
      "Validation Loss Decreased(73.999399--->73.999342) \t Saving The Model\n",
      "Validation Loss Decreased(73.999342--->73.999284) \t Saving The Model\n",
      "Validation Loss Decreased(73.999284--->73.999237) \t Saving The Model\n",
      "Validation Loss Decreased(73.999237--->73.999190) \t Saving The Model\n",
      "Validation Loss Decreased(73.999190--->73.999143) \t Saving The Model\n",
      "Validation Loss Decreased(73.999143--->73.999102) \t Saving The Model\n",
      "Validation Loss Decreased(73.999102--->73.999060) \t Saving The Model\n",
      "Validation Loss Decreased(73.999060--->73.999018) \t Saving The Model\n",
      "Validation Loss Decreased(73.999018--->73.998971) \t Saving The Model\n",
      "Validation Loss Decreased(73.998971--->73.998924) \t Saving The Model\n",
      "Validation Loss Decreased(73.998924--->73.998877) \t Saving The Model\n",
      "Validation Loss Decreased(73.998877--->73.998830) \t Saving The Model\n",
      "Validation Loss Decreased(73.998830--->73.998789) \t Saving The Model\n",
      "Validation Loss Decreased(73.998789--->73.998747) \t Saving The Model\n",
      "Validation Loss Decreased(73.998747--->73.998705) \t Saving The Model\n",
      "Validation Loss Decreased(73.998705--->73.998658) \t Saving The Model\n",
      "Validation Loss Decreased(73.998658--->73.998617) \t Saving The Model\n",
      "Validation Loss Decreased(73.998617--->73.998564) \t Saving The Model\n",
      "Validation Loss Decreased(73.998564--->73.998518) \t Saving The Model\n",
      "Validation Loss Decreased(73.998518--->73.998481) \t Saving The Model\n",
      "Validation Loss Decreased(73.998481--->73.998450) \t Saving The Model\n",
      "Validation Loss Decreased(73.998450--->73.998413) \t Saving The Model\n",
      "Validation Loss Decreased(73.998413--->73.998382) \t Saving The Model\n",
      "Validation Loss Decreased(73.998382--->73.998361) \t Saving The Model\n",
      "Validation Loss Decreased(73.998361--->73.998319) \t Saving The Model\n",
      "Validation Loss Decreased(73.998319--->73.998304) \t Saving The Model\n",
      "Validation Loss Decreased(73.998304--->73.998283) \t Saving The Model\n",
      "Validation Loss Decreased(73.998283--->73.998252) \t Saving The Model\n",
      "Validation Loss Decreased(73.998252--->73.998246) \t Saving The Model\n",
      "Validation Loss Decreased(73.998246--->73.998220) \t Saving The Model\n",
      "Validation Loss Decreased(73.998220--->73.998199) \t Saving The Model\n",
      "Validation Loss Decreased(73.998199--->73.998179) \t Saving The Model\n",
      "Epoch 451 \t\t Training Loss: 0.0017900732585362025 \t\t Validation Loss: 0.42284658551216125\n",
      "Validation Loss Decreased(73.998179--->73.998152) \t Saving The Model\n",
      "Validation Loss Decreased(73.998152--->73.998147) \t Saving The Model\n",
      "Validation Loss Decreased(73.998147--->73.998132) \t Saving The Model\n",
      "Validation Loss Decreased(73.998132--->73.998116) \t Saving The Model\n",
      "Validation Loss Decreased(73.998116--->73.998106) \t Saving The Model\n",
      "Validation Loss Decreased(73.998106--->73.998100) \t Saving The Model\n",
      "Validation Loss Decreased(73.998100--->73.998079) \t Saving The Model\n"
     ]
    }
   ],
   "source": [
    "# Model\n",
    "class Model(nn.Module):\n",
    "    def __init__(self):\n",
    "        super().__init__()\n",
    "        self.linear1 = nn.Linear(train_features.shape[1], nodes)\n",
    "        self.relu1 = activation1\n",
    "        self.linear2 = nn.Linear(nodes, nodes)\n",
    "        self.relu2 = activation1\n",
    "        self.linear3 = nn.Linear(nodes, nodes)\n",
    "        self.relu3 = activation1\n",
    "        self.linear4 = nn.Linear(nodes, nodes)\n",
    "        self.relu4 = activation1\n",
    "        self.linear5 = nn.Linear(nodes, nodes)\n",
    "        self.relu5 = activation1\n",
    "        self.linear6 = nn.Linear(nodes, nodes)\n",
    "        self.relu6 = activation1\n",
    "        self.linear7 = nn.Linear(nodes, nodes)\n",
    "        self.relu7 = activation1\n",
    "        self.linear8 = nn.Linear(nodes, nodes)\n",
    "        self.relu8 = activation1\n",
    "        self.linear9 = nn.Linear(nodes, nodes)\n",
    "        self.relu9 = activation1\n",
    "        self.linear10 = nn.Linear(nodes, 2)\n",
    "        self.relu10 = activation2\n",
    "        \n",
    "    def forward(self, x):\n",
    "        out1 = self.linear1(x)\n",
    "        out2 = self.relu1(out1)\n",
    "        out3 = self.relu2(self.linear2(out2))\n",
    "        out4 = self.relu3(self.linear3(out3))\n",
    "        out5 = self.relu4(self.linear4(out4))\n",
    "        out6 = self.relu5(self.linear5(out5))\n",
    "        out7 = self.relu6(self.linear6(out6))\n",
    "        out8 = self.relu7(self.linear7(out7))\n",
    "        out9 = self.relu8(self.linear8(out8))\n",
    "        out10 = self.relu9(self.linear9(out9))\n",
    "        out11 = self.relu10(self.linear10(out10))\n",
    "        return out11\n",
    "\n",
    "    \n",
    "model = Model()\n",
    "\n",
    "import numpy as np\n",
    "min_valid_loss = np.inf\n",
    "\n",
    "input_tensor = torch.from_numpy(train_features).type(torch.FloatTensor)\n",
    "label_tensor = torch.from_numpy(train_labels)\n",
    "\n",
    "val_input_tensor = torch.from_numpy(val_features).type(torch.FloatTensor)\n",
    "val_label_tensor = torch.from_numpy(val_labels)\n",
    "for e in range(num_epochs):\n",
    "    train_loss = 0.0\n",
    "    #model.train()     # Optional when not using Model Specific layer\n",
    "    if loss == 'MAE':\n",
    "        criterion = nn.L1Loss()\n",
    "    elif loss == 'CrossEntropyLoss':    \n",
    "        criterion = nn.CrossEntropyLoss()\n",
    "    elif loss == 'MSE':    \n",
    "        criterion = nn.MSELoss()\n",
    "    elif loss == 'BCE':    \n",
    "        criterion = nn.BCELoss()\n",
    "    elif loss == 'BCEWithLogitsLoss':\n",
    "        criterion = nn.BCEWithLogitsLoss\n",
    "    if optimizer == 'Adam':\n",
    "        optimizer = torch.optim.Adam(model.parameters(), lr=lr)\n",
    "    elif optimizer == 'Adamax':\n",
    "        optimizer = torch.optim.Adamax(model.parameters(), lr=lr)\n",
    "    elif optimizer == 'Adagrad':\n",
    "        optimizer = torch.optim.Adagrad(model.parameters(), lr=lr)\n",
    "    optimizer.zero_grad()\n",
    "    target = model(input_tensor)\n",
    "    loss = criterion(target, label_tensor)\n",
    "    loss.backward()\n",
    "    optimizer.step()\n",
    "    train_loss += loss.item()\n",
    "    \n",
    "    valid_loss = 0.0\n",
    "    model.eval()     # Optional when not using Model Specific layer\n",
    "\n",
    "\n",
    "    target = model(val_input_tensor)\n",
    "    loss = criterion(target,val_label_tensor)\n",
    "    valid_loss = loss.item() * val_input_tensor.size(0)\n",
    "    if e % 50 == 0:\n",
    "        print(f'Epoch {e+1} \\t\\t Training Loss: {train_loss / len(val_input_tensor)} \\t\\t Validation Loss: {valid_loss / len(val_input_tensor)}')\n",
    "    if min_valid_loss > valid_loss:\n",
    "        print(f'Validation Loss Decreased({min_valid_loss:.6f}--->{valid_loss:.6f}) \\t Saving The Model')\n",
    "        min_valid_loss = valid_loss\n",
    "        # Saving State Dict\n",
    "        torch.save(model.state_dict(), 'saved_model.pth')\n",
    "\n",
    "#input_tensor = torch.from_numpy(train_features).type(torch.FloatTensor)\n",
    "test_input_tensor = torch.from_numpy(test_features).type(torch.FloatTensor)"
   ]
  },
  {
   "cell_type": "code",
   "execution_count": 77,
   "id": "efb27f83-8e6d-49b6-bc67-ba7fd838951f",
   "metadata": {},
   "outputs": [
    {
     "name": "stdout",
     "output_type": "stream",
     "text": [
      "Train Accuracy: 1.0\n"
     ]
    },
    {
     "name": "stderr",
     "output_type": "stream",
     "text": [
      "/tmp/ipykernel_6163/3942551225.py:37: UserWarning: Implicit dimension choice for softmax has been deprecated. Change the call to include dim=X as an argument.\n",
      "  out11 = self.relu10(self.linear10(out10))\n"
     ]
    }
   ],
   "source": [
    "out_probs_train = model(input_tensor).detach().numpy()\n",
    "out_classes_train = np.argmax(out_probs_train, axis=1)\n",
    "train_acc = sum(out_classes_train == train_labels) / len(train_labels)\n",
    "print(\"Train Accuracy:\", train_acc)"
   ]
  },
  {
   "cell_type": "code",
   "execution_count": 78,
   "id": "c155719e-cb60-4f68-a45e-53f63651638a",
   "metadata": {},
   "outputs": [
    {
     "name": "stdout",
     "output_type": "stream",
     "text": [
      "Test Accuracy: 0.8857142857142857\n"
     ]
    },
    {
     "name": "stderr",
     "output_type": "stream",
     "text": [
      "/tmp/ipykernel_6163/3942551225.py:37: UserWarning: Implicit dimension choice for softmax has been deprecated. Change the call to include dim=X as an argument.\n",
      "  out11 = self.relu10(self.linear10(out10))\n"
     ]
    }
   ],
   "source": [
    "val_input_tensor = torch.from_numpy(val_features).type(torch.FloatTensor)\n",
    "out_probs_val = model(val_input_tensor).detach().numpy()\n",
    "out_classes_val = np.argmax(out_probs_val, axis=1)\n",
    "val_acc = sum(out_classes_val == val_labels) / len(val_labels)\n",
    "print(\"Test Accuracy:\", val_acc)"
   ]
  },
  {
   "cell_type": "code",
   "execution_count": 79,
   "id": "cb2c37d3-1a62-4f17-90e4-0bd9b3a1b638",
   "metadata": {},
   "outputs": [
    {
     "name": "stdout",
     "output_type": "stream",
     "text": [
      "Test Accuracy: 0.8936170212765957\n"
     ]
    },
    {
     "name": "stderr",
     "output_type": "stream",
     "text": [
      "/tmp/ipykernel_6163/3942551225.py:37: UserWarning: Implicit dimension choice for softmax has been deprecated. Change the call to include dim=X as an argument.\n",
      "  out11 = self.relu10(self.linear10(out10))\n"
     ]
    }
   ],
   "source": [
    "test_input_tensor = torch.from_numpy(test_features).type(torch.FloatTensor)\n",
    "out_probs_test = model(test_input_tensor).detach().numpy()\n",
    "out_classes_test = np.argmax(out_probs_test, axis=1)\n",
    "test_acc = sum(out_classes_test == test_labels) / len(test_labels)\n",
    "print(\"Test Accuracy:\", test_acc)"
   ]
  },
  {
   "cell_type": "code",
   "execution_count": 80,
   "id": "d211e543-55f2-4db9-a3df-05a1af771cd3",
   "metadata": {},
   "outputs": [],
   "source": [
    "r_probs = [0 for _ in range(len(y_test))]"
   ]
  },
  {
   "cell_type": "code",
   "execution_count": 81,
   "id": "a3372653-157a-4f48-8e4e-6e356c54e906",
   "metadata": {},
   "outputs": [],
   "source": [
    "test_labels = test_labels.astype('float32')"
   ]
  },
  {
   "cell_type": "code",
   "execution_count": 82,
   "id": "8e60985d-3975-4f8c-a71f-e9fab70cceb0",
   "metadata": {},
   "outputs": [],
   "source": [
    "from sklearn.metrics import roc_curve, roc_auc_score\n",
    "#Random chance ROC\n",
    "r_auc = roc_auc_score(test_labels, r_probs)\n",
    "r_fpr, r_tpr, _ = roc_curve(test_labels, r_probs)\n",
    "\n",
    "#Train ROC\n",
    "tr_fpr, tr_tpr, _ = roc_curve(train_labels, out_probs_train[:, 1])\n",
    "tr_auc = roc_auc_score(train_labels, out_probs_train[:, 1])\n",
    "\n",
    "#Val ROC\n",
    "val_fpr, val_tpr, _ = roc_curve(val_labels, out_probs_val[:, 1])\n",
    "val_auc = roc_auc_score(val_labels, out_probs_val[:, 1])\n",
    "\n",
    "#Test ROC\n",
    "fpr, tpr, _ = roc_curve(test_labels, out_probs_test[:, 1])\n",
    "auc = roc_auc_score(test_labels, out_probs_test[:, 1])"
   ]
  },
  {
   "cell_type": "code",
   "execution_count": 83,
   "id": "0ebf1959-2b9c-4ee2-8233-5134fda9251a",
   "metadata": {},
   "outputs": [
    {
     "name": "stdout",
     "output_type": "stream",
     "text": [
      "Random (chance) Prediction: AUROC = 0.500\n",
      "Test Prediction: AUROC = 0.886\n",
      "Train Prediction: AUROC = 1.000\n",
      "Val Prediction: AUROC = 0.957\n"
     ]
    }
   ],
   "source": [
    "print('Random (chance) Prediction: AUROC = %.3f' % (r_auc))\n",
    "print('Test Prediction: AUROC = %.3f' % (auc))\n",
    "print('Train Prediction: AUROC = %.3f' % (tr_auc))\n",
    "print('Val Prediction: AUROC = %.3f' % (val_auc))"
   ]
  },
  {
   "cell_type": "code",
   "execution_count": 84,
   "id": "be722774-7b85-498f-a33e-0b858c72abe0",
   "metadata": {},
   "outputs": [
    {
     "data": {
      "image/png": "[encoded data removed]",
      "text/plain": [
       "<Figure size 432x288 with 1 Axes>"
      ]
     },
     "metadata": {
      "needs_background": "light"
     },
     "output_type": "display_data"
    },
    {
     "name": "stderr",
     "output_type": "stream",
     "text": [
      "wandb: Network error (ReadTimeout), entering retry loop.\n",
      "wandb: Network error (ReadTimeout), entering retry loop.\n"
     ]
    }
   ],
   "source": [
    "# AUC Plots\n",
    "plt.plot(r_fpr, r_tpr, linestyle='--', label='Random prediction (AUROC = %0.3f)' % r_auc)\n",
    "plt.plot(tr_fpr, tr_tpr, marker='.', label='Train (AUROC = %0.3f)' % tr_auc)\n",
    "plt.plot(val_fpr, val_tpr, marker='.', label='Val (AUROC = %0.3f)' % val_auc)\n",
    "plt.plot(fpr, tpr, marker='.', label='Test (AUROC = %0.3f)' % auc)\n",
    "\n",
    "# Title\n",
    "plt.title('ROC Plot')\n",
    "# Axis labels\n",
    "plt.xlabel('False Positive Rate')\n",
    "plt.ylabel('True Positive Rate')\n",
    "# Show legend\n",
    "plt.legend(loc = 'lower right', prop={'size': 10}) \n",
    "plt.tight_layout()\n",
    "#plt.savefig(dataset + '_' + activation1 + '_' + activation2 + '_' + 'ROC_Curve' + kfold + '.png', bbox_inches = \"tight\")"
   ]
  },
  {
   "cell_type": "code",
   "execution_count": 30,
   "id": "6ee6d734-1f00-49fc-95f7-7bd2ad7d7484",
   "metadata": {
    "tags": []
   },
   "outputs": [],
   "source": [
    "# record more metrics in wandb\n",
    "wandb_run.log({'auc': auc, 'train_accuracy': train_acc, 'test_accuracy': test_acc})"
   ]
  },
  {
   "cell_type": "code",
   "execution_count": 31,
   "id": "ed855e67-6e20-48c5-a5be-63c8cd6d89bb",
   "metadata": {},
   "outputs": [
    {
     "name": "stderr",
     "output_type": "stream",
     "text": [
      "<ipython-input-21-51d084ecc3c6>:37: UserWarning: Implicit dimension choice for softmax has been deprecated. Change the call to include dim=X as an argument.\n",
      "  out11 = self.relu10(self.linear10(out10))\n"
     ]
    }
   ],
   "source": [
    "# set up integrated gradients \n",
    "ig = IntegratedGradients(model)\n",
    "\n",
    "# obtain integrated gradient attributes\n",
    "test_input_tensor.requires_grad_()\n",
    "attr, delta = ig.attribute(test_input_tensor,target=1, return_convergence_delta=True)\n",
    "attr = attr.detach().numpy()\n",
    "\n",
    "# get cpg islands\n",
    "feature_names = x_train.columns"
   ]
  },
  {
   "cell_type": "code",
   "execution_count": 32,
   "id": "8049a8df-305b-4c90-8131-789494fd2cf7",
   "metadata": {
    "tags": []
   },
   "outputs": [
    {
     "data": {
      "image/png": "[encoded data removed]",
      "text/plain": [
       "<Figure size 864x432 with 1 Axes>"
      ]
     },
     "metadata": {
      "needs_background": "light"
     },
     "output_type": "display_data"
    }
   ],
   "source": [
    "# Plot relative importance of cpg islands\n",
    "attributes = pd.DataFrame()\n",
    "cpg = []\n",
    "imp = []\n",
    "def visualize_importances(feature_names, importances, title=\"Average Feature Importances\", plot=True, axis_title=\"Features\"):\n",
    "    #print(title)\n",
    "    for i in range(len(feature_names)):\n",
    "        #print(feature_names[i], \": \", '%.3f'%(importances[i]))\n",
    "        cpg.append(feature_names[i])\n",
    "        imp.append(importances[i])\n",
    "    \n",
    "    \n",
    "    x_pos = (np.arange(len(feature_names)))\n",
    "    if plot:\n",
    "        plt.figure(figsize=(12,6))\n",
    "        plt.bar(x_pos, importances, align='center')\n",
    "        plt.xticks(x_pos, feature_names, wrap=True)\n",
    "        plt.xlabel(axis_title)\n",
    "        plt.title(title)\n",
    "attributes['CPG'] = cpg\n",
    "attributes['Attributes'] = imp\n",
    "visualize_importances(feature_names, np.mean(attr, axis=0))"
   ]
  },
  {
   "cell_type": "code",
   "execution_count": 33,
   "id": "5baf2f0a-93ea-47d6-973b-ccaa965a837e",
   "metadata": {},
   "outputs": [],
   "source": [
    "# collate data into dataframe\n",
    "attributes['CPG'] = cpg\n",
    "attributes['Attributes'] = imp\n",
    "attributes['Attributes Abs'] = np.abs(attributes['Attributes']) # Absolute value of attributes\n",
    "\n",
    "# Order df by descending absolute value of attributes\n",
    "attributes = attributes.sort_values(by = ['Attributes Abs'], ascending = False)\n",
    "\n",
    "at = attributes.reset_index()"
   ]
  },
  {
   "cell_type": "code",
   "execution_count": 34,
   "id": "f12ebc5b-9ef7-4498-b8cb-6d9f4c46b19e",
   "metadata": {},
   "outputs": [
    {
     "data": {
      "text/plain": [
       "Text(0.5, 1.0, 'Integrated Gradients Attributes')"
      ]
     },
     "execution_count": 34,
     "metadata": {},
     "output_type": "execute_result"
    },
    {
     "data": {
      "image/png": "[encoded data removed]",
      "text/plain": [
       "<Figure size 432x288 with 1 Axes>"
      ]
     },
     "metadata": {
      "needs_background": "light"
     },
     "output_type": "display_data"
    }
   ],
   "source": [
    "plt.plot(np.abs(at['Attributes Abs'][:1000]))\n",
    "plt.title('Integrated Gradients Attributes')"
   ]
  },
  {
   "cell_type": "code",
   "execution_count": 35,
   "id": "91c52fda-b782-4774-9bfa-c169bb84375d",
   "metadata": {},
   "outputs": [],
   "source": [
    "# Get top 500 CPG islands\n",
    "cpg_captum = attributes.iloc[:500,0].to_list()"
   ]
  },
  {
   "cell_type": "code",
   "execution_count": 36,
   "id": "7dea31d7-b9d2-4c30-b0c8-be779129752e",
   "metadata": {},
   "outputs": [],
   "source": [
    "# subset testing set CPG islands using top 500 CPG islands from IG \n",
    "top_500_cpg_df = x_test[x_test.columns.intersection(cpg_captum)]"
   ]
  },
  {
   "cell_type": "code",
   "execution_count": 37,
   "id": "72eec789-0e75-43fe-8963-701b648353bc",
   "metadata": {},
   "outputs": [],
   "source": [
    "# set up color map\n",
    "color_list = ['r', 'b', 'g', 'y', 'k', 'm']\n",
    "vals_1 = y_test.unique()\n",
    "lut_1 = dict(zip(vals_1, ''.join(color_list[:len(vals_1)])))\n",
    "row_colors_1 = y_test.map(lut_1).values"
   ]
  },
  {
   "cell_type": "code",
   "execution_count": 39,
   "id": "0b375dfd-1071-4484-a0b8-2c09b6c1e784",
   "metadata": {},
   "outputs": [
    {
     "data": {
      "image/png": "[encoded data removed]",
      "text/plain": [
       "<Figure size 720x720 with 5 Axes>"
      ]
     },
     "metadata": {
      "needs_background": "light"
     },
     "output_type": "display_data"
    }
   ],
   "source": [
    "import seaborn as sns\n",
    "g = sns.clustermap(top_500_cpg_df, standard_scale=1, row_colors=row_colors_1)\n",
    "g.ax_heatmap.tick_params(right=False, bottom=False, labelbottom=False, labelright=False)\n",
    "#g.fig.suptitle(\"Pytorch Grouping extremes train, extreme visualize clustermap\")"
   ]
  },
  {
   "cell_type": "code",
   "execution_count": null,
   "id": "9e961438-f543-478f-bb73-cb6792bd75ee",
   "metadata": {},
   "outputs": [],
   "source": []
  }
 ],
 "metadata": {
  "kernelspec": {
   "display_name": "Python 3 (ipykernel)",
   "language": "python",
   "name": "python3"
  },
  "language_info": {
   "codemirror_mode": {
    "name": "ipython",
    "version": 3
   },
   "file_extension": ".py",
   "mimetype": "text/x-python",
   "name": "python",
   "nbconvert_exporter": "python",
   "pygments_lexer": "ipython3",
   "version": "3.8.12"
  }
 },
 "nbformat": 4,
 "nbformat_minor": 5
}
