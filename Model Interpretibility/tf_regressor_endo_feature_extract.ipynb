{
 "cells": [
  {
   "cell_type": "code",
   "execution_count": 1,
   "id": "3c7385c9-f8bd-4b86-8164-6563601d430e",
   "metadata": {},
   "outputs": [
    {
     "name": "stdout",
     "output_type": "stream",
     "text": [
      "2.7.0\n"
     ]
    }
   ],
   "source": [
    "# Import libraries\n",
    "import awswrangler as wr\n",
    "import numpy as np\n",
    "import pandas as pd\n",
    "\n",
    "from __future__ import absolute_import, division, print_function\n",
    "\n",
    "import tensorflow as tf\n",
    "from tensorflow import keras\n",
    "\n",
    "import numpy as np\n",
    "from sklearn.metrics import mean_absolute_error\n",
    "print(tf.__version__)\n"
   ]
  },
  {
   "cell_type": "code",
   "execution_count": 2,
   "id": "98a9be0a-6323-4867-8fda-8c4ecf09d4aa",
   "metadata": {},
   "outputs": [],
   "source": [
    "dataset = 'feature_extract'"
   ]
  },
  {
   "cell_type": "code",
   "execution_count": 3,
   "id": "3618e4b7-937c-4ef1-943e-043bd1ea75aa",
   "metadata": {},
   "outputs": [],
   "source": [
    "# Read in small dataset\n",
    "meth = pd.read_csv('Endometriosis_subset_train_feature_extract.csv')"
   ]
  },
  {
   "cell_type": "code",
   "execution_count": 4,
   "id": "007ddfaa-1a53-4a2d-ada5-2558fca08b3e",
   "metadata": {},
   "outputs": [],
   "source": [
    "# Set axis to IDs\n",
    "meth.set_axis(meth['meth_id'], inplace = True)"
   ]
  },
  {
   "cell_type": "code",
   "execution_count": 5,
   "id": "e627053c-db2d-4f48-b3a0-3ee6f91df8af",
   "metadata": {},
   "outputs": [],
   "source": [
    "# Drop the ID cols \n",
    "cols_drop = ['meth_id', 'meth_id.1']\n",
    "meth.drop(columns=cols_drop, inplace = True)"
   ]
  },
  {
   "cell_type": "code",
   "execution_count": 6,
   "id": "64575c58-8bf3-4157-996b-a53644feaefb",
   "metadata": {},
   "outputs": [],
   "source": [
    "# Change Endo Yes/No to binary\n",
    "meth['Endometriosis_int'] = np.where(meth['Endometriosis'] == 'Yes', 1, meth['Endometriosis'])\n",
    "meth['Endometriosis_int'] = np.where(meth['Endometriosis_int'] == 'No', 0, meth['Endometriosis_int'])"
   ]
  },
  {
   "cell_type": "code",
   "execution_count": 7,
   "id": "cc73e84d-1193-4091-bb28-335c66a58090",
   "metadata": {},
   "outputs": [],
   "source": [
    "# Split dataset into features and target \n",
    "#y_train = meth['Endometriosis_int']\n",
    "#x_train = meth.iloc[:, 5:-1]"
   ]
  },
  {
   "cell_type": "code",
   "execution_count": 8,
   "id": "eb426a2d-7bfe-4eb4-8e64-01992aeb3c73",
   "metadata": {},
   "outputs": [],
   "source": [
    "# Comment out to remove Cycle Phase from features\n",
    "meth = meth.join(pd.get_dummies(meth['Cycle_Phase']))\n",
    "y_train = meth.pop('Endometriosis_int')\n",
    "x_train = meth.iloc[:, 5:]"
   ]
  },
  {
   "cell_type": "code",
   "execution_count": 9,
   "id": "19ad8525-6f17-4260-a852-6c7408ab3eeb",
   "metadata": {},
   "outputs": [],
   "source": [
    "val = pd.read_csv('Endometriosis_subset_test_feature_extract.csv')"
   ]
  },
  {
   "cell_type": "code",
   "execution_count": 10,
   "id": "f24ffeaf-9078-48af-a165-86fe2040fe67",
   "metadata": {},
   "outputs": [],
   "source": [
    "val = val.set_axis(val['meth_id'])"
   ]
  },
  {
   "cell_type": "code",
   "execution_count": 11,
   "id": "1fdb0659-0e95-469a-975b-177b6147214f",
   "metadata": {},
   "outputs": [],
   "source": [
    "# Group ESE, MSE and LSE into SE \n",
    "val.loc[val['Cycle_Phase'].isin(['ESE', 'MSE', 'LSE']), 'Cycle_Phase'] = 'SE'"
   ]
  },
  {
   "cell_type": "code",
   "execution_count": 12,
   "id": "979d2b48-c0e3-4ac1-9386-dec4bde815a6",
   "metadata": {},
   "outputs": [],
   "source": [
    "# Split dataset into features and target \n",
    "#x_val = val.iloc[:, 6:-1]\n",
    "#y_val = val['Endometriosis_int']"
   ]
  },
  {
   "cell_type": "code",
   "execution_count": 13,
   "id": "89d76e37-1352-422b-b4ed-ff80c3f52265",
   "metadata": {},
   "outputs": [],
   "source": [
    "# Comment out to remove Cycle Phase from features\n",
    "val = val.join(pd.get_dummies(val['Cycle_Phase']))\n",
    "y_val = val.pop('Endometriosis_int')\n",
    "x_val = val.iloc[:, 6:]"
   ]
  },
  {
   "cell_type": "code",
   "execution_count": 14,
   "id": "1ab2d5f3-1c4f-456a-a343-4fe49b9d4e3d",
   "metadata": {},
   "outputs": [],
   "source": [
    "test2 = pd.read_csv('Endometriosis_subset_test2_feature_extract.csv')"
   ]
  },
  {
   "cell_type": "code",
   "execution_count": 15,
   "id": "cd681dba-d1bb-4f78-af17-18807eba45e1",
   "metadata": {},
   "outputs": [],
   "source": [
    "test2.set_index('meth_id', inplace = True)"
   ]
  },
  {
   "cell_type": "code",
   "execution_count": 16,
   "id": "d78c47e7-bc04-4444-9cc2-4ec3e376acca",
   "metadata": {},
   "outputs": [],
   "source": [
    "#x_test2 = test2.iloc[:, 5:-1]\n",
    "#y_test2 = test2['Endometriosis_int']"
   ]
  },
  {
   "cell_type": "code",
   "execution_count": 17,
   "id": "e91cf444-66a3-4af6-b63c-930e27e93261",
   "metadata": {},
   "outputs": [],
   "source": [
    "# Comment out to remove Cycle Phase from features\n",
    "test2 = test2.join(pd.get_dummies(test2['Cycle_Phase']))\n",
    "y_test2 = test2.pop('Endometriosis_int')\n",
    "x_test2 = test2.iloc[:, 5:]"
   ]
  },
  {
   "cell_type": "code",
   "execution_count": 18,
   "id": "d609e3dd-33f2-4a74-bfe4-4b204a9021c9",
   "metadata": {},
   "outputs": [
    {
     "name": "stdout",
     "output_type": "stream",
     "text": [
      "(793, 45191) (199, 45191) (52, 45191)\n"
     ]
    }
   ],
   "source": [
    "print(x_train.shape, x_val.shape, x_test2.shape)"
   ]
  },
  {
   "cell_type": "code",
   "execution_count": 19,
   "id": "8b28ca1d-8855-439e-86fc-99d2eca3ca1c",
   "metadata": {},
   "outputs": [
    {
     "name": "stdout",
     "output_type": "stream",
     "text": [
      "(793,) (199,) (52,)\n"
     ]
    }
   ],
   "source": [
    "print(y_train.shape, y_val.shape, y_test2.shape)"
   ]
  },
  {
   "cell_type": "code",
   "execution_count": 20,
   "id": "4dc922ef-969a-4925-891a-b318b3be470b",
   "metadata": {},
   "outputs": [],
   "source": [
    "x_train_df = x_train\n",
    "x_val_df = x_val"
   ]
  },
  {
   "cell_type": "code",
   "execution_count": 21,
   "id": "9aa7408a-031b-4eb6-8b3e-493a65ce9645",
   "metadata": {},
   "outputs": [],
   "source": [
    "feature_names = x_train.columns"
   ]
  },
  {
   "cell_type": "code",
   "execution_count": 22,
   "id": "8f61c20e-aa9f-4680-9ccc-8334f12fc595",
   "metadata": {
    "scrolled": true,
    "tags": []
   },
   "outputs": [
    {
     "name": "stdout",
     "output_type": "stream",
     "text": [
      "\n",
      "....................................................................................................\n",
      "....................................................................................................\n",
      "....................................................................................................\n",
      "....................................................................................................\n",
      "....................................................................................................Train score (R2): 0.9996366459768204\n",
      "Train score (MAE): 0.13467563688755035\n",
      "Val score (R2): 0.1728459447723525\n",
      "Val score (MAE): 0.5954668521881104\n",
      "External Test score (R2): 0.16029509208921647\n",
      "External Test score (MAE): 0.5942586660385132\n"
     ]
    }
   ],
   "source": [
    "import pandas as pd \n",
    "import os\n",
    "import numpy as np\n",
    "from sklearn import metrics\n",
    "from scipy.stats import zscore\n",
    "from tensorflow.keras.models import Sequential\n",
    "from tensorflow.keras.layers import Dense, Activation\n",
    "from sklearn.metrics import r2_score\n",
    "import itertools \n",
    "from itertools import chain\n",
    "from sklearn.model_selection import train_test_split\n",
    "import scipy \n",
    "from scipy.stats import linregress\n",
    "\n",
    "activation1 = 'relu'\n",
    "activation2 = 'relu'\n",
    "nodes = 500\n",
    "\n",
    "    \n",
    "# Convert to float32\n",
    "x_train = np.asarray(x_train).astype('float32')\n",
    "y_train = np.asarray(y_train).astype('float32')\n",
    "x_val = np.asarray(x_val).astype('float32')\n",
    "y_val = np.asarray(y_val).astype('float32')\n",
    "x_test2 = np.asarray(x_test2).astype('float32')\n",
    "y_test2 = np.asarray(y_test2).astype('float32')\n",
    "\n",
    "\n",
    "# build model\n",
    "model = Sequential()\n",
    "model.add(Dense(nodes, input_dim=x_train.shape[1], activation = activation1))\n",
    "model.add(Dense(nodes, activation= activation1))\n",
    "model.add(Dense(nodes, activation=activation1))\n",
    "model.add(Dense(nodes, activation=activation1))\n",
    "model.add(Dense(nodes, activation=activation1))\n",
    "model.add(Dense(nodes, activation=activation1))\n",
    "model.add(Dense(nodes, activation=activation1))\n",
    "model.add(Dense(nodes, activation=activation1))\n",
    "model.add(Dense(nodes, activation=activation2))\n",
    "model.add(Dense(1))\n",
    "model.compile(loss='mae', optimizer=tf.optimizers.Adamax(0.0001), metrics=['mae'])\n",
    "\n",
    "class PrintDot(keras.callbacks.Callback):\n",
    "        def on_epoch_end(self, epoch, logs):\n",
    "            if epoch % 100 == 0: print('')\n",
    "            print('.', end='')\n",
    "\n",
    "# Training\n",
    "history = model.fit(x_train,y_train, validation_data=(x_val,y_val),verbose=0,\n",
    "      epochs=500, callbacks = [PrintDot()])\n",
    "\n",
    "train_pred = model.predict(x_train)\n",
    "\n",
    "# val Prediction\n",
    "pred = model.predict(x_val)\n",
    "\n",
    "# External Test Prediction\n",
    "pred_ext = model.predict(x_test2)\n",
    "\n",
    "\n",
    "# Measure this fold's MAE\n",
    "train_score = np.sqrt(metrics.mean_absolute_error(train_pred, y_train))\n",
    "#R2_train = r2_score(train_pred, y_train)\n",
    "r_val = np.corrcoef(train_pred.flatten(), y_train.flatten())\n",
    "R2_train = str(r_val[0, 1]**2)\n",
    "print(f\"Train score (R2): {R2_train}\")\n",
    "print(f\"Train score (MAE): {train_score}\")\n",
    "\n",
    "\n",
    "score = np.sqrt(metrics.mean_absolute_error(pred,y_val))\n",
    "#R2 = r2_score(pred, y_val)\n",
    "r_val = np.corrcoef(pred.flatten(), y_val.flatten())\n",
    "R2 = str(r_val[0, 1]**2)\n",
    "print(f\"Val score (R2): {R2}\")\n",
    "print(f\"Val score (MAE): {score}\")\n",
    "    \n",
    "    \n",
    "score = np.sqrt(metrics.mean_absolute_error(pred_ext,y_test2))\n",
    "#R2 = r2_score(pred, y_test)\n",
    "r_val = np.corrcoef(pred_ext.flatten(), y_test2.flatten())\n",
    "R2 = str(r_val[0, 1]**2)\n",
    "print(f\"External Test score (R2): {R2}\")\n",
    "print(f\"External Test score (MAE): {score}\")"
   ]
  },
  {
   "cell_type": "code",
   "execution_count": 23,
   "id": "6163f12c-39d1-4ddb-b08f-d72e31f7e3ba",
   "metadata": {},
   "outputs": [],
   "source": [
    "score = np.sqrt(metrics.mean_absolute_error(pred_ext,y_test2))"
   ]
  },
  {
   "cell_type": "code",
   "execution_count": 24,
   "id": "e740173c-ab8a-4dff-ab98-c3d429c2065a",
   "metadata": {},
   "outputs": [],
   "source": [
    "train_pred = train_pred.flatten()"
   ]
  },
  {
   "cell_type": "code",
   "execution_count": 25,
   "id": "2e442e86-90cb-4617-b845-6fff76d1cdf4",
   "metadata": {},
   "outputs": [
    {
     "data": {
      "image/png": "[encoded data removed]",
      "text/plain": [
       "<Figure size 432x288 with 1 Axes>"
      ]
     },
     "metadata": {
      "needs_background": "light"
     },
     "output_type": "display_data"
    }
   ],
   "source": [
    "import matplotlib.pyplot as plt\n",
    "\n",
    "fig = plt.figure()\n",
    "ax = plt.subplot()\n",
    "ax.plot(history.epoch, np.array(history.history['mae']),\n",
    "           label='Train Loss')\n",
    "ax.plot(history.epoch, np.array(history.history['val_mae']),\n",
    "           label = 'Val Loss')\n",
    "plt.xlabel('Epoch')\n",
    "plt.ylabel('Mean Abs Error')\n",
    "plt.title('Train vs Val Loss')\n",
    "plt.legend()\n",
    "plt.ylim([0, 2.5])\n",
    "plt.xlim([0, 500])\n",
    "plt.show()\n",
    "fig.savefig(dataset + '_' + activation1 + '_' + activation2 + '_' + 'train_loss_' + '.png', dpi=400, bbox_inches = \"tight\")\n"
   ]
  },
  {
   "cell_type": "code",
   "execution_count": 26,
   "id": "cb55c306-82fd-4fe7-b16d-6f575d83eead",
   "metadata": {},
   "outputs": [
    {
     "data": {
      "image/png": "[encoded data removed]",
      "text/plain": [
       "<Figure size 432x288 with 1 Axes>"
      ]
     },
     "metadata": {
      "needs_background": "light"
     },
     "output_type": "display_data"
    }
   ],
   "source": [
    "plt.scatter(y_train, train_pred, alpha = 0.3)\n",
    "plt.xlabel('True Values')\n",
    "plt.ylabel('Predictions')\n",
    "plt.axis('equal')\n",
    "plt.title('Train MAE per Epoch')\n",
    "plt.xlim(0, 1)\n",
    "plt.ylim(0, 1.25)\n",
    "plt.plot([0, 1], [0,1], '--')\n",
    "plt.savefig(dataset + '_' +activation1 + '_' + activation2 + '_' + 'true_vs_pred_train.png', bbox_inches = \"tight\")"
   ]
  },
  {
   "cell_type": "code",
   "execution_count": 27,
   "id": "9cd1f88d-0261-40ac-85ca-8121774d15fc",
   "metadata": {},
   "outputs": [
    {
     "data": {
      "image/png": "[encoded data removed]",
      "text/plain": [
       "<Figure size 432x288 with 1 Axes>"
      ]
     },
     "metadata": {
      "needs_background": "light"
     },
     "output_type": "display_data"
    }
   ],
   "source": [
    "error = train_pred - y_train\n",
    "plt.hist(error, bins = 50)\n",
    "plt.title('Train Error')\n",
    "plt.xlabel(\"Prediction Error(MAE)\")\n",
    "_ = plt.ylabel(\"Count\")\n",
    "plt.savefig(dataset + '_' + activation1 + '_' + activation2 + '_' + 'train_error.png', bbox_inches = \"tight\")"
   ]
  },
  {
   "cell_type": "code",
   "execution_count": 28,
   "id": "2013221c-2ad3-462a-8a99-51d6f712110b",
   "metadata": {},
   "outputs": [
    {
     "data": {
      "image/png": "[encoded data removed]",
      "text/plain": [
       "<Figure size 432x288 with 1 Axes>"
      ]
     },
     "metadata": {
      "needs_background": "light"
     },
     "output_type": "display_data"
    }
   ],
   "source": [
    "plt.scatter(y_val, pred, alpha = 0.3)\n",
    "plt.xlabel('True Values')\n",
    "plt.ylabel('Predictions')\n",
    "plt.axis('equal')\n",
    "plt.title('True vs Pred val')\n",
    "plt.xlim(0, 1)\n",
    "plt.ylim(0, 1.25)\n",
    "plt.plot([0, 1], [0,1], '--')\n",
    "plt.savefig(dataset + '_' + activation1 + '_' + activation2 + '_' + 'true_vs_pred_val.png', bbox_inches = \"tight\")"
   ]
  },
  {
   "cell_type": "code",
   "execution_count": 29,
   "id": "bd1b208b-3c82-41ff-9cfc-60f842b8e1f1",
   "metadata": {},
   "outputs": [
    {
     "data": {
      "image/png": "[encoded data removed]",
      "text/plain": [
       "<Figure size 432x288 with 1 Axes>"
      ]
     },
     "metadata": {
      "needs_background": "light"
     },
     "output_type": "display_data"
    }
   ],
   "source": [
    "error = pred.flatten() - y_val.flatten()\n",
    "plt.hist(error, bins = 50)\n",
    "plt.title('Val Error')\n",
    "plt.xlabel(\"Prediction Error(MAE)\")\n",
    "_ = plt.ylabel(\"Count\")\n",
    "plt.savefig(dataset + '_' + activation1 + '_' + activation2 + '_' + 'val_error.png', bbox_inches = \"tight\")"
   ]
  },
  {
   "cell_type": "code",
   "execution_count": 30,
   "id": "74ea222b-5e9a-468a-b237-c1ac321b7f41",
   "metadata": {},
   "outputs": [
    {
     "data": {
      "image/png": "[encoded data removed]",
      "text/plain": [
       "<Figure size 432x288 with 1 Axes>"
      ]
     },
     "metadata": {
      "needs_background": "light"
     },
     "output_type": "display_data"
    }
   ],
   "source": [
    "plt.scatter(y_test2.flatten(), pred_ext.flatten(), alpha = 0.3)\n",
    "plt.xlabel('True Values')\n",
    "plt.ylabel('Predictions')\n",
    "plt.axis('equal')\n",
    "plt.title('True vs Pred External Test')\n",
    "plt.xlim(0, 1)\n",
    "plt.ylim(0, 1.25)\n",
    "plt.plot([0, 1], [0,1], '--')\n",
    "plt.savefig(dataset + '_' + activation1 + '_' + activation2 + '_' + 'true_vs_pred_external_test.png', bbox_inches = \"tight\")"
   ]
  },
  {
   "cell_type": "code",
   "execution_count": 31,
   "id": "542cebbd-81fc-44e7-9837-38a9ddc3f945",
   "metadata": {},
   "outputs": [
    {
     "data": {
      "image/png": "[encoded data removed]",
      "text/plain": [
       "<Figure size 432x288 with 1 Axes>"
      ]
     },
     "metadata": {
      "needs_background": "light"
     },
     "output_type": "display_data"
    }
   ],
   "source": [
    "error = pred_ext.flatten() - y_test2.flatten()\n",
    "plt.hist(error, bins = 50)\n",
    "plt.title('External Test Error')\n",
    "plt.xlabel(\"Prediction Error(MAE)\")\n",
    "_ = plt.ylabel(\"Count\")\n",
    "plt.savefig(dataset + '_' + activation1 + '_' + activation2 + '_' + 'external_test_error.png', bbox_inches = \"tight\")"
   ]
  },
  {
   "cell_type": "code",
   "execution_count": 32,
   "id": "d79eb714-9134-4a1c-b8da-74a09a9d4294",
   "metadata": {},
   "outputs": [],
   "source": [
    "r_probs = [0 for _ in range(len(y_val))]"
   ]
  },
  {
   "cell_type": "code",
   "execution_count": 33,
   "id": "0e45b038-cbd9-4c2d-8848-3856760b53a5",
   "metadata": {},
   "outputs": [],
   "source": [
    "from sklearn.metrics import roc_curve, roc_auc_score\n",
    "#Random chance ROC\n",
    "r_auc = roc_auc_score(y_val, r_probs)\n",
    "r_fpr, r_tpr, _ = roc_curve(y_val, r_probs)\n",
    "\n",
    "#val ROC\n",
    "fpr, tpr, _ = roc_curve(y_val, pred)\n",
    "auc = roc_auc_score(y_val, pred)\n",
    "\n",
    "#Train ROC\n",
    "tr_fpr, tr_tpr, _ = roc_curve(y_train, train_pred)\n",
    "tr_auc = roc_auc_score(y_train, train_pred)\n",
    "\n",
    "# External Test ROC\n",
    "ext_fpr, ext_tpr, _ = roc_curve(y_test2, pred_ext)\n",
    "ext_auc = roc_auc_score(y_test2, pred_ext)"
   ]
  },
  {
   "cell_type": "code",
   "execution_count": 34,
   "id": "d99e445a-effe-4a3c-80b0-174857976f41",
   "metadata": {},
   "outputs": [
    {
     "name": "stdout",
     "output_type": "stream",
     "text": [
      "Random (chance) Prediction: AUROC = 0.500\n",
      "Val Prediction: AUROC = 0.761\n",
      "Train Prediction: AUROC = 1.000\n",
      "External Test Prediction: AUROC = 0.729\n"
     ]
    }
   ],
   "source": [
    "print('Random (chance) Prediction: AUROC = %.3f' % (r_auc))\n",
    "print('Val Prediction: AUROC = %.3f' % (auc))\n",
    "print('Train Prediction: AUROC = %.3f' % (tr_auc))\n",
    "print('External Test Prediction: AUROC = %.3f' % (ext_auc))"
   ]
  },
  {
   "cell_type": "code",
   "execution_count": 35,
   "id": "ba5acdf0-66b6-4b9d-b897-47684fad4cda",
   "metadata": {},
   "outputs": [
    {
     "data": {
      "image/png": "[encoded data removed]",
      "text/plain": [
       "<Figure size 432x288 with 1 Axes>"
      ]
     },
     "metadata": {
      "needs_background": "light"
     },
     "output_type": "display_data"
    }
   ],
   "source": [
    "# AUC Plot\n",
    "plt.plot(r_fpr, r_tpr, linestyle='--', label='Random prediction (AUROC = %0.3f)' % r_auc)\n",
    "plt.plot(tr_fpr, tr_tpr, marker='.', label='Train (AUROC = %0.3f)' % tr_auc)\n",
    "plt.plot(fpr, tpr, marker='.', label='Val (AUROC = %0.3f)' % auc)\n",
    "plt.plot(ext_fpr, ext_tpr, marker='.', label='Ext Test (AUROC = %0.3f)' % ext_auc)\n",
    "\n",
    "# Title\n",
    "plt.title('ROC Plot')\n",
    "# Axis labels\n",
    "plt.xlabel('False Positive Rate')\n",
    "plt.ylabel('True Positive Rate')\n",
    "# Show legend\n",
    "plt.legend(loc = 'lower right', prop={'size': 10}) \n",
    "plt.tight_layout()\n",
    "plt.savefig(dataset + '_' + activation1 + '_' + activation2 + '_' + 'ROC_Curve' + '.png', bbox_inches = \"tight\")"
   ]
  },
  {
   "cell_type": "code",
   "execution_count": 36,
   "id": "6002f3e2-d09e-483c-96a0-0d65ac8e312e",
   "metadata": {},
   "outputs": [],
   "source": [
    "val_pred_int = np.where(pred<0.5, 0, 1)\n",
    "train_pred_int = np.where(train_pred<0.5, 0, 1)\n",
    "ext_test_pred_int = np.where(pred_ext<0.5, 0, 1)"
   ]
  },
  {
   "cell_type": "code",
   "execution_count": 37,
   "id": "07723cec-5ce2-4c37-ae15-ae0da682572b",
   "metadata": {},
   "outputs": [],
   "source": [
    "# Confusion Matrix\n",
    "from sklearn.metrics import confusion_matrix\n",
    "val_conf = confusion_matrix(y_val, val_pred_int)\n",
    "train_conf = confusion_matrix(y_train, train_pred_int)\n",
    "ext_test_conf = confusion_matrix(y_test2, ext_test_pred_int)"
   ]
  },
  {
   "cell_type": "code",
   "execution_count": 38,
   "id": "43ff5190-a174-4ed4-900a-e5c9a6954d58",
   "metadata": {},
   "outputs": [
    {
     "data": {
      "image/png": "[encoded data removed]",
      "text/plain": [
       "<Figure size 432x288 with 2 Axes>"
      ]
     },
     "metadata": {},
     "output_type": "display_data"
    }
   ],
   "source": [
    "# Plot Confusion Matrices \n",
    "import seaborn as sns\n",
    "df_cm = pd.DataFrame(train_conf, range(2), range(2))\n",
    "df_cm = df_cm.rename(index={0: \"Control\", 1: \"Case\"})\n",
    "df_cm = df_cm.rename(columns={0: \"Control\", 1: \"Case\"})\n",
    "# plt.figure(figsize=(10,7))\n",
    "sns.set(font_scale=1.4) # for label size\n",
    "sns.heatmap(df_cm, annot=True, annot_kws={\"size\": 16}, fmt='g') # font size\n",
    "plt.ylabel('Actual')\n",
    "plt.xlabel('Predicted')\n",
    "plt.title('Training Confusion Matrix')\n",
    "plt.tight_layout()\n",
    "plt.savefig(dataset + '_' + activation1 + '_' + activation2 + '_' + 'confusion_matrix_train' + '.png', bbox_inches = \"tight\")"
   ]
  },
  {
   "cell_type": "code",
   "execution_count": 39,
   "id": "9ba6bbbc-2f0c-4546-83ae-ebeb947fd18a",
   "metadata": {},
   "outputs": [
    {
     "data": {
      "image/png": "[encoded data removed]",
      "text/plain": [
       "<Figure size 432x288 with 2 Axes>"
      ]
     },
     "metadata": {},
     "output_type": "display_data"
    }
   ],
   "source": [
    "import seaborn as sns\n",
    "df_cm = pd.DataFrame(val_conf, range(2), range(2))\n",
    "df_cm = df_cm.rename(index={0: \"Control\", 1: \"Case\"})\n",
    "df_cm = df_cm.rename(columns={0: \"Control\", 1: \"Case\"})\n",
    "# plt.figure(figsize=(10,7))\n",
    "sns.set(font_scale=1.4) # for label size\n",
    "sns.heatmap(df_cm, annot=True, annot_kws={\"size\": 16}, fmt='g') # font size\n",
    "plt.ylabel('Actual')\n",
    "plt.xlabel('Predicted')\n",
    "plt.title('Val Confusion Matrix')\n",
    "plt.tight_layout()\n",
    "plt.savefig(dataset + '_' + activation1 + '_' + activation2 + '_' + 'confusion_matrix_val' + '.png', bbox_inches = \"tight\")"
   ]
  },
  {
   "cell_type": "code",
   "execution_count": 40,
   "id": "1b821d65-78e1-482a-8699-1114f066cd04",
   "metadata": {},
   "outputs": [
    {
     "data": {
      "image/png": "[encoded data removed]",
      "text/plain": [
       "<Figure size 432x288 with 2 Axes>"
      ]
     },
     "metadata": {},
     "output_type": "display_data"
    }
   ],
   "source": [
    "df_cm = pd.DataFrame(ext_test_conf, range(2), range(2))\n",
    "df_cm = df_cm.rename(index={0: \"Control\", 1: \"Case\"})\n",
    "df_cm = df_cm.rename(columns={0: \"Control\", 1: \"Case\"})\n",
    "# plt.figure(figsize=(10,7))\n",
    "sns.set(font_scale=1.4) # for label size\n",
    "sns.heatmap(df_cm, annot=True, annot_kws={\"size\": 16}, fmt='g') # font size\n",
    "plt.ylabel('Actual')\n",
    "plt.xlabel('Predicted')\n",
    "plt.title('Testing Confusion Matrix')\n",
    "plt.tight_layout()\n",
    "plt.savefig(dataset + '_' + activation1 + '_' + activation2 + '_' + 'confusion_matrix_external_test' + '.png', bbox_inches = \"tight\")"
   ]
  },
  {
   "cell_type": "code",
   "execution_count": 41,
   "id": "151f3384-a4ef-4119-b684-a26ca58542b5",
   "metadata": {},
   "outputs": [],
   "source": [
    "# Define AUC metric function\n",
    "def get_auc(val_auc, train_auc):\n",
    "    auc_score = roc_auc_score(val_auc, train_auc)\n",
    "    return auc_score"
   ]
  },
  {
   "cell_type": "code",
   "execution_count": 42,
   "id": "5829ae47-3601-47a3-bdbb-91e6b4d699ba",
   "metadata": {},
   "outputs": [],
   "source": [
    "from mlxtend.evaluate import feature_importance_permutation"
   ]
  },
  {
   "cell_type": "code",
   "execution_count": 43,
   "id": "1a1a0ae9-fd13-4fb3-b722-b15e8fad8465",
   "metadata": {},
   "outputs": [],
   "source": [
    "# feature importance permutation \n",
    "imp_vals, imp_all = feature_importance_permutation(\n",
    "    predict_method = model.predict,\n",
    "    X = x_test2,\n",
    "    y = y_test2,\n",
    "    metric =  get_auc,\n",
    "    num_rounds = 1)"
   ]
  },
  {
   "cell_type": "code",
   "execution_count": 46,
   "id": "a643eec4-acab-4a57-a503-01e2900d4264",
   "metadata": {},
   "outputs": [],
   "source": [
    "# sort the cpg islands from descending order of importance \n",
    "indices = np.argsort(imp_vals)[::-1]"
   ]
  },
  {
   "cell_type": "code",
   "execution_count": 49,
   "id": "c42fbc8b-efdb-454b-94a5-8da3efc99d3f",
   "metadata": {},
   "outputs": [
    {
     "data": {
      "image/png": "[encoded data removed]",
      "text/plain": [
       "<Figure size 432x288 with 1 Axes>"
      ]
     },
     "metadata": {},
     "output_type": "display_data"
    }
   ],
   "source": [
    "# plot top 20 cpg islands \n",
    "plt.figure()\n",
    "plt.title(\"Feature Extract Model Feature Importance\")\n",
    "plt.ylabel('Avg drop in AUC')\n",
    "plt.bar(range(x_train.shape[1]), imp_vals[indices])\n",
    "\n",
    "plt.xticks(range(x_train.shape[1]), x_train_df.columns[indices], rotation=90)\n",
    "plt.xlim([-1, 20])\n",
    "plt.ylim([0, 0.01])\n",
    "\n",
    "plt.tight_layout()\n",
    "plt.savefig('Feature Importance.png')\n",
    "plt.show()"
   ]
  },
  {
   "cell_type": "code",
   "execution_count": 50,
   "id": "3fd712fc-4892-4ad0-a7fd-feb999c21abb",
   "metadata": {},
   "outputs": [],
   "source": [
    "# Get top 50 CPG islands\n",
    "cpg_islands = x_train_df.columns[indices][:50]"
   ]
  },
  {
   "cell_type": "code",
   "execution_count": 51,
   "id": "07af045d-96fe-4708-bcf0-246171365b0e",
   "metadata": {},
   "outputs": [],
   "source": [
    "# export top 50 cpg islands\n",
    "with open(\"top_50_cpg_islands.txt\",\"w\") as f:\n",
    "    for line in cpg_islands:\n",
    "        f.write(line)\n",
    "        f.write(\"\\n\")"
   ]
  },
  {
   "cell_type": "code",
   "execution_count": 52,
   "id": "f608f5f7-6a0c-40de-8ca2-341f5481f952",
   "metadata": {},
   "outputs": [],
   "source": [
    "cpg_islands_500 = x_train_df.columns[indices][:500]"
   ]
  },
  {
   "cell_type": "code",
   "execution_count": 53,
   "id": "6008e789-3563-45f1-b478-0e5d85191f3a",
   "metadata": {},
   "outputs": [],
   "source": [
    "with open(\"top_500_cpg_islands.txt\",\"w\") as f:\n",
    "    for line in cpg_islands_500:\n",
    "        f.write(line)\n",
    "        f.write(\"\\n\")"
   ]
  },
  {
   "cell_type": "code",
   "execution_count": 55,
   "id": "8c245548-c155-4385-a8e7-37a9bed3c797",
   "metadata": {},
   "outputs": [],
   "source": [
    "top_500 = x_train_df.columns[indices][:500]"
   ]
  },
  {
   "cell_type": "code",
   "execution_count": 56,
   "id": "467bc42c-8da6-43dd-9e9f-caacfcd17ffe",
   "metadata": {},
   "outputs": [],
   "source": [
    "top_500_df = x_train_df.loc[:,top_500]"
   ]
  },
  {
   "cell_type": "code",
   "execution_count": 57,
   "id": "2aba794f-254a-4202-9dd8-ff8c18e8a7b7",
   "metadata": {},
   "outputs": [],
   "source": [
    "# concatenate train, val and external test datasets \n",
    "df = pd.concat([meth, val, test2])"
   ]
  },
  {
   "cell_type": "code",
   "execution_count": 58,
   "id": "5fbf4d6c-8385-428f-9e6a-eae560db68fa",
   "metadata": {},
   "outputs": [],
   "source": [
    "# subset the top 500 cpgs from the full dataset above \n",
    "top_500_df = df.loc[:,top_500]"
   ]
  },
  {
   "cell_type": "code",
   "execution_count": 59,
   "id": "1d1206c6-af93-4265-b0d5-a2cbb4f1c056",
   "metadata": {},
   "outputs": [
    {
     "data": {
      "text/html": [
       "<div>\n",
       "<style scoped>\n",
       "    .dataframe tbody tr th:only-of-type {\n",
       "        vertical-align: middle;\n",
       "    }\n",
       "\n",
       "    .dataframe tbody tr th {\n",
       "        vertical-align: top;\n",
       "    }\n",
       "\n",
       "    .dataframe thead th {\n",
       "        text-align: right;\n",
       "    }\n",
       "</style>\n",
       "<table border=\"1\" class=\"dataframe\">\n",
       "  <thead>\n",
       "    <tr style=\"text-align: right;\">\n",
       "      <th></th>\n",
       "      <th>cg10847607</th>\n",
       "      <th>cg01455177</th>\n",
       "      <th>cg06746652</th>\n",
       "      <th>cg11490836</th>\n",
       "      <th>cg06679270</th>\n",
       "      <th>cg23502848</th>\n",
       "      <th>cg14083786</th>\n",
       "      <th>cg02995791</th>\n",
       "      <th>cg03880033</th>\n",
       "      <th>cg14709660</th>\n",
       "      <th>...</th>\n",
       "      <th>cg13678371</th>\n",
       "      <th>cg14032572</th>\n",
       "      <th>cg07086736</th>\n",
       "      <th>cg22544881</th>\n",
       "      <th>cg17314228</th>\n",
       "      <th>cg15420678</th>\n",
       "      <th>cg17529006</th>\n",
       "      <th>cg17999327</th>\n",
       "      <th>cg00238023</th>\n",
       "      <th>cg00151191</th>\n",
       "    </tr>\n",
       "    <tr>\n",
       "      <th>meth_id</th>\n",
       "      <th></th>\n",
       "      <th></th>\n",
       "      <th></th>\n",
       "      <th></th>\n",
       "      <th></th>\n",
       "      <th></th>\n",
       "      <th></th>\n",
       "      <th></th>\n",
       "      <th></th>\n",
       "      <th></th>\n",
       "      <th></th>\n",
       "      <th></th>\n",
       "      <th></th>\n",
       "      <th></th>\n",
       "      <th></th>\n",
       "      <th></th>\n",
       "      <th></th>\n",
       "      <th></th>\n",
       "      <th></th>\n",
       "      <th></th>\n",
       "      <th></th>\n",
       "    </tr>\n",
       "  </thead>\n",
       "  <tbody>\n",
       "    <tr>\n",
       "      <th>202184900066_R02C01</th>\n",
       "      <td>0.355499</td>\n",
       "      <td>0.267554</td>\n",
       "      <td>0.198400</td>\n",
       "      <td>-0.067062</td>\n",
       "      <td>1.194292</td>\n",
       "      <td>-1.595121</td>\n",
       "      <td>0.057838</td>\n",
       "      <td>0.663615</td>\n",
       "      <td>0.803006</td>\n",
       "      <td>2.450953</td>\n",
       "      <td>...</td>\n",
       "      <td>-3.930064</td>\n",
       "      <td>-3.289862</td>\n",
       "      <td>2.582005</td>\n",
       "      <td>-0.330857</td>\n",
       "      <td>0.106963</td>\n",
       "      <td>-0.275439</td>\n",
       "      <td>3.018634</td>\n",
       "      <td>-0.261355</td>\n",
       "      <td>2.401096</td>\n",
       "      <td>2.084982</td>\n",
       "    </tr>\n",
       "    <tr>\n",
       "      <th>201980430023_R03C01</th>\n",
       "      <td>-0.424507</td>\n",
       "      <td>-0.387429</td>\n",
       "      <td>2.306855</td>\n",
       "      <td>0.001287</td>\n",
       "      <td>1.266872</td>\n",
       "      <td>-3.330437</td>\n",
       "      <td>-0.322860</td>\n",
       "      <td>-0.829771</td>\n",
       "      <td>0.216201</td>\n",
       "      <td>1.886796</td>\n",
       "      <td>...</td>\n",
       "      <td>-3.970000</td>\n",
       "      <td>-3.477764</td>\n",
       "      <td>2.648937</td>\n",
       "      <td>-0.375327</td>\n",
       "      <td>-0.073459</td>\n",
       "      <td>-0.057028</td>\n",
       "      <td>3.267005</td>\n",
       "      <td>-0.174578</td>\n",
       "      <td>2.781688</td>\n",
       "      <td>1.776822</td>\n",
       "    </tr>\n",
       "    <tr>\n",
       "      <th>202875000120_R08C01</th>\n",
       "      <td>1.325579</td>\n",
       "      <td>-0.334949</td>\n",
       "      <td>0.660044</td>\n",
       "      <td>-0.206156</td>\n",
       "      <td>2.409493</td>\n",
       "      <td>-2.975124</td>\n",
       "      <td>-0.173542</td>\n",
       "      <td>2.263811</td>\n",
       "      <td>-1.538416</td>\n",
       "      <td>2.823336</td>\n",
       "      <td>...</td>\n",
       "      <td>-3.889118</td>\n",
       "      <td>-2.463245</td>\n",
       "      <td>2.653499</td>\n",
       "      <td>-0.569439</td>\n",
       "      <td>-0.072968</td>\n",
       "      <td>-0.038259</td>\n",
       "      <td>3.071271</td>\n",
       "      <td>-0.168776</td>\n",
       "      <td>2.890813</td>\n",
       "      <td>1.927704</td>\n",
       "    </tr>\n",
       "    <tr>\n",
       "      <th>202875000094_R02C01</th>\n",
       "      <td>-0.558004</td>\n",
       "      <td>-0.273080</td>\n",
       "      <td>-0.214115</td>\n",
       "      <td>0.183017</td>\n",
       "      <td>1.124982</td>\n",
       "      <td>-0.571336</td>\n",
       "      <td>-0.077889</td>\n",
       "      <td>2.566051</td>\n",
       "      <td>0.194985</td>\n",
       "      <td>2.654295</td>\n",
       "      <td>...</td>\n",
       "      <td>-4.075801</td>\n",
       "      <td>-3.583857</td>\n",
       "      <td>2.394742</td>\n",
       "      <td>-0.594309</td>\n",
       "      <td>-0.016701</td>\n",
       "      <td>-0.135667</td>\n",
       "      <td>3.584026</td>\n",
       "      <td>-0.317135</td>\n",
       "      <td>3.525864</td>\n",
       "      <td>1.676399</td>\n",
       "    </tr>\n",
       "    <tr>\n",
       "      <th>202878330076_R08C01</th>\n",
       "      <td>-1.054382</td>\n",
       "      <td>0.526308</td>\n",
       "      <td>1.455752</td>\n",
       "      <td>-0.547322</td>\n",
       "      <td>0.941811</td>\n",
       "      <td>-0.195491</td>\n",
       "      <td>0.225557</td>\n",
       "      <td>1.279837</td>\n",
       "      <td>0.963979</td>\n",
       "      <td>2.276844</td>\n",
       "      <td>...</td>\n",
       "      <td>-4.352260</td>\n",
       "      <td>-3.719521</td>\n",
       "      <td>2.384211</td>\n",
       "      <td>-0.517304</td>\n",
       "      <td>-0.180730</td>\n",
       "      <td>-0.175286</td>\n",
       "      <td>3.549191</td>\n",
       "      <td>-0.739583</td>\n",
       "      <td>3.700551</td>\n",
       "      <td>1.963013</td>\n",
       "    </tr>\n",
       "    <tr>\n",
       "      <th>...</th>\n",
       "      <td>...</td>\n",
       "      <td>...</td>\n",
       "      <td>...</td>\n",
       "      <td>...</td>\n",
       "      <td>...</td>\n",
       "      <td>...</td>\n",
       "      <td>...</td>\n",
       "      <td>...</td>\n",
       "      <td>...</td>\n",
       "      <td>...</td>\n",
       "      <td>...</td>\n",
       "      <td>...</td>\n",
       "      <td>...</td>\n",
       "      <td>...</td>\n",
       "      <td>...</td>\n",
       "      <td>...</td>\n",
       "      <td>...</td>\n",
       "      <td>...</td>\n",
       "      <td>...</td>\n",
       "      <td>...</td>\n",
       "      <td>...</td>\n",
       "    </tr>\n",
       "    <tr>\n",
       "      <th>202176300029_R05C01</th>\n",
       "      <td>1.275044</td>\n",
       "      <td>-0.098131</td>\n",
       "      <td>0.559857</td>\n",
       "      <td>0.938766</td>\n",
       "      <td>1.641099</td>\n",
       "      <td>-2.594446</td>\n",
       "      <td>1.184224</td>\n",
       "      <td>-0.981177</td>\n",
       "      <td>0.117590</td>\n",
       "      <td>3.013985</td>\n",
       "      <td>...</td>\n",
       "      <td>-4.017658</td>\n",
       "      <td>-3.287695</td>\n",
       "      <td>2.985043</td>\n",
       "      <td>-0.408804</td>\n",
       "      <td>-0.064607</td>\n",
       "      <td>-0.078830</td>\n",
       "      <td>3.233064</td>\n",
       "      <td>-0.337092</td>\n",
       "      <td>4.093072</td>\n",
       "      <td>2.087463</td>\n",
       "    </tr>\n",
       "    <tr>\n",
       "      <th>202875000117_R05C01</th>\n",
       "      <td>0.740626</td>\n",
       "      <td>-0.403682</td>\n",
       "      <td>-0.099276</td>\n",
       "      <td>-0.121550</td>\n",
       "      <td>1.004861</td>\n",
       "      <td>-2.451490</td>\n",
       "      <td>-0.387013</td>\n",
       "      <td>0.258035</td>\n",
       "      <td>0.192889</td>\n",
       "      <td>2.526099</td>\n",
       "      <td>...</td>\n",
       "      <td>-4.341832</td>\n",
       "      <td>-3.488023</td>\n",
       "      <td>3.535711</td>\n",
       "      <td>-0.505766</td>\n",
       "      <td>-0.028004</td>\n",
       "      <td>-0.051533</td>\n",
       "      <td>3.044067</td>\n",
       "      <td>-0.958960</td>\n",
       "      <td>3.305501</td>\n",
       "      <td>1.653547</td>\n",
       "    </tr>\n",
       "    <tr>\n",
       "      <th>202184900024_R04C01</th>\n",
       "      <td>1.027240</td>\n",
       "      <td>0.219683</td>\n",
       "      <td>0.964896</td>\n",
       "      <td>0.304445</td>\n",
       "      <td>1.725348</td>\n",
       "      <td>-2.746075</td>\n",
       "      <td>-0.625839</td>\n",
       "      <td>0.557543</td>\n",
       "      <td>0.334704</td>\n",
       "      <td>2.474669</td>\n",
       "      <td>...</td>\n",
       "      <td>-3.714420</td>\n",
       "      <td>-2.912720</td>\n",
       "      <td>3.211687</td>\n",
       "      <td>-0.427836</td>\n",
       "      <td>-0.217012</td>\n",
       "      <td>-0.299361</td>\n",
       "      <td>2.706499</td>\n",
       "      <td>-0.330090</td>\n",
       "      <td>2.745721</td>\n",
       "      <td>1.635396</td>\n",
       "    </tr>\n",
       "    <tr>\n",
       "      <th>202212330097_R05C01</th>\n",
       "      <td>1.032677</td>\n",
       "      <td>0.196279</td>\n",
       "      <td>0.732140</td>\n",
       "      <td>-1.176879</td>\n",
       "      <td>1.245468</td>\n",
       "      <td>0.545875</td>\n",
       "      <td>0.247450</td>\n",
       "      <td>1.213480</td>\n",
       "      <td>-0.154569</td>\n",
       "      <td>2.223032</td>\n",
       "      <td>...</td>\n",
       "      <td>-3.385653</td>\n",
       "      <td>-3.572584</td>\n",
       "      <td>2.134032</td>\n",
       "      <td>0.247862</td>\n",
       "      <td>0.015629</td>\n",
       "      <td>-0.039418</td>\n",
       "      <td>3.074531</td>\n",
       "      <td>-0.000908</td>\n",
       "      <td>3.403817</td>\n",
       "      <td>1.219765</td>\n",
       "    </tr>\n",
       "    <tr>\n",
       "      <th>202835130054_R07C01</th>\n",
       "      <td>-1.231700</td>\n",
       "      <td>-0.221738</td>\n",
       "      <td>1.870147</td>\n",
       "      <td>-0.040399</td>\n",
       "      <td>0.569572</td>\n",
       "      <td>-0.320218</td>\n",
       "      <td>0.187959</td>\n",
       "      <td>1.555686</td>\n",
       "      <td>-0.113269</td>\n",
       "      <td>2.550848</td>\n",
       "      <td>...</td>\n",
       "      <td>-4.002637</td>\n",
       "      <td>-2.836593</td>\n",
       "      <td>2.841857</td>\n",
       "      <td>-0.444037</td>\n",
       "      <td>0.155586</td>\n",
       "      <td>-0.217141</td>\n",
       "      <td>2.844617</td>\n",
       "      <td>-0.396920</td>\n",
       "      <td>3.284393</td>\n",
       "      <td>1.868705</td>\n",
       "    </tr>\n",
       "  </tbody>\n",
       "</table>\n",
       "<p>1044 rows × 500 columns</p>\n",
       "</div>"
      ],
      "text/plain": [
       "                     cg10847607  cg01455177  cg06746652  cg11490836  \\\n",
       "meth_id                                                               \n",
       "202184900066_R02C01    0.355499    0.267554    0.198400   -0.067062   \n",
       "201980430023_R03C01   -0.424507   -0.387429    2.306855    0.001287   \n",
       "202875000120_R08C01    1.325579   -0.334949    0.660044   -0.206156   \n",
       "202875000094_R02C01   -0.558004   -0.273080   -0.214115    0.183017   \n",
       "202878330076_R08C01   -1.054382    0.526308    1.455752   -0.547322   \n",
       "...                         ...         ...         ...         ...   \n",
       "202176300029_R05C01    1.275044   -0.098131    0.559857    0.938766   \n",
       "202875000117_R05C01    0.740626   -0.403682   -0.099276   -0.121550   \n",
       "202184900024_R04C01    1.027240    0.219683    0.964896    0.304445   \n",
       "202212330097_R05C01    1.032677    0.196279    0.732140   -1.176879   \n",
       "202835130054_R07C01   -1.231700   -0.221738    1.870147   -0.040399   \n",
       "\n",
       "                     cg06679270  cg23502848  cg14083786  cg02995791  \\\n",
       "meth_id                                                               \n",
       "202184900066_R02C01    1.194292   -1.595121    0.057838    0.663615   \n",
       "201980430023_R03C01    1.266872   -3.330437   -0.322860   -0.829771   \n",
       "202875000120_R08C01    2.409493   -2.975124   -0.173542    2.263811   \n",
       "202875000094_R02C01    1.124982   -0.571336   -0.077889    2.566051   \n",
       "202878330076_R08C01    0.941811   -0.195491    0.225557    1.279837   \n",
       "...                         ...         ...         ...         ...   \n",
       "202176300029_R05C01    1.641099   -2.594446    1.184224   -0.981177   \n",
       "202875000117_R05C01    1.004861   -2.451490   -0.387013    0.258035   \n",
       "202184900024_R04C01    1.725348   -2.746075   -0.625839    0.557543   \n",
       "202212330097_R05C01    1.245468    0.545875    0.247450    1.213480   \n",
       "202835130054_R07C01    0.569572   -0.320218    0.187959    1.555686   \n",
       "\n",
       "                     cg03880033  cg14709660  ...  cg13678371  cg14032572  \\\n",
       "meth_id                                      ...                           \n",
       "202184900066_R02C01    0.803006    2.450953  ...   -3.930064   -3.289862   \n",
       "201980430023_R03C01    0.216201    1.886796  ...   -3.970000   -3.477764   \n",
       "202875000120_R08C01   -1.538416    2.823336  ...   -3.889118   -2.463245   \n",
       "202875000094_R02C01    0.194985    2.654295  ...   -4.075801   -3.583857   \n",
       "202878330076_R08C01    0.963979    2.276844  ...   -4.352260   -3.719521   \n",
       "...                         ...         ...  ...         ...         ...   \n",
       "202176300029_R05C01    0.117590    3.013985  ...   -4.017658   -3.287695   \n",
       "202875000117_R05C01    0.192889    2.526099  ...   -4.341832   -3.488023   \n",
       "202184900024_R04C01    0.334704    2.474669  ...   -3.714420   -2.912720   \n",
       "202212330097_R05C01   -0.154569    2.223032  ...   -3.385653   -3.572584   \n",
       "202835130054_R07C01   -0.113269    2.550848  ...   -4.002637   -2.836593   \n",
       "\n",
       "                     cg07086736  cg22544881  cg17314228  cg15420678  \\\n",
       "meth_id                                                               \n",
       "202184900066_R02C01    2.582005   -0.330857    0.106963   -0.275439   \n",
       "201980430023_R03C01    2.648937   -0.375327   -0.073459   -0.057028   \n",
       "202875000120_R08C01    2.653499   -0.569439   -0.072968   -0.038259   \n",
       "202875000094_R02C01    2.394742   -0.594309   -0.016701   -0.135667   \n",
       "202878330076_R08C01    2.384211   -0.517304   -0.180730   -0.175286   \n",
       "...                         ...         ...         ...         ...   \n",
       "202176300029_R05C01    2.985043   -0.408804   -0.064607   -0.078830   \n",
       "202875000117_R05C01    3.535711   -0.505766   -0.028004   -0.051533   \n",
       "202184900024_R04C01    3.211687   -0.427836   -0.217012   -0.299361   \n",
       "202212330097_R05C01    2.134032    0.247862    0.015629   -0.039418   \n",
       "202835130054_R07C01    2.841857   -0.444037    0.155586   -0.217141   \n",
       "\n",
       "                     cg17529006  cg17999327  cg00238023  cg00151191  \n",
       "meth_id                                                              \n",
       "202184900066_R02C01    3.018634   -0.261355    2.401096    2.084982  \n",
       "201980430023_R03C01    3.267005   -0.174578    2.781688    1.776822  \n",
       "202875000120_R08C01    3.071271   -0.168776    2.890813    1.927704  \n",
       "202875000094_R02C01    3.584026   -0.317135    3.525864    1.676399  \n",
       "202878330076_R08C01    3.549191   -0.739583    3.700551    1.963013  \n",
       "...                         ...         ...         ...         ...  \n",
       "202176300029_R05C01    3.233064   -0.337092    4.093072    2.087463  \n",
       "202875000117_R05C01    3.044067   -0.958960    3.305501    1.653547  \n",
       "202184900024_R04C01    2.706499   -0.330090    2.745721    1.635396  \n",
       "202212330097_R05C01    3.074531   -0.000908    3.403817    1.219765  \n",
       "202835130054_R07C01    2.844617   -0.396920    3.284393    1.868705  \n",
       "\n",
       "[1044 rows x 500 columns]"
      ]
     },
     "execution_count": 59,
     "metadata": {},
     "output_type": "execute_result"
    }
   ],
   "source": [
    "top_500_df"
   ]
  }
 ],
 "metadata": {
  "kernelspec": {
   "display_name": "Python 3",
   "language": "python",
   "name": "python3"
  },
  "language_info": {
   "codemirror_mode": {
    "name": "ipython",
    "version": 3
   },
   "file_extension": ".py",
   "mimetype": "text/x-python",
   "name": "python",
   "nbconvert_exporter": "python",
   "pygments_lexer": "ipython3",
   "version": "3.8.12"
  }
 },
 "nbformat": 4,
 "nbformat_minor": 5
}
