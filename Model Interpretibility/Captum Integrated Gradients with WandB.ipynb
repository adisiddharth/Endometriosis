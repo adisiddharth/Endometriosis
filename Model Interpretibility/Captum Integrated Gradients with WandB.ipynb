{
 "cells": [
  {
   "cell_type": "code",
   "execution_count": 1,
   "id": "7398654d-8595-4c0f-b7c5-20618e087fb2",
   "metadata": {},
   "outputs": [],
   "source": [
    "# import libraries\n",
    "import numpy as np\n",
    "import pandas as pd\n",
    "import torch\n",
    "import torch.nn as nn\n",
    "from torch.autograd import grad\n",
    "\n",
    "import matplotlib.pyplot as plt\n",
    "\n",
    "from captum.attr import IntegratedGradients\n",
    "from captum.attr import LayerConductance\n",
    "from captum.attr import NeuronConductance"
   ]
  },
  {
   "cell_type": "code",
   "execution_count": 2,
   "id": "7e880133-2b1f-476b-993b-34cb9ada8b7d",
   "metadata": {},
   "outputs": [
    {
     "name": "stdout",
     "output_type": "stream",
     "text": [
      "\u001b[34m\u001b[1mwandb\u001b[0m: Currently logged in as: \u001b[33madisiddharth\u001b[0m (use `wandb login --relogin` to force relogin)\n"
     ]
    }
   ],
   "source": [
    "# import and login Weights and Baises\n",
    "import wandb\n",
    "!wandb login"
   ]
  },
  {
   "cell_type": "code",
   "execution_count": 3,
   "id": "eb2b19d0-1489-41af-8b54-3c1016a6459d",
   "metadata": {},
   "outputs": [
    {
     "name": "stderr",
     "output_type": "stream",
     "text": [
      "Failed to detect the name of this notebook, you can set it manually with the WANDB_NOTEBOOK_NAME environment variable to enable code saving.\n",
      "\u001b[34m\u001b[1mwandb\u001b[0m: Currently logged in as: \u001b[33madisiddharth\u001b[0m (use `wandb login --relogin` to force relogin)\n",
      "\u001b[34m\u001b[1mwandb\u001b[0m: wandb version 0.12.14 is available!  To upgrade, please run:\n",
      "\u001b[34m\u001b[1mwandb\u001b[0m:  $ pip install wandb --upgrade\n"
     ]
    },
    {
     "data": {
      "text/html": [
       "\n",
       "                    Syncing run <strong><a href=\"https://wandb.ai/adisiddharth/Captum%20Pytorch/runs/3tswytot\" target=\"_blank\">charmed-feather-81</a></strong> to <a href=\"https://wandb.ai/adisiddharth/Captum%20Pytorch\" target=\"_blank\">Weights & Biases</a> (<a href=\"https://docs.wandb.com/integrations/jupyter.html\" target=\"_blank\">docs</a>).<br/>\n",
       "\n",
       "                "
      ],
      "text/plain": [
       "<IPython.core.display.HTML object>"
      ]
     },
     "metadata": {},
     "output_type": "display_data"
    },
    {
     "data": {
      "text/html": [
       "<button onClick=\"this.nextSibling.style.display='block';this.style.display='none';\">Display W&B run</button><iframe src=\"https://wandb.ai/adisiddharth/Captum%20Pytorch/runs/3tswytot?jupyter=true\" style=\"border:none;width:100%;height:420px;display:none;\"></iframe>"
      ],
      "text/plain": [
       "<wandb.sdk.wandb_run.Run at 0x7f9c75a90550>"
      ]
     },
     "execution_count": 3,
     "metadata": {},
     "output_type": "execute_result"
    }
   ],
   "source": [
    "# Initialize wandb project\n",
    "wandb.init(project = 'Captum Pytorch')"
   ]
  },
  {
   "cell_type": "code",
   "execution_count": 4,
   "id": "50f623d1-9ade-459b-8370-fd64a1d4addb",
   "metadata": {},
   "outputs": [],
   "source": [
    "#set cuda\n",
    "device = torch.device('cuda' if torch.cuda.is_available() else 'cpu')"
   ]
  },
  {
   "cell_type": "code",
   "execution_count": 5,
   "id": "0da6f955-a55a-4ebe-8c64-d7864322c18b",
   "metadata": {},
   "outputs": [],
   "source": [
    "# Read in train dataset\n",
    "train = pd.read_csv('Endometriosis_subset_train_feature_extract.csv')"
   ]
  },
  {
   "cell_type": "code",
   "execution_count": 6,
   "id": "0db1e11f-c9ac-4b5f-ae66-8010fa40f81e",
   "metadata": {},
   "outputs": [],
   "source": [
    "# Set index to IDs\n",
    "train.set_axis(train['meth_id'], inplace = True)"
   ]
  },
  {
   "cell_type": "code",
   "execution_count": 7,
   "id": "4d421539-d324-45f7-b3cc-bb9977689286",
   "metadata": {},
   "outputs": [],
   "source": [
    "# Drop the ID cols \n",
    "cols_drop = ['meth_id', 'meth_id.1']\n",
    "train.drop(columns=cols_drop, inplace = True)"
   ]
  },
  {
   "cell_type": "code",
   "execution_count": 8,
   "id": "aaae9058-e6a1-4db8-a0cc-f37d356ea97b",
   "metadata": {},
   "outputs": [],
   "source": [
    "# Change Endo Yes/No to binary\n",
    "train['Endometriosis_int'] = np.where(train['Endometriosis'] == 'Yes', 1, train['Endometriosis'])\n",
    "train['Endometriosis_int'] = np.where(train['Endometriosis_int'] == 'No', 0, train['Endometriosis_int'])"
   ]
  },
  {
   "cell_type": "code",
   "execution_count": 9,
   "id": "8aa31af8-c40e-42c7-8bbd-61e8e17aa24a",
   "metadata": {},
   "outputs": [],
   "source": [
    "# Comment out to remove Cycle Phase from features\n",
    "train = train.join(pd.get_dummies(train['Cycle_Phase']))\n",
    "y_train = train.pop('Endometriosis_int')\n",
    "x_train = train.iloc[:, 5:-3]"
   ]
  },
  {
   "cell_type": "code",
   "execution_count": 10,
   "id": "a88645bc-bcad-413c-b14d-16d61b8061dc",
   "metadata": {},
   "outputs": [],
   "source": [
    "# read val dataset\n",
    "val = pd.read_csv('Endometriosis_subset_test_feature_extract.csv')"
   ]
  },
  {
   "cell_type": "code",
   "execution_count": 11,
   "id": "77f9d5ac-349b-4032-ace8-937122b714cd",
   "metadata": {},
   "outputs": [],
   "source": [
    "#set index to IDs\n",
    "val = val.set_axis(val['meth_id'])"
   ]
  },
  {
   "cell_type": "code",
   "execution_count": 12,
   "id": "466058df-044d-4ef7-88a1-27dc1d115060",
   "metadata": {},
   "outputs": [],
   "source": [
    "# Group ESE, MSE and LSE into SE \n",
    "val.loc[val['Cycle_Phase'].isin(['ESE', 'MSE', 'LSE']), 'Cycle_Phase'] = 'SE'"
   ]
  },
  {
   "cell_type": "code",
   "execution_count": 13,
   "id": "824419e9-a501-4255-8596-32342ebe16e5",
   "metadata": {},
   "outputs": [],
   "source": [
    "# Comment out to remove Cycle Phase from features\n",
    "val = val.join(pd.get_dummies(val['Cycle_Phase']))\n",
    "y_val = val.pop('Endometriosis_int')\n",
    "x_val = val.iloc[:, 6:-3]"
   ]
  },
  {
   "cell_type": "code",
   "execution_count": 14,
   "id": "d62f05ea-5968-4a7b-abe8-89d4ec64f048",
   "metadata": {},
   "outputs": [],
   "source": [
    "# join val and train\n",
    "x_train_full = pd.concat([x_train, x_val])"
   ]
  },
  {
   "cell_type": "code",
   "execution_count": 15,
   "id": "3161ccea-1f8c-4f07-9686-f90680196a75",
   "metadata": {},
   "outputs": [],
   "source": [
    "y_train_full = pd.concat([y_train, y_val])"
   ]
  },
  {
   "cell_type": "code",
   "execution_count": 16,
   "id": "ccf44d4f-5dd0-4448-b900-c66fb3fba903",
   "metadata": {},
   "outputs": [],
   "source": [
    "# read test dataset\n",
    "test = pd.read_csv('Endometriosis_subset_test2_feature_extract.csv')"
   ]
  },
  {
   "cell_type": "code",
   "execution_count": 17,
   "id": "86371e4a-f98d-426f-a461-b34f307ac1d9",
   "metadata": {},
   "outputs": [],
   "source": [
    "# Assign index as IDs\n",
    "test.set_index('meth_id', inplace = True)"
   ]
  },
  {
   "cell_type": "code",
   "execution_count": 18,
   "id": "c5711a64-34fb-40c2-8fac-1856621c8d83",
   "metadata": {},
   "outputs": [],
   "source": [
    "# Comment out to remove Cycle Phase from features\n",
    "test = test.join(pd.get_dummies(test['Cycle_Phase']))\n",
    "y_test = test.pop('Endometriosis_int')\n",
    "x_test = test.iloc[:, 5:-3]"
   ]
  },
  {
   "cell_type": "code",
   "execution_count": 19,
   "id": "ad28886f-0172-48bd-9e6d-c9cb2e316005",
   "metadata": {},
   "outputs": [],
   "source": [
    "# Set train and test features and labels\n",
    "train_features = x_train_full.to_numpy()\n",
    "train_labels = y_train_full.to_numpy(dtype=np.int64)\n",
    "test_features = x_test.to_numpy()\n",
    "test_labels = y_test.to_numpy(dtype=np.int64)"
   ]
  },
  {
   "cell_type": "code",
   "execution_count": 20,
   "id": "2e2c73fe-7516-4f2f-9608-51087e36d1cf",
   "metadata": {},
   "outputs": [
    {
     "data": {
      "text/plain": [
       "((992, 45188), (52, 45188), (52,), (992,))"
      ]
     },
     "execution_count": 20,
     "metadata": {},
     "output_type": "execute_result"
    }
   ],
   "source": [
    "train_features.shape, test_features.shape, test_labels.shape, train_labels.shape"
   ]
  },
  {
   "cell_type": "code",
   "execution_count": 21,
   "id": "d8cf089d-8aa4-463f-8588-174de842585a",
   "metadata": {},
   "outputs": [],
   "source": [
    "# Set hyperparameters\n",
    "lr=0.0001 \n",
    "optimizer = \"Adam\"\n",
    "num_epochs = 500\n",
    "loss = 'BCE'\n",
    "nodes = 650\n",
    "activation1 = 'relu'\n",
    "activation2 = 'softmax'"
   ]
  },
  {
   "cell_type": "code",
   "execution_count": 22,
   "id": "1bbc0835-de1a-4963-b8cf-b007652ccf97",
   "metadata": {},
   "outputs": [
    {
     "data": {
      "text/html": [
       "Finishing last run (ID:3tswytot) before initializing another..."
      ],
      "text/plain": [
       "<IPython.core.display.HTML object>"
      ]
     },
     "metadata": {},
     "output_type": "display_data"
    },
    {
     "data": {
      "text/html": [
       "<br/>Waiting for W&B process to finish, PID 3634... <strong style=\"color:green\">(success).</strong>"
      ],
      "text/plain": [
       "<IPython.core.display.HTML object>"
      ]
     },
     "metadata": {},
     "output_type": "display_data"
    },
    {
     "data": {
      "application/vnd.jupyter.widget-view+json": {
       "model_id": "",
       "version_major": 2,
       "version_minor": 0
      },
      "text/plain": [
       "VBox(children=(Label(value=' 0.00MB of 0.00MB uploaded (0.00MB deduped)\\r'), FloatProgress(value=1.0, max=1.0)…"
      ]
     },
     "metadata": {},
     "output_type": "display_data"
    },
    {
     "data": {
      "text/html": [
       "<style>\n",
       "    table.wandb td:nth-child(1) { padding: 0 10px; text-align: right }\n",
       "    .wandb-row { display: flex; flex-direction: row; flex-wrap: wrap; width: 100% }\n",
       "    .wandb-col { display: flex; flex-direction: column; flex-basis: 100%; flex: 1; padding: 10px; }\n",
       "    </style>\n",
       "<div class=\"wandb-row\"><div class=\"wandb-col\">\n",
       "</div><div class=\"wandb-col\">\n",
       "</div></div>\n",
       "Synced 5 W&B file(s), 0 media file(s), 0 artifact file(s) and 0 other file(s)\n",
       "<br/>Synced <strong style=\"color:#cdcd00\">charmed-feather-81</strong>: <a href=\"https://wandb.ai/adisiddharth/Captum%20Pytorch/runs/3tswytot\" target=\"_blank\">https://wandb.ai/adisiddharth/Captum%20Pytorch/runs/3tswytot</a><br/>\n",
       "Find logs at: <code>./wandb/run-20220415_163839-3tswytot/logs</code><br/>\n"
      ],
      "text/plain": [
       "<IPython.core.display.HTML object>"
      ]
     },
     "metadata": {},
     "output_type": "display_data"
    },
    {
     "data": {
      "text/html": [
       "Successfully finished last run (ID:3tswytot). Initializing new run:<br/>"
      ],
      "text/plain": [
       "<IPython.core.display.HTML object>"
      ]
     },
     "metadata": {},
     "output_type": "display_data"
    },
    {
     "name": "stderr",
     "output_type": "stream",
     "text": [
      "\u001b[34m\u001b[1mwandb\u001b[0m: wandb version 0.12.14 is available!  To upgrade, please run:\n",
      "\u001b[34m\u001b[1mwandb\u001b[0m:  $ pip install wandb --upgrade\n"
     ]
    },
    {
     "data": {
      "text/html": [
       "\n",
       "                    Syncing run <strong><a href=\"https://wandb.ai/adisiddharth/Captum%20Pytorch/runs/xtxgbpty\" target=\"_blank\">eager-pine-82</a></strong> to <a href=\"https://wandb.ai/adisiddharth/Captum%20Pytorch\" target=\"_blank\">Weights & Biases</a> (<a href=\"https://docs.wandb.com/integrations/jupyter.html\" target=\"_blank\">docs</a>).<br/>\n",
       "\n",
       "                "
      ],
      "text/plain": [
       "<IPython.core.display.HTML object>"
      ]
     },
     "metadata": {},
     "output_type": "display_data"
    }
   ],
   "source": [
    "# Set up config (columns) to record in wandb\n",
    "run_config = {'lr': lr, 'optimizer': optimizer, 'epochs': num_epochs, 'nodes': nodes, 'activation1': activation1, 'activation2': activation2, 'loss': loss}\n",
    "wandb_run = wandb.init(project='Captum Pytorch', config=run_config)"
   ]
  },
  {
   "cell_type": "code",
   "execution_count": 23,
   "id": "971a0801-9b21-4b6c-9b2b-6b45d0fe9acf",
   "metadata": {},
   "outputs": [
    {
     "name": "stderr",
     "output_type": "stream",
     "text": [
      "<ipython-input-23-a902ae70982f>:55: UserWarning: Implicit dimension choice for softmax has been deprecated. Change the call to include dim=X as an argument.\n",
      "  out11 = self.relu10(self.linear10(out10))\n"
     ]
    },
    {
     "name": "stdout",
     "output_type": "stream",
     "text": [
      "Epoch 1/500 => Loss: 0.69\n",
      "Epoch 51/500 => Loss: 0.64\n",
      "Epoch 101/500 => Loss: 0.60\n",
      "Epoch 151/500 => Loss: 0.41\n",
      "Epoch 201/500 => Loss: 0.40\n",
      "Epoch 251/500 => Loss: 0.39\n",
      "Epoch 301/500 => Loss: 0.35\n",
      "Epoch 351/500 => Loss: 0.47\n",
      "Epoch 401/500 => Loss: 0.38\n",
      "Epoch 451/500 => Loss: 0.34\n"
     ]
    }
   ],
   "source": [
    "torch.manual_seed(1)  # Set seed for reproducibility.\n",
    "\n",
    "\n",
    "if activation1 == 'relu':    \n",
    "    activation1 = nn.ReLU()\n",
    "elif activation1 == 'elu':    \n",
    "    activation1 = nn.ELU()\n",
    "elif activation1 == 'selu':    \n",
    "    activation1 = nn.SELU()\n",
    "elif activation1 == 'sigmoid':    \n",
    "    activation1 = nn.Sigmoid()\n",
    "if activation2 == 'sigmoid':    \n",
    "    activation2 = nn.Sigmoid()\n",
    "elif activation2 == 'relu':    \n",
    "    activation2 = nn.ReLU()\n",
    "elif activation2 == 'softmax':    \n",
    "    activation2 = nn.Softmax()\n",
    "    \n",
    "# Model\n",
    "class TitanicSimpleNNModel(nn.Module):\n",
    "    def __init__(self):\n",
    "        super().__init__()\n",
    "        self.linear1 = nn.Linear(train_features.shape[1], nodes)\n",
    "        self.relu1 = activation1\n",
    "        self.linear2 = nn.Linear(nodes, nodes)\n",
    "        self.relu2 = activation1\n",
    "        self.linear3 = nn.Linear(nodes, nodes)\n",
    "        self.relu3 = activation1\n",
    "        self.linear4 = nn.Linear(nodes, nodes)\n",
    "        self.relu4 = activation1\n",
    "        self.linear5 = nn.Linear(nodes, nodes)\n",
    "        self.relu5 = activation1\n",
    "        self.linear6 = nn.Linear(nodes, nodes)\n",
    "        self.relu6 = activation1\n",
    "        self.linear7 = nn.Linear(nodes, nodes)\n",
    "        self.relu7 = activation1\n",
    "        self.linear8 = nn.Linear(nodes, nodes)\n",
    "        self.relu8 = activation1\n",
    "        self.linear9 = nn.Linear(nodes, nodes)\n",
    "        self.relu9 = activation1\n",
    "        self.linear10 = nn.Linear(nodes, 2)\n",
    "        self.relu10 = activation2\n",
    "\n",
    "    def forward(self, x):\n",
    "        out1 = self.linear1(x)\n",
    "        out2 = self.relu1(out1)\n",
    "        out3 = self.relu2(self.linear2(out2))\n",
    "        out4 = self.relu3(self.linear3(out3))\n",
    "        out5 = self.relu4(self.linear4(out4))\n",
    "        out6 = self.relu5(self.linear5(out5))\n",
    "        out7 = self.relu6(self.linear6(out6))\n",
    "        out8 = self.relu7(self.linear7(out7))\n",
    "        out9 = self.relu8(self.linear8(out8))\n",
    "        out10 = self.relu9(self.linear9(out9))\n",
    "        out11 = self.relu10(self.linear10(out10))\n",
    "        return out11\n",
    "        \n",
    "\n",
    "net = TitanicSimpleNNModel()\n",
    "\n",
    "# train loop\n",
    "input_tensor = torch.from_numpy(train_features).type(torch.FloatTensor)\n",
    "label_tensor = torch.from_numpy(train_labels)\n",
    "for epoch in range(num_epochs):    \n",
    "    output = net(input_tensor)\n",
    "    if loss == 'MAE':\n",
    "        criterion = nn.L1Loss()\n",
    "    elif loss == 'CrossEntropyLoss':    \n",
    "        criterion = nn.CrossEntropyLoss()\n",
    "    elif loss == 'MSE':    \n",
    "        criterion = nn.MSELoss()\n",
    "    elif loss == 'BCE':    \n",
    "        criterion = nn.BCELoss()\n",
    "    criterion = nn.CrossEntropyLoss()\n",
    "    loss = criterion(output, label_tensor)\n",
    "    if optimizer == 'Adam':\n",
    "        optimizer = torch.optim.Adam(net.parameters(), lr=lr)\n",
    "    elif optimizer == 'Adamax':\n",
    "        optimizer = torch.optim.Adamax(net.parameters(), lr=lr)\n",
    "    elif optimizer == 'Adagrad':\n",
    "        optimizer = torch.optim.Adagrad(net.parameters(), lr=lr)\n",
    "    optimizer.zero_grad()\n",
    "    loss.backward()\n",
    "    optimizer.step()\n",
    "    if epoch % 50 == 0:\n",
    "        print ('Epoch {}/{} => Loss: {:.2f}'.format(epoch+1, num_epochs, loss.item()))\n",
    "    \n",
    "    #record loss every epoch in wandb    \n",
    "    wandb_run.log({'loss': loss})\n",
    "        \n",
    "input_tensor = torch.from_numpy(train_features).type(torch.FloatTensor)\n",
    "test_input_tensor = torch.from_numpy(test_features).type(torch.FloatTensor)"
   ]
  },
  {
   "cell_type": "code",
   "execution_count": 24,
   "id": "03971668-8d50-4608-a946-d11fd4983f24",
   "metadata": {},
   "outputs": [
    {
     "name": "stdout",
     "output_type": "stream",
     "text": [
      "Train Accuracy: 0.9758064516129032\n"
     ]
    },
    {
     "name": "stderr",
     "output_type": "stream",
     "text": [
      "<ipython-input-23-a902ae70982f>:55: UserWarning: Implicit dimension choice for softmax has been deprecated. Change the call to include dim=X as an argument.\n",
      "  out11 = self.relu10(self.linear10(out10))\n"
     ]
    }
   ],
   "source": [
    "out_probs_train = net(input_tensor).detach().numpy()\n",
    "out_classes_train = np.argmax(out_probs_train, axis=1)\n",
    "train_acc = sum(out_classes_train == train_labels) / len(train_labels)\n",
    "print(\"Train Accuracy:\", train_acc)"
   ]
  },
  {
   "cell_type": "code",
   "execution_count": 25,
   "id": "dddbf8b5-1925-4502-84f7-3061e97bcc5a",
   "metadata": {},
   "outputs": [
    {
     "name": "stdout",
     "output_type": "stream",
     "text": [
      "Test Accuracy: 0.7307692307692307\n"
     ]
    },
    {
     "name": "stderr",
     "output_type": "stream",
     "text": [
      "<ipython-input-23-a902ae70982f>:55: UserWarning: Implicit dimension choice for softmax has been deprecated. Change the call to include dim=X as an argument.\n",
      "  out11 = self.relu10(self.linear10(out10))\n"
     ]
    }
   ],
   "source": [
    "test_input_tensor = torch.from_numpy(test_features).type(torch.FloatTensor)\n",
    "out_probs_test = net(test_input_tensor).detach().numpy()\n",
    "out_classes_test = np.argmax(out_probs_test, axis=1)\n",
    "test_acc = sum(out_classes_test == test_labels) / len(test_labels)\n",
    "print(\"Test Accuracy:\", test_acc)"
   ]
  },
  {
   "cell_type": "code",
   "execution_count": 26,
   "id": "34c01859-8faf-4def-aae5-a2a05b4d547b",
   "metadata": {},
   "outputs": [],
   "source": [
    "r_probs = [0 for _ in range(len(y_test))]"
   ]
  },
  {
   "cell_type": "code",
   "execution_count": 27,
   "id": "da75ab46-e609-4fed-a3ff-c48998c7de29",
   "metadata": {},
   "outputs": [],
   "source": [
    "from sklearn.metrics import roc_curve, roc_auc_score\n",
    "#Random chance ROC\n",
    "r_auc = roc_auc_score(y_test, r_probs)\n",
    "r_fpr, r_tpr, _ = roc_curve(test_labels, r_probs)\n",
    "\n",
    "#Test ROC\n",
    "fpr, tpr, _ = roc_curve(test_labels, out_classes_test)\n",
    "auc = roc_auc_score(test_labels, out_classes_test)\n",
    "\n",
    "#Train ROC\n",
    "tr_fpr, tr_tpr, _ = roc_curve(train_labels, out_classes_train)\n",
    "tr_auc = roc_auc_score(train_labels, out_classes_train)\n",
    "\n",
    "# External Test ROC\n",
    "#ext_fpr, ext_tpr, _ = roc_curve(y_test2, pred_ext)\n",
    "#ext_auc = roc_auc_score(y_test2, pred_ext)"
   ]
  },
  {
   "cell_type": "code",
   "execution_count": 28,
   "id": "337018ac-6206-41ed-a476-73d431d41726",
   "metadata": {},
   "outputs": [
    {
     "name": "stdout",
     "output_type": "stream",
     "text": [
      "Random (chance) Prediction: AUROC = 0.500\n",
      "Test Prediction: AUROC = 0.718\n",
      "Train Prediction: AUROC = 0.971\n"
     ]
    }
   ],
   "source": [
    "print('Random (chance) Prediction: AUROC = %.3f' % (r_auc))\n",
    "print('Test Prediction: AUROC = %.3f' % (auc))\n",
    "print('Train Prediction: AUROC = %.3f' % (tr_auc))\n",
    "#print('External Test Prediction: AUROC = %.3f' % (ext_auc))"
   ]
  },
  {
   "cell_type": "code",
   "execution_count": 29,
   "id": "ba5acdf0-66b6-4b9d-b897-47684fad4cda",
   "metadata": {},
   "outputs": [
    {
     "data": {
      "image/png": "[encoded data removed]",
      "text/plain": [
       "<Figure size 432x288 with 1 Axes>"
      ]
     },
     "metadata": {
      "needs_background": "light"
     },
     "output_type": "display_data"
    }
   ],
   "source": [
    "plt.plot(r_fpr, r_tpr, linestyle='--', label='Random prediction (AUROC = %0.3f)' % r_auc)\n",
    "plt.plot(tr_fpr, tr_tpr, marker='.', label='Train (AUROC = %0.3f)' % tr_auc)\n",
    "plt.plot(fpr, tpr, marker='.', label='Val (AUROC = %0.3f)' % auc)\n",
    "#plt.plot(ext_fpr, ext_tpr, marker='.', label='Ext Test (AUROC = %0.3f)' % ext_auc)\n",
    "\n",
    "# Title\n",
    "plt.title('ROC Plot')\n",
    "# Axis labels\n",
    "plt.xlabel('False Positive Rate')\n",
    "plt.ylabel('True Positive Rate')\n",
    "# Show legend\n",
    "plt.legend(loc = 'lower right', prop={'size': 10}) \n",
    "plt.tight_layout()\n",
    "#plt.savefig(dataset + '_' + activation1 + '_' + activation2 + '_' + 'ROC_Curve' + kfold + '.png', bbox_inches = \"tight\")"
   ]
  },
  {
   "cell_type": "code",
   "execution_count": 30,
   "id": "9c46d0c0-ecd3-4a4b-8363-f267f94027de",
   "metadata": {},
   "outputs": [],
   "source": [
    "# record more metrics in wandb\n",
    "wandb_run.log({'auc': auc, 'train_accuracy': train_acc, 'test_accuracy': test_acc})"
   ]
  },
  {
   "cell_type": "code",
   "execution_count": 31,
   "id": "d0295da0-33c9-4121-84d0-3f1db1bd6e9f",
   "metadata": {},
   "outputs": [],
   "source": [
    "# set up integrated gradients \n",
    "ig = IntegratedGradients(net)"
   ]
  },
  {
   "cell_type": "code",
   "execution_count": 32,
   "id": "59ab8a66-a794-4a85-b3c7-5bc5a0eafff8",
   "metadata": {},
   "outputs": [
    {
     "data": {
      "text/plain": [
       "torch.Size([52, 45188])"
      ]
     },
     "execution_count": 32,
     "metadata": {},
     "output_type": "execute_result"
    }
   ],
   "source": [
    "test_input_tensor.shape"
   ]
  },
  {
   "cell_type": "code",
   "execution_count": 34,
   "id": "1f2cfd4b-48a2-4b58-a498-93f366cb9f52",
   "metadata": {},
   "outputs": [
    {
     "name": "stderr",
     "output_type": "stream",
     "text": [
      "<ipython-input-23-a902ae70982f>:55: UserWarning: Implicit dimension choice for softmax has been deprecated. Change the call to include dim=X as an argument.\n",
      "  out11 = self.relu10(self.linear10(out10))\n"
     ]
    }
   ],
   "source": [
    "# obtain integrated gradient attributes\n",
    "test_input_tensor.requires_grad_()\n",
    "attr, delta = ig.attribute(test_input_tensor,target=1, return_convergence_delta=True)\n",
    "attr = attr.detach().numpy()"
   ]
  },
  {
   "cell_type": "code",
   "execution_count": 35,
   "id": "8526c1d3-53e2-453e-b33e-3a571eb6fc30",
   "metadata": {},
   "outputs": [],
   "source": [
    "# get cpg islands\n",
    "feature_names = x_train.columns"
   ]
  },
  {
   "cell_type": "code",
   "execution_count": 36,
   "id": "9856ce25-2df5-46e2-8996-329ba1903d82",
   "metadata": {
    "tags": []
   },
   "outputs": [
    {
     "data": {
      "image/png": "[encoded data removed]",
      "text/plain": [
       "<Figure size 864x432 with 1 Axes>"
      ]
     },
     "metadata": {
      "needs_background": "light"
     },
     "output_type": "display_data"
    }
   ],
   "source": [
    "# Plot relative importance of cpg islands\n",
    "attributes = pd.DataFrame()\n",
    "cpg = []\n",
    "imp = []\n",
    "def visualize_importances(feature_names, importances, title=\"Average Feature Importances\", plot=True, axis_title=\"Features\"):\n",
    "    #print(title)\n",
    "    for i in range(len(feature_names)):\n",
    "        #print(feature_names[i], \": \", '%.3f'%(importances[i]))\n",
    "        cpg.append(feature_names[i])\n",
    "        imp.append(importances[i])\n",
    "    \n",
    "    \n",
    "    x_pos = (np.arange(len(feature_names)))\n",
    "    if plot:\n",
    "        plt.figure(figsize=(12,6))\n",
    "        plt.bar(x_pos, importances, align='center')\n",
    "        plt.xticks(x_pos, feature_names, wrap=True)\n",
    "        plt.xlabel(axis_title)\n",
    "        plt.title(title)\n",
    "attributes['CPG'] = cpg\n",
    "attributes['Attributes'] = imp\n",
    "visualize_importances(feature_names, np.mean(attr, axis=0))"
   ]
  },
  {
   "cell_type": "code",
   "execution_count": 39,
   "id": "b93a9e9c-87f3-4807-9d63-7ce75e646a66",
   "metadata": {},
   "outputs": [],
   "source": [
    "# collate data into dataframe\n",
    "attributes['CPG'] = cpg\n",
    "attributes['Attributes'] = imp\n",
    "attributes['Attributes Sq'] = attributes['Attributes']**2 # square values to get only get magnitude of importance"
   ]
  },
  {
   "cell_type": "code",
   "execution_count": 40,
   "id": "67d049d4-61a1-497d-afdf-5e0fc939e0b1",
   "metadata": {},
   "outputs": [
    {
     "data": {
      "text/html": [
       "<div>\n",
       "<style scoped>\n",
       "    .dataframe tbody tr th:only-of-type {\n",
       "        vertical-align: middle;\n",
       "    }\n",
       "\n",
       "    .dataframe tbody tr th {\n",
       "        vertical-align: top;\n",
       "    }\n",
       "\n",
       "    .dataframe thead th {\n",
       "        text-align: right;\n",
       "    }\n",
       "</style>\n",
       "<table border=\"1\" class=\"dataframe\">\n",
       "  <thead>\n",
       "    <tr style=\"text-align: right;\">\n",
       "      <th></th>\n",
       "      <th>CPG</th>\n",
       "      <th>Attributes</th>\n",
       "      <th>Attributes Sq</th>\n",
       "    </tr>\n",
       "  </thead>\n",
       "  <tbody>\n",
       "    <tr>\n",
       "      <th>0</th>\n",
       "      <td>cg10148841</td>\n",
       "      <td>-0.002870</td>\n",
       "      <td>0.000008</td>\n",
       "    </tr>\n",
       "    <tr>\n",
       "      <th>1</th>\n",
       "      <td>cg21351005</td>\n",
       "      <td>-0.001221</td>\n",
       "      <td>0.000001</td>\n",
       "    </tr>\n",
       "    <tr>\n",
       "      <th>2</th>\n",
       "      <td>cg07701590</td>\n",
       "      <td>0.004266</td>\n",
       "      <td>0.000018</td>\n",
       "    </tr>\n",
       "    <tr>\n",
       "      <th>3</th>\n",
       "      <td>cg13630693</td>\n",
       "      <td>-0.002962</td>\n",
       "      <td>0.000009</td>\n",
       "    </tr>\n",
       "    <tr>\n",
       "      <th>4</th>\n",
       "      <td>cg16774853</td>\n",
       "      <td>0.005439</td>\n",
       "      <td>0.000030</td>\n",
       "    </tr>\n",
       "    <tr>\n",
       "      <th>...</th>\n",
       "      <td>...</td>\n",
       "      <td>...</td>\n",
       "      <td>...</td>\n",
       "    </tr>\n",
       "    <tr>\n",
       "      <th>45183</th>\n",
       "      <td>cg27232569</td>\n",
       "      <td>0.001684</td>\n",
       "      <td>0.000003</td>\n",
       "    </tr>\n",
       "    <tr>\n",
       "      <th>45184</th>\n",
       "      <td>cg21012362</td>\n",
       "      <td>0.004069</td>\n",
       "      <td>0.000017</td>\n",
       "    </tr>\n",
       "    <tr>\n",
       "      <th>45185</th>\n",
       "      <td>cg07834475</td>\n",
       "      <td>0.001681</td>\n",
       "      <td>0.000003</td>\n",
       "    </tr>\n",
       "    <tr>\n",
       "      <th>45186</th>\n",
       "      <td>cg03968010</td>\n",
       "      <td>0.001214</td>\n",
       "      <td>0.000001</td>\n",
       "    </tr>\n",
       "    <tr>\n",
       "      <th>45187</th>\n",
       "      <td>cg03591760</td>\n",
       "      <td>-0.002135</td>\n",
       "      <td>0.000005</td>\n",
       "    </tr>\n",
       "  </tbody>\n",
       "</table>\n",
       "<p>45188 rows × 3 columns</p>\n",
       "</div>"
      ],
      "text/plain": [
       "              CPG  Attributes  Attributes Sq\n",
       "0      cg10148841   -0.002870       0.000008\n",
       "1      cg21351005   -0.001221       0.000001\n",
       "2      cg07701590    0.004266       0.000018\n",
       "3      cg13630693   -0.002962       0.000009\n",
       "4      cg16774853    0.005439       0.000030\n",
       "...           ...         ...            ...\n",
       "45183  cg27232569    0.001684       0.000003\n",
       "45184  cg21012362    0.004069       0.000017\n",
       "45185  cg07834475    0.001681       0.000003\n",
       "45186  cg03968010    0.001214       0.000001\n",
       "45187  cg03591760   -0.002135       0.000005\n",
       "\n",
       "[45188 rows x 3 columns]"
      ]
     },
     "execution_count": 40,
     "metadata": {},
     "output_type": "execute_result"
    }
   ],
   "source": [
    "attributes"
   ]
  },
  {
   "cell_type": "code",
   "execution_count": 41,
   "id": "d44da142-be10-4944-aa7f-1a2c9a1b4b8c",
   "metadata": {},
   "outputs": [
    {
     "data": {
      "text/html": [
       "<div>\n",
       "<style scoped>\n",
       "    .dataframe tbody tr th:only-of-type {\n",
       "        vertical-align: middle;\n",
       "    }\n",
       "\n",
       "    .dataframe tbody tr th {\n",
       "        vertical-align: top;\n",
       "    }\n",
       "\n",
       "    .dataframe thead th {\n",
       "        text-align: right;\n",
       "    }\n",
       "</style>\n",
       "<table border=\"1\" class=\"dataframe\">\n",
       "  <thead>\n",
       "    <tr style=\"text-align: right;\">\n",
       "      <th></th>\n",
       "      <th>Attributes</th>\n",
       "      <th>Attributes Sq</th>\n",
       "    </tr>\n",
       "  </thead>\n",
       "  <tbody>\n",
       "    <tr>\n",
       "      <th>count</th>\n",
       "      <td>45188.000000</td>\n",
       "      <td>4.518800e+04</td>\n",
       "    </tr>\n",
       "    <tr>\n",
       "      <th>mean</th>\n",
       "      <td>0.000004</td>\n",
       "      <td>6.334756e-06</td>\n",
       "    </tr>\n",
       "    <tr>\n",
       "      <th>std</th>\n",
       "      <td>0.002517</td>\n",
       "      <td>1.155228e-05</td>\n",
       "    </tr>\n",
       "    <tr>\n",
       "      <th>min</th>\n",
       "      <td>-0.023956</td>\n",
       "      <td>1.721239e-14</td>\n",
       "    </tr>\n",
       "    <tr>\n",
       "      <th>25%</th>\n",
       "      <td>-0.001839</td>\n",
       "      <td>1.174958e-06</td>\n",
       "    </tr>\n",
       "    <tr>\n",
       "      <th>50%</th>\n",
       "      <td>-0.000044</td>\n",
       "      <td>3.440069e-06</td>\n",
       "    </tr>\n",
       "    <tr>\n",
       "      <th>75%</th>\n",
       "      <td>0.001868</td>\n",
       "      <td>7.729281e-06</td>\n",
       "    </tr>\n",
       "    <tr>\n",
       "      <th>max</th>\n",
       "      <td>0.023668</td>\n",
       "      <td>5.738660e-04</td>\n",
       "    </tr>\n",
       "  </tbody>\n",
       "</table>\n",
       "</div>"
      ],
      "text/plain": [
       "         Attributes  Attributes Sq\n",
       "count  45188.000000   4.518800e+04\n",
       "mean       0.000004   6.334756e-06\n",
       "std        0.002517   1.155228e-05\n",
       "min       -0.023956   1.721239e-14\n",
       "25%       -0.001839   1.174958e-06\n",
       "50%       -0.000044   3.440069e-06\n",
       "75%        0.001868   7.729281e-06\n",
       "max        0.023668   5.738660e-04"
      ]
     },
     "execution_count": 41,
     "metadata": {},
     "output_type": "execute_result"
    }
   ],
   "source": [
    "attributes.describe()"
   ]
  },
  {
   "cell_type": "code",
   "execution_count": 42,
   "id": "8f839bd2-be46-40f7-93dd-143e6a284748",
   "metadata": {},
   "outputs": [
    {
     "data": {
      "text/html": [
       "<div>\n",
       "<style scoped>\n",
       "    .dataframe tbody tr th:only-of-type {\n",
       "        vertical-align: middle;\n",
       "    }\n",
       "\n",
       "    .dataframe tbody tr th {\n",
       "        vertical-align: top;\n",
       "    }\n",
       "\n",
       "    .dataframe thead th {\n",
       "        text-align: right;\n",
       "    }\n",
       "</style>\n",
       "<table border=\"1\" class=\"dataframe\">\n",
       "  <thead>\n",
       "    <tr style=\"text-align: right;\">\n",
       "      <th></th>\n",
       "      <th>CPG</th>\n",
       "      <th>Attributes</th>\n",
       "      <th>Attributes Sq</th>\n",
       "    </tr>\n",
       "  </thead>\n",
       "  <tbody>\n",
       "    <tr>\n",
       "      <th>7417</th>\n",
       "      <td>cg13498216</td>\n",
       "      <td>-2.395550e-02</td>\n",
       "      <td>5.738660e-04</td>\n",
       "    </tr>\n",
       "    <tr>\n",
       "      <th>3311</th>\n",
       "      <td>cg22153345</td>\n",
       "      <td>2.366808e-02</td>\n",
       "      <td>5.601779e-04</td>\n",
       "    </tr>\n",
       "    <tr>\n",
       "      <th>12191</th>\n",
       "      <td>cg20389709</td>\n",
       "      <td>-2.356464e-02</td>\n",
       "      <td>5.552922e-04</td>\n",
       "    </tr>\n",
       "    <tr>\n",
       "      <th>15092</th>\n",
       "      <td>cg13311805</td>\n",
       "      <td>-2.265269e-02</td>\n",
       "      <td>5.131442e-04</td>\n",
       "    </tr>\n",
       "    <tr>\n",
       "      <th>30565</th>\n",
       "      <td>cg04295700</td>\n",
       "      <td>-1.720729e-02</td>\n",
       "      <td>2.960908e-04</td>\n",
       "    </tr>\n",
       "    <tr>\n",
       "      <th>...</th>\n",
       "      <td>...</td>\n",
       "      <td>...</td>\n",
       "      <td>...</td>\n",
       "    </tr>\n",
       "    <tr>\n",
       "      <th>28253</th>\n",
       "      <td>cg00784882</td>\n",
       "      <td>3.750090e-07</td>\n",
       "      <td>1.406317e-13</td>\n",
       "    </tr>\n",
       "    <tr>\n",
       "      <th>20396</th>\n",
       "      <td>cg22763905</td>\n",
       "      <td>3.202682e-07</td>\n",
       "      <td>1.025717e-13</td>\n",
       "    </tr>\n",
       "    <tr>\n",
       "      <th>41373</th>\n",
       "      <td>cg15479262</td>\n",
       "      <td>-3.113435e-07</td>\n",
       "      <td>9.693480e-14</td>\n",
       "    </tr>\n",
       "    <tr>\n",
       "      <th>40891</th>\n",
       "      <td>cg01693638</td>\n",
       "      <td>2.454559e-07</td>\n",
       "      <td>6.024859e-14</td>\n",
       "    </tr>\n",
       "    <tr>\n",
       "      <th>30515</th>\n",
       "      <td>cg04332373</td>\n",
       "      <td>1.311960e-07</td>\n",
       "      <td>1.721239e-14</td>\n",
       "    </tr>\n",
       "  </tbody>\n",
       "</table>\n",
       "<p>45188 rows × 3 columns</p>\n",
       "</div>"
      ],
      "text/plain": [
       "              CPG    Attributes  Attributes Sq\n",
       "7417   cg13498216 -2.395550e-02   5.738660e-04\n",
       "3311   cg22153345  2.366808e-02   5.601779e-04\n",
       "12191  cg20389709 -2.356464e-02   5.552922e-04\n",
       "15092  cg13311805 -2.265269e-02   5.131442e-04\n",
       "30565  cg04295700 -1.720729e-02   2.960908e-04\n",
       "...           ...           ...            ...\n",
       "28253  cg00784882  3.750090e-07   1.406317e-13\n",
       "20396  cg22763905  3.202682e-07   1.025717e-13\n",
       "41373  cg15479262 -3.113435e-07   9.693480e-14\n",
       "40891  cg01693638  2.454559e-07   6.024859e-14\n",
       "30515  cg04332373  1.311960e-07   1.721239e-14\n",
       "\n",
       "[45188 rows x 3 columns]"
      ]
     },
     "execution_count": 42,
     "metadata": {},
     "output_type": "execute_result"
    }
   ],
   "source": [
    "attributes = attributes.sort_values(by = ['Attributes Sq'], ascending = False)\n",
    "attributes"
   ]
  },
  {
   "cell_type": "code",
   "execution_count": 43,
   "id": "ffe6b720-2db2-4edd-9e9c-320ac47d1108",
   "metadata": {},
   "outputs": [],
   "source": [
    "attributes.iloc[:100,:].to_csv('Top100_CPG_IG_Captum.csv')"
   ]
  },
  {
   "cell_type": "code",
   "execution_count": 50,
   "id": "2acfd6fb-e456-49ce-a51a-2ae9de5e40d6",
   "metadata": {},
   "outputs": [
    {
     "data": {
      "text/html": [
       "<div>\n",
       "<style scoped>\n",
       "    .dataframe tbody tr th:only-of-type {\n",
       "        vertical-align: middle;\n",
       "    }\n",
       "\n",
       "    .dataframe tbody tr th {\n",
       "        vertical-align: top;\n",
       "    }\n",
       "\n",
       "    .dataframe thead th {\n",
       "        text-align: right;\n",
       "    }\n",
       "</style>\n",
       "<table border=\"1\" class=\"dataframe\">\n",
       "  <thead>\n",
       "    <tr style=\"text-align: right;\">\n",
       "      <th></th>\n",
       "      <th>0</th>\n",
       "    </tr>\n",
       "  </thead>\n",
       "  <tbody>\n",
       "    <tr>\n",
       "      <th>0</th>\n",
       "      <td>cg10847607</td>\n",
       "    </tr>\n",
       "    <tr>\n",
       "      <th>1</th>\n",
       "      <td>cg01455177</td>\n",
       "    </tr>\n",
       "    <tr>\n",
       "      <th>2</th>\n",
       "      <td>cg06746652</td>\n",
       "    </tr>\n",
       "    <tr>\n",
       "      <th>3</th>\n",
       "      <td>cg11490836</td>\n",
       "    </tr>\n",
       "    <tr>\n",
       "      <th>4</th>\n",
       "      <td>cg06679270</td>\n",
       "    </tr>\n",
       "    <tr>\n",
       "      <th>...</th>\n",
       "      <td>...</td>\n",
       "    </tr>\n",
       "    <tr>\n",
       "      <th>495</th>\n",
       "      <td>cg15420678</td>\n",
       "    </tr>\n",
       "    <tr>\n",
       "      <th>496</th>\n",
       "      <td>cg17529006</td>\n",
       "    </tr>\n",
       "    <tr>\n",
       "      <th>497</th>\n",
       "      <td>cg17999327</td>\n",
       "    </tr>\n",
       "    <tr>\n",
       "      <th>498</th>\n",
       "      <td>cg00238023</td>\n",
       "    </tr>\n",
       "    <tr>\n",
       "      <th>499</th>\n",
       "      <td>cg00151191</td>\n",
       "    </tr>\n",
       "  </tbody>\n",
       "</table>\n",
       "<p>500 rows × 1 columns</p>\n",
       "</div>"
      ],
      "text/plain": [
       "              0\n",
       "0    cg10847607\n",
       "1    cg01455177\n",
       "2    cg06746652\n",
       "3    cg11490836\n",
       "4    cg06679270\n",
       "..          ...\n",
       "495  cg15420678\n",
       "496  cg17529006\n",
       "497  cg17999327\n",
       "498  cg00238023\n",
       "499  cg00151191\n",
       "\n",
       "[500 rows x 1 columns]"
      ]
     },
     "execution_count": 50,
     "metadata": {},
     "output_type": "execute_result"
    }
   ],
   "source": [
    "# read in top 500 cpg islands from tensorflow feature importance permutation \n",
    "data = pd.read_csv('top_500_cpg_islands.txt', sep=\" \", header=None)\n",
    "data"
   ]
  },
  {
   "cell_type": "code",
   "execution_count": 51,
   "id": "b7830fea-d0a3-4b82-b22e-21466fbabe22",
   "metadata": {},
   "outputs": [],
   "source": [
    "cpg_fip = data[0]"
   ]
  },
  {
   "cell_type": "code",
   "execution_count": 52,
   "id": "be212fba-c0ad-4a04-910a-c46f3a1309a3",
   "metadata": {},
   "outputs": [],
   "source": [
    "cpg_captum = attributes['CPG'].to_list()"
   ]
  },
  {
   "cell_type": "code",
   "execution_count": 53,
   "id": "030ba367-d54d-42e9-b364-064ce5ef5c77",
   "metadata": {},
   "outputs": [],
   "source": [
    "cpg_fip = data[0].to_list()"
   ]
  },
  {
   "cell_type": "code",
   "execution_count": 54,
   "id": "7ecee973-fb26-41e1-96f6-235af3574e42",
   "metadata": {},
   "outputs": [],
   "source": [
    "intersect = list(set(cpg_captum) & set(cpg_fip)) # check intersect of cpg islands from Captum and feature importance permutation "
   ]
  },
  {
   "cell_type": "code",
   "execution_count": 55,
   "id": "0ee8c5cb-ceae-4420-a79f-9d94348ebc59",
   "metadata": {},
   "outputs": [
    {
     "data": {
      "text/plain": [
       "500"
      ]
     },
     "execution_count": 55,
     "metadata": {},
     "output_type": "execute_result"
    }
   ],
   "source": [
    "len(intersect) # no. of intersecting cpg islands"
   ]
  }
 ],
 "metadata": {
  "kernelspec": {
   "display_name": "Python 3",
   "language": "python",
   "name": "python3"
  },
  "language_info": {
   "codemirror_mode": {
    "name": "ipython",
    "version": 3
   },
   "file_extension": ".py",
   "mimetype": "text/x-python",
   "name": "python",
   "nbconvert_exporter": "python",
   "pygments_lexer": "ipython3",
   "version": "3.8.12"
  }
 },
 "nbformat": 4,
 "nbformat_minor": 5
}
