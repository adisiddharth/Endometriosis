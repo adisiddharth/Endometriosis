{
 "cells": [
  {
   "cell_type": "code",
   "execution_count": 36,
   "id": "2a0b6d3c-5590-486d-beaa-873343982996",
   "metadata": {},
   "outputs": [
    {
     "name": "stdout",
     "output_type": "stream",
     "text": [
      "2.7.0\n"
     ]
    }
   ],
   "source": [
    "# Import libraries\n",
    "import numpy as np\n",
    "import pandas as pd\n",
    "\n",
    "from __future__ import absolute_import, division, print_function\n",
    "\n",
    "import tensorflow as tf\n",
    "from tensorflow import keras\n",
    "\n",
    "import numpy as np\n",
    "from sklearn.metrics import mean_absolute_error\n",
    "print(tf.__version__)"
   ]
  },
  {
   "cell_type": "code",
   "execution_count": 37,
   "id": "9fd4efea-ce63-464a-8717-744290d8faa9",
   "metadata": {},
   "outputs": [],
   "source": [
    "# Read in small dataset\n",
    "meth = pd.read_csv('meth_merged_small.csv')"
   ]
  },
  {
   "cell_type": "code",
   "execution_count": 38,
   "id": "4ba2bc57-8d2d-4e9b-9527-c622041c61a3",
   "metadata": {},
   "outputs": [
    {
     "data": {
      "text/html": [
       "<div>\n",
       "<style scoped>\n",
       "    .dataframe tbody tr th:only-of-type {\n",
       "        vertical-align: middle;\n",
       "    }\n",
       "\n",
       "    .dataframe tbody tr th {\n",
       "        vertical-align: top;\n",
       "    }\n",
       "\n",
       "    .dataframe thead th {\n",
       "        text-align: right;\n",
       "    }\n",
       "</style>\n",
       "<table border=\"1\" class=\"dataframe\">\n",
       "  <thead>\n",
       "    <tr style=\"text-align: right;\">\n",
       "      <th></th>\n",
       "      <th>meth_id</th>\n",
       "      <th>meth_id.1</th>\n",
       "      <th>Endometriosis</th>\n",
       "      <th>Cycle_Phase</th>\n",
       "      <th>Stage</th>\n",
       "      <th>Institute</th>\n",
       "      <th>Batch</th>\n",
       "      <th>cg21870274</th>\n",
       "      <th>cg09499020</th>\n",
       "      <th>cg16535257</th>\n",
       "      <th>...</th>\n",
       "      <th>cg17153432</th>\n",
       "      <th>cg00113194</th>\n",
       "      <th>cg02968844</th>\n",
       "      <th>cg16248916</th>\n",
       "      <th>cg20322444</th>\n",
       "      <th>cg01394461</th>\n",
       "      <th>cg09555360</th>\n",
       "      <th>cg07701223</th>\n",
       "      <th>cg16608242</th>\n",
       "      <th>cg21830050</th>\n",
       "    </tr>\n",
       "  </thead>\n",
       "  <tbody>\n",
       "    <tr>\n",
       "      <th>0</th>\n",
       "      <td>201904640089_R01C01</td>\n",
       "      <td>201904640089_R01C01</td>\n",
       "      <td>Yes</td>\n",
       "      <td>PE</td>\n",
       "      <td>III-IV</td>\n",
       "      <td>IMB, UQ</td>\n",
       "      <td>1</td>\n",
       "      <td>2.039036</td>\n",
       "      <td>-0.721799</td>\n",
       "      <td>-0.411768</td>\n",
       "      <td>...</td>\n",
       "      <td>2.773698</td>\n",
       "      <td>1.420255</td>\n",
       "      <td>2.749763</td>\n",
       "      <td>3.263263</td>\n",
       "      <td>1.921350</td>\n",
       "      <td>1.388495</td>\n",
       "      <td>2.775411</td>\n",
       "      <td>3.004400</td>\n",
       "      <td>4.253018</td>\n",
       "      <td>2.935569</td>\n",
       "    </tr>\n",
       "    <tr>\n",
       "      <th>1</th>\n",
       "      <td>201904640089_R02C01</td>\n",
       "      <td>201904640089_R02C01</td>\n",
       "      <td>No</td>\n",
       "      <td>PE</td>\n",
       "      <td>CONTROL</td>\n",
       "      <td>UCSF</td>\n",
       "      <td>1</td>\n",
       "      <td>1.960953</td>\n",
       "      <td>-0.483177</td>\n",
       "      <td>-0.821167</td>\n",
       "      <td>...</td>\n",
       "      <td>2.147846</td>\n",
       "      <td>1.356343</td>\n",
       "      <td>2.643704</td>\n",
       "      <td>3.314683</td>\n",
       "      <td>1.785078</td>\n",
       "      <td>1.599123</td>\n",
       "      <td>3.092374</td>\n",
       "      <td>3.474082</td>\n",
       "      <td>4.671594</td>\n",
       "      <td>3.087222</td>\n",
       "    </tr>\n",
       "    <tr>\n",
       "      <th>2</th>\n",
       "      <td>201904640089_R03C01</td>\n",
       "      <td>201904640089_R03C01</td>\n",
       "      <td>Yes</td>\n",
       "      <td>SE</td>\n",
       "      <td>III-IV</td>\n",
       "      <td>UCSF</td>\n",
       "      <td>1</td>\n",
       "      <td>2.091686</td>\n",
       "      <td>-0.779545</td>\n",
       "      <td>-1.158785</td>\n",
       "      <td>...</td>\n",
       "      <td>2.436249</td>\n",
       "      <td>1.724266</td>\n",
       "      <td>2.461790</td>\n",
       "      <td>2.855318</td>\n",
       "      <td>1.585979</td>\n",
       "      <td>1.318879</td>\n",
       "      <td>2.888255</td>\n",
       "      <td>2.582067</td>\n",
       "      <td>4.569804</td>\n",
       "      <td>3.002670</td>\n",
       "    </tr>\n",
       "    <tr>\n",
       "      <th>3</th>\n",
       "      <td>201904640089_R04C01</td>\n",
       "      <td>201904640089_R04C01</td>\n",
       "      <td>Yes</td>\n",
       "      <td>SE</td>\n",
       "      <td>I-II</td>\n",
       "      <td>IMB, UQ</td>\n",
       "      <td>1</td>\n",
       "      <td>2.681174</td>\n",
       "      <td>-0.641505</td>\n",
       "      <td>-0.856451</td>\n",
       "      <td>...</td>\n",
       "      <td>2.330939</td>\n",
       "      <td>1.625036</td>\n",
       "      <td>2.861133</td>\n",
       "      <td>3.584844</td>\n",
       "      <td>1.972525</td>\n",
       "      <td>1.272687</td>\n",
       "      <td>2.771981</td>\n",
       "      <td>2.859650</td>\n",
       "      <td>4.437911</td>\n",
       "      <td>2.710566</td>\n",
       "    </tr>\n",
       "    <tr>\n",
       "      <th>4</th>\n",
       "      <td>201904640089_R05C01</td>\n",
       "      <td>201904640089_R05C01</td>\n",
       "      <td>No</td>\n",
       "      <td>PE</td>\n",
       "      <td>CONTROL</td>\n",
       "      <td>IMB, UQ</td>\n",
       "      <td>1</td>\n",
       "      <td>1.765793</td>\n",
       "      <td>-1.132911</td>\n",
       "      <td>-0.136729</td>\n",
       "      <td>...</td>\n",
       "      <td>2.515127</td>\n",
       "      <td>1.605927</td>\n",
       "      <td>2.596237</td>\n",
       "      <td>3.157005</td>\n",
       "      <td>1.748679</td>\n",
       "      <td>1.407672</td>\n",
       "      <td>2.765344</td>\n",
       "      <td>3.176926</td>\n",
       "      <td>4.685812</td>\n",
       "      <td>2.794114</td>\n",
       "    </tr>\n",
       "  </tbody>\n",
       "</table>\n",
       "<p>5 rows × 101 columns</p>\n",
       "</div>"
      ],
      "text/plain": [
       "               meth_id            meth_id.1 Endometriosis Cycle_Phase  \\\n",
       "0  201904640089_R01C01  201904640089_R01C01           Yes          PE   \n",
       "1  201904640089_R02C01  201904640089_R02C01            No          PE   \n",
       "2  201904640089_R03C01  201904640089_R03C01           Yes          SE   \n",
       "3  201904640089_R04C01  201904640089_R04C01           Yes          SE   \n",
       "4  201904640089_R05C01  201904640089_R05C01            No          PE   \n",
       "\n",
       "     Stage Institute  Batch  cg21870274  cg09499020  cg16535257  ...  \\\n",
       "0   III-IV   IMB, UQ      1    2.039036   -0.721799   -0.411768  ...   \n",
       "1  CONTROL      UCSF      1    1.960953   -0.483177   -0.821167  ...   \n",
       "2   III-IV      UCSF      1    2.091686   -0.779545   -1.158785  ...   \n",
       "3     I-II   IMB, UQ      1    2.681174   -0.641505   -0.856451  ...   \n",
       "4  CONTROL   IMB, UQ      1    1.765793   -1.132911   -0.136729  ...   \n",
       "\n",
       "   cg17153432  cg00113194  cg02968844  cg16248916  cg20322444  cg01394461  \\\n",
       "0    2.773698    1.420255    2.749763    3.263263    1.921350    1.388495   \n",
       "1    2.147846    1.356343    2.643704    3.314683    1.785078    1.599123   \n",
       "2    2.436249    1.724266    2.461790    2.855318    1.585979    1.318879   \n",
       "3    2.330939    1.625036    2.861133    3.584844    1.972525    1.272687   \n",
       "4    2.515127    1.605927    2.596237    3.157005    1.748679    1.407672   \n",
       "\n",
       "   cg09555360  cg07701223  cg16608242  cg21830050  \n",
       "0    2.775411    3.004400    4.253018    2.935569  \n",
       "1    3.092374    3.474082    4.671594    3.087222  \n",
       "2    2.888255    2.582067    4.569804    3.002670  \n",
       "3    2.771981    2.859650    4.437911    2.710566  \n",
       "4    2.765344    3.176926    4.685812    2.794114  \n",
       "\n",
       "[5 rows x 101 columns]"
      ]
     },
     "execution_count": 38,
     "metadata": {},
     "output_type": "execute_result"
    }
   ],
   "source": [
    "meth.head()"
   ]
  },
  {
   "cell_type": "code",
   "execution_count": 41,
   "id": "ff04cb65-fdaa-48ab-a1b6-ce9d0647276f",
   "metadata": {},
   "outputs": [],
   "source": [
    "# Set axis to IDs\n",
    "meth.set_axis(meth['meth_id'], inplace = True)"
   ]
  },
  {
   "cell_type": "code",
   "execution_count": 43,
   "id": "0dd30252-f71d-4a00-9900-5bcac136831c",
   "metadata": {},
   "outputs": [],
   "source": [
    "# Drop the ID cols \n",
    "cols_drop = ['meth_id', 'meth_id.1']\n",
    "meth.drop(columns=cols_drop, inplace = True)"
   ]
  },
  {
   "cell_type": "code",
   "execution_count": 44,
   "id": "514871f7-a431-48cd-a98b-14b77229c109",
   "metadata": {},
   "outputs": [],
   "source": [
    "# Change Endo Yes/No to binary\n",
    "meth['Endometriosis_int'] = np.where(meth['Endometriosis'] == 'Yes', 1, meth['Endometriosis'])\n",
    "meth['Endometriosis_int'] = np.where(meth['Endometriosis_int'] == 'No', 0, meth['Endometriosis_int'])"
   ]
  },
  {
   "cell_type": "code",
   "execution_count": 45,
   "id": "2d329e92-7d92-4ec9-bd87-351691defdb4",
   "metadata": {},
   "outputs": [],
   "source": [
    "# Split dataset into features and target \n",
    "x = meth.iloc[:, np.r_[5:99]]\n",
    "y = meth['Endometriosis_int']"
   ]
  },
  {
   "cell_type": "code",
   "execution_count": 47,
   "id": "50fedd0c-d761-4a34-8866-168bc0f107cf",
   "metadata": {
    "scrolled": true,
    "tags": []
   },
   "outputs": [
    {
     "name": "stdout",
     "output_type": "stream",
     "text": [
      "Fold #1\n",
      "Train score (R2): 0.7712025666271011\n",
      "Train score (MAE): 0.3758791387081146\n",
      "Test score (R2): 0.10890020707361484\n",
      "Test score (MAE): 0.5950193405151367\n",
      "Fold #2\n",
      "Train score (R2): 0.7424286444616102\n",
      "Train score (MAE): 0.374164879322052\n",
      "Test score (R2): 0.18455890102116473\n",
      "Test score (MAE): 0.7829753756523132\n",
      "Fold #3\n",
      "Train score (R2): 0.9009016854323092\n",
      "Train score (MAE): 0.2415551096200943\n",
      "Test score (R2): 0.09788734483146953\n",
      "Test score (MAE): 0.6170359253883362\n",
      "Fold #4\n",
      "Train score (R2): 0.712209285566221\n",
      "Train score (MAE): 0.39045241475105286\n",
      "Test score (R2): 5.3980982829050046e-05\n",
      "Test score (MAE): 0.6438983082771301\n",
      "Fold #5\n",
      "Train score (R2): 0.8540305660846361\n",
      "Train score (MAE): 0.3033837378025055\n",
      "Test score (R2): 0.040974639781687354\n",
      "Test score (MAE): 0.6773735880851746\n",
      "Train score Final (R2): 0.7950362792192281\n",
      "Train score Final (MAE): 0.3417976498603821\n",
      "Final, out of sample score (R2): 0.012036605891420688\n",
      "Final, out of sample score (MAE): 0.6665241122245789\n"
     ]
    }
   ],
   "source": [
    "import pandas as pd \n",
    "import os\n",
    "import numpy as np\n",
    "from sklearn import metrics\n",
    "from scipy.stats import zscore\n",
    "from sklearn.model_selection import KFold\n",
    "from tensorflow.keras.models import Sequential\n",
    "from tensorflow.keras.layers import Dense, Activation\n",
    "from sklearn.metrics import r2_score\n",
    "import itertools \n",
    "from itertools import chain\n",
    "from sklearn.model_selection import train_test_split\n",
    "import scipy \n",
    "from scipy.stats import linregress\n",
    "# Cross-Validate\n",
    "#kf = KFold(5, shuffle=True, random_state=42) # Use for KFold classification\n",
    "    \n",
    "oos_y = []\n",
    "oos_pred = []\n",
    "\n",
    "train_y = []\n",
    "train_pred_y = []\n",
    "\n",
    "activation1 = 'relu'\n",
    "activation2 = 'relu'\n",
    "\n",
    "fold = 0\n",
    "#for train, test in kf.split(x):\n",
    "for i in range(5):\n",
    "    fold+=1\n",
    "    print(f\"Fold #{fold}\")\n",
    "    \n",
    "    x_train, x_test, y_train, y_test = train_test_split(x, y, test_size=0.2, random_state=None)\n",
    "    \n",
    "    # Convert to float32\n",
    "    x_train = np.asarray(x_train).astype('float32')\n",
    "    y_train = np.asarray(y_train).astype('float32')\n",
    "    x_test = np.asarray(x_test).astype('float32')\n",
    "    y_test = np.asarray(y_test).astype('float32')\n",
    "    \n",
    "    # build model\n",
    "    model = Sequential()\n",
    "    model.add(Dense(100, input_dim=x_train.shape[1], activation = activation1))\n",
    "    model.add(Dense(100, activation= activation1))\n",
    "    model.add(Dense(100, activation=activation1))\n",
    "    model.add(Dense(100, activation=activation1))\n",
    "    model.add(Dense(100, activation=activation1))\n",
    "    model.add(Dense(100, activation=activation1))\n",
    "    model.add(Dense(100, activation=activation1))\n",
    "    model.add(Dense(100, activation=activation1))\n",
    "    model.add(Dense(100, activation=activation2))\n",
    "    model.add(Dense(1))\n",
    "    model.compile(loss='mae', optimizer=tf.optimizers.Adamax(0.0001), metrics=['mae'])\n",
    "\n",
    "    # Training\n",
    "    history = model.fit(x_train,y_train,validation_data=(x_test,y_test),verbose=0,\n",
    "              epochs=500)\n",
    "    \n",
    "    train_pred = model.predict(x_train)\n",
    "    \n",
    "    #Prediction\n",
    "    pred = model.predict(x_test)\n",
    "    \n",
    "    oos_y.append(y_test)\n",
    "    oos_pred.append(pred)\n",
    "    \n",
    "    train_y.append(y_train)\n",
    "    train_pred_y.append(train_pred)\n",
    "    #print(y_test)\n",
    "    #print(pred)\n",
    "\n",
    "    # Measure this fold's MAE\n",
    "    train_score = np.sqrt(metrics.mean_absolute_error(train_pred, y_train))\n",
    "    #R2_train = r2_score(train_pred, y_train)\n",
    "    r_val = np.corrcoef(train_pred.flatten(), y_train.flatten())\n",
    "    R2_train = str(r_val[0, 1]**2)\n",
    "    print(f\"Train score (R2): {R2_train}\")\n",
    "    print(f\"Train score (MAE): {train_score}\")\n",
    "    \n",
    "    \n",
    "    score = np.sqrt(metrics.mean_absolute_error(pred,y_test))\n",
    "    #R2 = r2_score(pred, y_test)\n",
    "    r_val = np.corrcoef(pred.flatten(), y_test.flatten())\n",
    "    R2 = str(r_val[0, 1]**2)\n",
    "    print(f\"Test score (R2): {R2}\")\n",
    "    print(f\"Test score (MAE): {score}\")\n",
    "\n",
    "# Build the oos prediction list and calculate the error.\n",
    "oos_y = np.concatenate(oos_y)\n",
    "oos_pred = np.concatenate(oos_pred)\n",
    "\n",
    "\n",
    "train_y = np.concatenate(train_y)\n",
    "train_pred_y = np.concatenate(train_pred_y)\n",
    "\n",
    "\n",
    "train_score = np.sqrt(metrics.mean_absolute_error(train_y, train_pred_y))\n",
    "r_val = np.corrcoef(train_y, train_pred_y.flatten())\n",
    "R2_train = str(r_val[0, 1]**2)\n",
    "print(f\"Train score Final (R2): {R2_train}\")\n",
    "print(f\"Train score Final (MAE): {train_score}\")\n",
    "\n",
    "# Write the cross-validated prediction\n",
    "oos_y = pd.DataFrame(oos_y)\n",
    "oos_pred = pd.DataFrame(oos_pred)\n",
    "\n",
    "score = np.sqrt(metrics.mean_absolute_error(oos_pred,oos_y))\n",
    "r_val = np.corrcoef(oos_y[0], oos_pred[0])\n",
    "R2 = str(r_val[0, 1]**2)\n",
    "print(f\"Final, out of sample score (R2): {R2}\")\n",
    "print(f\"Final, out of sample score (MAE): {score}\")    \n",
    "    \n",
    "\n",
    "#oosDF = pd.concat( [df, oos_y, oos_pred],axis=1 )\n",
    "#oosDF.to_csv(filename_write,index=False)"
   ]
  },
  {
   "cell_type": "code",
   "execution_count": 48,
   "id": "af0278c8-5da2-40ac-a581-3ebc21f8829b",
   "metadata": {},
   "outputs": [],
   "source": [
    "train_pred_y = train_pred_y.flatten()"
   ]
  },
  {
   "cell_type": "code",
   "execution_count": 49,
   "id": "0ceb49cd-bd5c-446d-9ecb-bba49a2423a7",
   "metadata": {},
   "outputs": [
    {
     "data": {
      "image/png": "[encoded data removed]",
      "text/plain": [
       "<Figure size 432x288 with 1 Axes>"
      ]
     },
     "metadata": {
      "needs_background": "light"
     },
     "output_type": "display_data"
    }
   ],
   "source": [
    "import matplotlib.pyplot as plt\n",
    "\n",
    "fig = plt.figure()\n",
    "ax = plt.subplot()\n",
    "ax.plot(history.epoch, np.array(history.history['mae']),\n",
    "           label='Train Loss')\n",
    "ax.plot(history.epoch, np.array(history.history['val_mae']),\n",
    "           label = 'Val Loss')\n",
    "plt.xlabel('Epoch')\n",
    "plt.ylabel('Mean Abs Error')\n",
    "plt.title('Train vs Val Loss')\n",
    "plt.legend()\n",
    "plt.ylim([0, 2.5])\n",
    "plt.xlim([0, 500])\n",
    "plt.show()\n",
    "#fig.savefig(activation1 + '_' + activation2 + '_' + 'train_loss.png', dpi=400)"
   ]
  },
  {
   "cell_type": "code",
   "execution_count": 50,
   "id": "cd1df541-d787-4d8f-b3d2-c7b5c0c654fc",
   "metadata": {},
   "outputs": [
    {
     "data": {
      "text/plain": [
       "[<matplotlib.lines.Line2D at 0x196458788e0>]"
      ]
     },
     "execution_count": 50,
     "metadata": {},
     "output_type": "execute_result"
    },
    {
     "data": {
      "image/png": "[encoded data removed]",
      "text/plain": [
       "<Figure size 432x288 with 1 Axes>"
      ]
     },
     "metadata": {
      "needs_background": "light"
     },
     "output_type": "display_data"
    }
   ],
   "source": [
    "plt.scatter(train_y, train_pred_y, alpha = 0.3)\n",
    "plt.xlabel('True Values')\n",
    "plt.ylabel('Predictions')\n",
    "plt.axis('equal')\n",
    "plt.title('Train MAE per Epoch')\n",
    "plt.xlim(0, 1)\n",
    "plt.ylim(0, 1.25)\n",
    "plt.plot([0, 1], [0,1], '--')\n",
    "#plt.savefig(activation1 + '_' + activation2 + '_' + 'true_vs_pred_train.png')"
   ]
  },
  {
   "cell_type": "code",
   "execution_count": 51,
   "id": "6662c50c-bca6-4458-8ea7-1683476a36bc",
   "metadata": {},
   "outputs": [
    {
     "data": {
      "image/png": "[encoded data removed]",
      "text/plain": [
       "<Figure size 432x288 with 1 Axes>"
      ]
     },
     "metadata": {
      "needs_background": "light"
     },
     "output_type": "display_data"
    }
   ],
   "source": [
    "error = train_pred_y - train_y\n",
    "plt.hist(error, bins = 50)\n",
    "plt.title('Train Error')\n",
    "plt.xlabel(\"Prediction Error(MAE)\")\n",
    "_ = plt.ylabel(\"Count\")\n",
    "#plt.savefig(activation1 + '_' + activation2 + '_' + 'train_error.png')"
   ]
  },
  {
   "cell_type": "code",
   "execution_count": 52,
   "id": "4ec6414f-dc08-404d-a90f-79e50ac42652",
   "metadata": {},
   "outputs": [
    {
     "data": {
      "text/plain": [
       "[<matplotlib.lines.Line2D at 0x19643f796d0>]"
      ]
     },
     "execution_count": 52,
     "metadata": {},
     "output_type": "execute_result"
    },
    {
     "data": {
      "image/png": "[encoded data removed]",
      "text/plain": [
       "<Figure size 432x288 with 1 Axes>"
      ]
     },
     "metadata": {
      "needs_background": "light"
     },
     "output_type": "display_data"
    }
   ],
   "source": [
    "plt.scatter(oos_y, oos_pred, alpha = 0.3)\n",
    "plt.xlabel('True Values')\n",
    "plt.ylabel('Predictions')\n",
    "plt.axis('equal')\n",
    "plt.title('True vs Pred Test')\n",
    "plt.xlim(0, 1)\n",
    "plt.ylim(0, 1.25)\n",
    "plt.plot([0, 1], [0,1], '--')\n",
    "#plt.savefig(activation1 + '_' + activation2 + '_' + 'true_vs_pred_test.png')"
   ]
  },
  {
   "cell_type": "code",
   "execution_count": 53,
   "id": "1bd04dc3-2cb6-4cd6-98d9-f630ed701356",
   "metadata": {},
   "outputs": [
    {
     "data": {
      "image/png": "[encoded data removed]",
      "text/plain": [
       "<Figure size 432x288 with 1 Axes>"
      ]
     },
     "metadata": {
      "needs_background": "light"
     },
     "output_type": "display_data"
    }
   ],
   "source": [
    "error = oos_pred - oos_y\n",
    "plt.hist(error, bins = 50)\n",
    "plt.title('Test Error')\n",
    "plt.xlabel(\"Prediction Error(MAE)\")\n",
    "_ = plt.ylabel(\"Count\")\n",
    "#plt.savefig(activation1 + '_' + activation2 + '_' + 'test_error.png')"
   ]
  },
  {
   "cell_type": "code",
   "execution_count": 54,
   "id": "b77a3e7f-36af-4d96-9376-f5fd47af8df8",
   "metadata": {},
   "outputs": [],
   "source": [
    "r_probs = [0 for _ in range(len(oos_y))]"
   ]
  },
  {
   "cell_type": "code",
   "execution_count": 55,
   "id": "db182e7e-9e3c-4774-b0f3-ef6a9bfe38b0",
   "metadata": {},
   "outputs": [],
   "source": [
    "from sklearn.metrics import roc_curve, roc_auc_score\n",
    "#Random chance ROC\n",
    "r_auc = roc_auc_score(oos_y, r_probs)\n",
    "r_fpr, r_tpr, _ = roc_curve(oos_y, r_probs)\n",
    "\n",
    "#Test ROC\n",
    "fpr, tpr, _ = roc_curve(oos_y, oos_pred)\n",
    "auc = roc_auc_score(oos_y, oos_pred)\n",
    "\n",
    "\n",
    "#Train ROC\n",
    "tr_fpr, tr_tpr, _ = roc_curve(train_y, train_pred_y)\n",
    "tr_auc = roc_auc_score(train_y, train_pred_y)"
   ]
  },
  {
   "cell_type": "code",
   "execution_count": 56,
   "id": "70285690-314d-42b6-9cb2-0601ed9fe9ba",
   "metadata": {},
   "outputs": [
    {
     "name": "stdout",
     "output_type": "stream",
     "text": [
      "Random (chance) Prediction: AUROC = 0.500\n",
      "Test Prediction: AUROC = 0.568\n",
      "Train Prediction: AUROC = 0.984\n"
     ]
    }
   ],
   "source": [
    "print('Random (chance) Prediction: AUROC = %.3f' % (r_auc))\n",
    "print('Test Prediction: AUROC = %.3f' % (auc))\n",
    "print('Train Prediction: AUROC = %.3f' % (tr_auc))"
   ]
  },
  {
   "cell_type": "code",
   "execution_count": 57,
   "id": "b0ab5ca8-d53b-4fb2-8bf1-5e6a1bdf8a79",
   "metadata": {},
   "outputs": [
    {
     "data": {
      "image/png": "[encoded data removed]",
      "text/plain": [
       "<Figure size 432x288 with 1 Axes>"
      ]
     },
     "metadata": {
      "needs_background": "light"
     },
     "output_type": "display_data"
    }
   ],
   "source": [
    "plt.plot(r_fpr, r_tpr, linestyle='--', label='Random prediction (AUROC = %0.3f)' % r_auc)\n",
    "plt.plot(tr_fpr, tr_tpr, marker='.', label='Train (AUROC = %0.3f)' % tr_auc)\n",
    "plt.plot(fpr, tpr, marker='.', label='Test (AUROC = %0.3f)' % auc)\n",
    "\n",
    "# Title\n",
    "plt.title('ROC Plot')\n",
    "# Axis labels\n",
    "plt.xlabel('False Positive Rate')\n",
    "plt.ylabel('True Positive Rate')\n",
    "# Show legend\n",
    "plt.legend(loc = 'lower right', prop={'size': 10}) \n",
    "plt.tight_layout()\n",
    "#plt.savefig(activation1 + '_' + activation2 + '_' + 'ROC_Curve.png')"
   ]
  },
  {
   "cell_type": "code",
   "execution_count": 58,
   "id": "644990c8-d0f8-4faf-ab75-bb337adc4555",
   "metadata": {},
   "outputs": [],
   "source": [
    "test_pred_int = np.where(oos_pred<0.5, 0, 1)\n",
    "train_pred_int = np.where(train_pred_y<0.5, 0, 1)"
   ]
  },
  {
   "cell_type": "code",
   "execution_count": 59,
   "id": "a6463482-772c-493e-a639-f5221f6ae3d5",
   "metadata": {},
   "outputs": [],
   "source": [
    "from sklearn.metrics import confusion_matrix\n",
    "test_conf = confusion_matrix(oos_y, test_pred_int)\n",
    "train_conf = confusion_matrix(train_y, train_pred_int)"
   ]
  },
  {
   "cell_type": "code",
   "execution_count": 60,
   "id": "fcb3b2f7-4a14-4e61-b331-4a16825bc7c8",
   "metadata": {},
   "outputs": [
    {
     "data": {
      "image/png": "[encoded data removed]",
      "text/plain": [
       "<Figure size 432x288 with 2 Axes>"
      ]
     },
     "metadata": {},
     "output_type": "display_data"
    }
   ],
   "source": [
    "import seaborn as sns\n",
    "df_cm = pd.DataFrame(train_conf, range(2), range(2))\n",
    "df_cm = df_cm.rename(index={0: \"Control\", 1: \"Case\"})\n",
    "df_cm = df_cm.rename(columns={0: \"Control\", 1: \"Case\"})\n",
    "# plt.figure(figsize=(10,7))\n",
    "sns.set(font_scale=1.4) # for label size\n",
    "sns.heatmap(df_cm, annot=True, annot_kws={\"size\": 16}, fmt='g') # font size\n",
    "plt.ylabel('Actual')\n",
    "plt.xlabel('Predicted')\n",
    "plt.title('Training Confusion Matrix')\n",
    "plt.tight_layout()\n",
    "#plt.savefig(activation1 + '_' + activation2 + '_' + 'confusion_matrix_train.png')"
   ]
  },
  {
   "cell_type": "code",
   "execution_count": 61,
   "id": "99a412bf-6b9f-4efa-a64d-aa6628a90374",
   "metadata": {},
   "outputs": [
    {
     "data": {
      "image/png": "[encoded data removed]",
      "text/plain": [
       "<Figure size 432x288 with 2 Axes>"
      ]
     },
     "metadata": {},
     "output_type": "display_data"
    }
   ],
   "source": [
    "import seaborn as sns\n",
    "df_cm = pd.DataFrame(test_conf, range(2), range(2))\n",
    "df_cm = df_cm.rename(index={0: \"Control\", 1: \"Case\"})\n",
    "df_cm = df_cm.rename(columns={0: \"Control\", 1: \"Case\"})\n",
    "# plt.figure(figsize=(10,7))\n",
    "sns.set(font_scale=1.4) # for label size\n",
    "sns.heatmap(df_cm, annot=True, annot_kws={\"size\": 16}, fmt='g') # font size\n",
    "plt.ylabel('Actual')\n",
    "plt.xlabel('Predicted')\n",
    "plt.title('Testing Confusion Matrix')\n",
    "plt.tight_layout()\n",
    "#plt.savefig(activation1 + '_' + activation2 + '_' + 'confusion_matrix_test.png')"
   ]
  },
  {
   "cell_type": "markdown",
   "id": "3997460a-723b-4b4f-96fc-5936928a88d6",
   "metadata": {},
   "source": []
  }
 ],
 "metadata": {
  "kernelspec": {
   "display_name": "Python 3",
   "language": "python",
   "name": "python3"
  },
  "language_info": {
   "codemirror_mode": {
    "name": "ipython",
    "version": 3
   },
   "file_extension": ".py",
   "mimetype": "text/x-python",
   "name": "python",
   "nbconvert_exporter": "python",
   "pygments_lexer": "ipython3",
   "version": "3.8.8"
  }
 },
 "nbformat": 4,
 "nbformat_minor": 5
}
