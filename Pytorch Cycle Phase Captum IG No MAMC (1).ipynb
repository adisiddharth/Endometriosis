{
 "cells": [
  {
   "cell_type": "code",
   "execution_count": 90,
   "id": "a6fed6ac-b869-451c-9c37-ff6842d76054",
   "metadata": {},
   "outputs": [],
   "source": [
    "# import libraries\n",
    "import numpy as np\n",
    "import pandas as pd\n",
    "import torch\n",
    "import torch.nn as nn\n",
    "from torch.autograd import grad\n",
    "\n",
    "import matplotlib.pyplot as plt\n",
    "\n",
    "from captum.attr import IntegratedGradients\n",
    "from captum.attr import LayerConductance\n",
    "from captum.attr import NeuronConductance"
   ]
  },
  {
   "cell_type": "code",
   "execution_count": 91,
   "id": "cd9635d4-8afe-4470-bcf3-1f9e4fec3ebc",
   "metadata": {
    "jp-MarkdownHeadingCollapsed": true,
    "tags": []
   },
   "outputs": [
    {
     "name": "stdout",
     "output_type": "stream",
     "text": [
      "\u001b[34m\u001b[1mwandb\u001b[0m: Currently logged in as: \u001b[33madisiddharth\u001b[0m (use `wandb login --relogin` to force relogin)\n"
     ]
    }
   ],
   "source": [
    "# import and login Weights and Baises\n",
    "import wandb\n",
    "!wandb login"
   ]
  },
  {
   "cell_type": "code",
   "execution_count": 92,
   "id": "e0390fd0-25ce-4080-8340-4695b39984f4",
   "metadata": {},
   "outputs": [
    {
     "data": {
      "text/html": [
       "Finishing last run (ID:3hecc5yc) before initializing another..."
      ],
      "text/plain": [
       "<IPython.core.display.HTML object>"
      ]
     },
     "metadata": {},
     "output_type": "display_data"
    },
    {
     "data": {
      "text/html": [
       "<br/>Waiting for W&B process to finish, PID 5253... <strong style=\"color:green\">(success).</strong>"
      ],
      "text/plain": [
       "<IPython.core.display.HTML object>"
      ]
     },
     "metadata": {},
     "output_type": "display_data"
    },
    {
     "data": {
      "application/vnd.jupyter.widget-view+json": {
       "model_id": "",
       "version_major": 2,
       "version_minor": 0
      },
      "text/plain": [
       "VBox(children=(Label(value=' 0.00MB of 0.00MB uploaded (0.00MB deduped)\\r'), FloatProgress(value=1.0, max=1.0)…"
      ]
     },
     "metadata": {},
     "output_type": "display_data"
    },
    {
     "data": {
      "text/html": [
       "<style>\n",
       "    table.wandb td:nth-child(1) { padding: 0 10px; text-align: right }\n",
       "    .wandb-row { display: flex; flex-direction: row; flex-wrap: wrap; width: 100% }\n",
       "    .wandb-col { display: flex; flex-direction: column; flex-basis: 100%; flex: 1; padding: 10px; }\n",
       "    </style>\n",
       "<div class=\"wandb-row\"><div class=\"wandb-col\">\n",
       "</div><div class=\"wandb-col\">\n",
       "</div></div>\n",
       "Synced 6 W&B file(s), 0 media file(s), 0 artifact file(s) and 0 other file(s)\n",
       "<br/>Synced <strong style=\"color:#cdcd00\">earnest-jazz-36</strong>: <a href=\"https://wandb.ai/adisiddharth/Captum%20Pytorch%20Cycle%20Phase/runs/3hecc5yc\" target=\"_blank\">https://wandb.ai/adisiddharth/Captum%20Pytorch%20Cycle%20Phase/runs/3hecc5yc</a><br/>\n",
       "Find logs at: <code>./wandb/run-20220722_202016-3hecc5yc/logs</code><br/>\n"
      ],
      "text/plain": [
       "<IPython.core.display.HTML object>"
      ]
     },
     "metadata": {},
     "output_type": "display_data"
    },
    {
     "data": {
      "text/html": [
       "Successfully finished last run (ID:3hecc5yc). Initializing new run:<br/>"
      ],
      "text/plain": [
       "<IPython.core.display.HTML object>"
      ]
     },
     "metadata": {},
     "output_type": "display_data"
    },
    {
     "name": "stderr",
     "output_type": "stream",
     "text": [
      "\u001b[34m\u001b[1mwandb\u001b[0m: wandb version 0.12.21 is available!  To upgrade, please run:\n",
      "\u001b[34m\u001b[1mwandb\u001b[0m:  $ pip install wandb --upgrade\n",
      "2022-07-22 20:24:47.147054: W tensorflow/stream_executor/platform/default/dso_loader.cc:64] Could not load dynamic library 'libcudart.so.11.0'; dlerror: libcudart.so.11.0: cannot open shared object file: No such file or directory\n",
      "2022-07-22 20:24:47.147087: I tensorflow/stream_executor/cuda/cudart_stub.cc:29] Ignore above cudart dlerror if you do not have a GPU set up on your machine.\n"
     ]
    },
    {
     "data": {
      "text/html": [
       "\n",
       "                    Syncing run <strong><a href=\"https://wandb.ai/adisiddharth/Captum%20Pytorch%20Cycle%20Phase/runs/1cnj18gh\" target=\"_blank\">dainty-flower-37</a></strong> to <a href=\"https://wandb.ai/adisiddharth/Captum%20Pytorch%20Cycle%20Phase\" target=\"_blank\">Weights & Biases</a> (<a href=\"https://docs.wandb.com/integrations/jupyter.html\" target=\"_blank\">docs</a>).<br/>\n",
       "\n",
       "                "
      ],
      "text/plain": [
       "<IPython.core.display.HTML object>"
      ]
     },
     "metadata": {},
     "output_type": "display_data"
    },
    {
     "data": {
      "text/html": [
       "<button onClick=\"this.nextSibling.style.display='block';this.style.display='none';\">Display W&B run</button><iframe src=\"https://wandb.ai/adisiddharth/Captum%20Pytorch%20Cycle%20Phase/runs/1cnj18gh?jupyter=true\" style=\"border:none;width:100%;height:420px;display:none;\"></iframe>"
      ],
      "text/plain": [
       "<wandb.sdk.wandb_run.Run at 0x7fd0d48e5490>"
      ]
     },
     "execution_count": 92,
     "metadata": {},
     "output_type": "execute_result"
    }
   ],
   "source": [
    "# Initialize wandb project\n",
    "wandb.init(project = 'Captum Pytorch Cycle Phase')"
   ]
  },
  {
   "cell_type": "code",
   "execution_count": 93,
   "id": "009703e5-4853-4709-9147-4373c4fdf7d1",
   "metadata": {},
   "outputs": [],
   "source": [
    "#set cuda\n",
    "device = torch.device('cuda' if torch.cuda.is_available() else 'cpu')"
   ]
  },
  {
   "cell_type": "code",
   "execution_count": 94,
   "id": "cc66531c-da71-4c37-bbfa-827a3a9f6d5c",
   "metadata": {},
   "outputs": [],
   "source": [
    "# Train dataset\n",
    "train = pd.read_csv('Endometriosis_subset_train_feature_extract_no_mamc_splitfunction_cycle_phase_stratify_by_endo5.csv')\n",
    "\n",
    "# Set index to IDs\n",
    "train.set_axis(train['meth_id'], inplace = True)\n",
    "\n",
    "# Drop the ID cols \n",
    "cols_drop = ['meth_id', 'meth_id.1']\n",
    "train.drop(columns=cols_drop, inplace = True)\n",
    "\n",
    "# Change Endo Yes/No to binary\n",
    "train['Endometriosis_int'] = np.where(train['Endometriosis'] == 'Yes', 1, train['Endometriosis'])\n",
    "train['Endometriosis_int'] = np.where(train['Endometriosis_int'] == 'No', 0, train['Endometriosis_int'])\n",
    "\n",
    "train.drop(train.loc[train['Stage'] == 'UNKNOWN'].index, inplace=True)\n",
    "\n",
    "# Change Endo Yes/No to binary\n",
    "train['Cycle_Phase_1'] = np.where(train['Cycle_Phase'] == 'PE', 0, '')\n",
    "train['Cycle_Phase_2'] = np.where(train['Cycle_Phase'] == 'SE', 1, '')\n",
    "train['Cycle_Phase_3'] = np.where(train['Cycle_Phase'] == 'Menstrual', 2, '')\n",
    "train['Cycle_Phase_int'] = train['Cycle_Phase_1'] + train['Cycle_Phase_2'] + train['Cycle_Phase_3'] \n",
    "\n",
    "train.drop(train[train['Cycle_Phase_int'] == '2'].index, inplace = True)\n",
    "\n",
    "# Comment out to remove Cycle Phase from features\n",
    "y_train = train['Cycle_Phase_int']\n",
    "x_train = train.iloc[:, 5:-5]"
   ]
  },
  {
   "cell_type": "code",
   "execution_count": 95,
   "id": "89624112-838e-479e-9231-6774200c057f",
   "metadata": {},
   "outputs": [],
   "source": [
    "# Val dataset\n",
    "val = pd.read_csv('Endometriosis_subset_val_feature_extract_no_mamc_splitfunction_cycle_phase_stratify_by_endo5.csv')\n",
    "\n",
    "#set index to IDs\n",
    "val = val.set_axis(val['meth_id'])\n",
    "\n",
    "# Group ESE, MSE and LSE into SE \n",
    "val.loc[val['Cycle_Phase'].isin(['ESE', 'MSE', 'LSE']), 'Cycle_Phase'] = 'SE'\n",
    "\n",
    "# Change Endo Yes/No to binary\n",
    "val['Endometriosis_int'] = np.where(val['Endometriosis'] == 'Yes', 1, val['Endometriosis'])\n",
    "val['Endometriosis_int'] = np.where(val['Endometriosis_int'] == 'No', 0, val['Endometriosis_int'])\n",
    "\n",
    "val.drop(val.loc[val['Stage'] == 'UNKNOWN'].index, inplace=True)\n",
    "\n",
    "# Change Endo Yes/No to binary\n",
    "val['Cycle_Phase_1'] = np.where(val['Cycle_Phase'] == 'PE', 0, '')\n",
    "val['Cycle_Phase_2'] = np.where(val['Cycle_Phase'] == 'SE', 1, '')\n",
    "val['Cycle_Phase_3'] = np.where(val['Cycle_Phase'] == 'Menstrual', 2, '')\n",
    "val['Cycle_Phase_int'] = val['Cycle_Phase_1'] + val['Cycle_Phase_2'] + val['Cycle_Phase_3'] \n",
    "\n",
    "val.drop(val[val['Cycle_Phase_int'] == '2'].index, inplace = True)\n",
    "\n",
    "# Comment out to remove Cycle Phase from features\n",
    "y_val = val['Cycle_Phase_int']\n",
    "x_val = val.iloc[:, 7:-5]"
   ]
  },
  {
   "cell_type": "code",
   "execution_count": 96,
   "id": "edeafd84-99ac-480a-a674-7c73c037fbe1",
   "metadata": {},
   "outputs": [],
   "source": [
    "# Test dataset\n",
    "test = pd.read_csv('Endometriosis_subset_test2_feature_extract_no_mamc_splitfunction_cycle_phase_stratify_by_endo5.csv')\n",
    "\n",
    "# Assign index as IDs\n",
    "test.set_index('meth_id', inplace = True)\n",
    "\n",
    "test.drop(test.loc[test['Stage'] == 'UNKNOWN'].index, inplace=True)\n",
    "\n",
    "test.drop('Unnamed: 0', axis=1, inplace=True)\n",
    "\n",
    "# Group ESE, MSE and LSE into SE \n",
    "test.loc[test['Cycle_Phase'].isin(['ESE', 'MSE', 'LSE']), 'Cycle_Phase'] = 'SE'\n",
    "\n",
    "# Change Endo Yes/No to binary\n",
    "test['Cycle_Phase_1'] = np.where(test['Cycle_Phase'] == 'PE', 0, '')\n",
    "test['Cycle_Phase_2'] = np.where(test['Cycle_Phase'] == 'SE', 1, '')\n",
    "test['Cycle_Phase_3'] = np.where(test['Cycle_Phase'] == 'Menstrual', 2, '')\n",
    "test['Cycle_Phase_int'] = test['Cycle_Phase_1'] + test['Cycle_Phase_2'] + test['Cycle_Phase_3'] \n",
    "\n",
    "test.drop(test[test['Cycle_Phase_int'] == '2'].index, inplace = True)\n",
    "\n",
    "# Change Endo Yes/No to binary\n",
    "test['Endometriosis_int'] = np.where(test['Endometriosis'] == 'Yes', 1, test['Endometriosis'])\n",
    "test['Endometriosis_int'] = np.where(test['Endometriosis_int'] == 'No', 0, test['Endometriosis_int'])\n",
    "\n",
    "# Comment out to remove Cycle Phase from features\n",
    "#test = test.join(pd.get_dummies(test['Cycle_Phase']))\n",
    "y_test = test['Cycle_Phase_int']\n",
    "x_test = test.iloc[:, 5:-5]"
   ]
  },
  {
   "cell_type": "code",
   "execution_count": 97,
   "id": "8440e7f3-5f53-4f8b-81b9-790f17a74aa5",
   "metadata": {},
   "outputs": [],
   "source": [
    "# Set train and test features and labels\n",
    "train_features = x_train.to_numpy()\n",
    "train_labels = y_train.to_numpy(dtype=np.int64)\n",
    "\n",
    "val_features = x_val.to_numpy()\n",
    "val_labels = y_val.to_numpy(dtype=np.int64)\n",
    "\n",
    "test_features = x_test.to_numpy()\n",
    "test_labels = y_test.to_numpy(dtype=np.int64)"
   ]
  },
  {
   "cell_type": "code",
   "execution_count": 98,
   "id": "25c6efc9-5baf-4e2e-a66c-40fce2ce80b0",
   "metadata": {},
   "outputs": [],
   "source": [
    "from sklearn.preprocessing import StandardScaler\n",
    "train_features = StandardScaler().fit_transform(train_features)\n",
    "val_features = StandardScaler().fit_transform(val_features)\n",
    "test_features = StandardScaler().fit_transform(test_features)"
   ]
  },
  {
   "cell_type": "code",
   "execution_count": 99,
   "id": "237701e3-8924-4e60-b46e-7c695d063f66",
   "metadata": {},
   "outputs": [
    {
     "data": {
      "text/plain": [
       "((704, 89852), (176, 89852), (47, 89852))"
      ]
     },
     "execution_count": 99,
     "metadata": {},
     "output_type": "execute_result"
    }
   ],
   "source": [
    "train_features.shape, val_features.shape, test_features.shape"
   ]
  },
  {
   "cell_type": "code",
   "execution_count": 100,
   "id": "9e7e0ff8-619c-47af-84ac-65fc52ac0950",
   "metadata": {},
   "outputs": [],
   "source": [
    "# Set hyperparameters\n",
    "lr=0.0001 \n",
    "optimizer = \"Adamax\"\n",
    "num_epochs = 500\n",
    "loss = 'CrossEntropyLoss'\n",
    "nodes = 300\n",
    "activation1 = 'relu'\n",
    "activation2 = 'softmax'"
   ]
  },
  {
   "cell_type": "code",
   "execution_count": 101,
   "id": "82d64b4e-fd3a-4395-a291-f14803b272b6",
   "metadata": {},
   "outputs": [
    {
     "data": {
      "text/html": [
       "Finishing last run (ID:1cnj18gh) before initializing another..."
      ],
      "text/plain": [
       "<IPython.core.display.HTML object>"
      ]
     },
     "metadata": {},
     "output_type": "display_data"
    },
    {
     "data": {
      "text/html": [
       "<br/>Waiting for W&B process to finish, PID 5339... <strong style=\"color:green\">(success).</strong>"
      ],
      "text/plain": [
       "<IPython.core.display.HTML object>"
      ]
     },
     "metadata": {},
     "output_type": "display_data"
    },
    {
     "data": {
      "application/vnd.jupyter.widget-view+json": {
       "model_id": "",
       "version_major": 2,
       "version_minor": 0
      },
      "text/plain": [
       "VBox(children=(Label(value=' 0.00MB of 0.00MB uploaded (0.00MB deduped)\\r'), FloatProgress(value=1.0, max=1.0)…"
      ]
     },
     "metadata": {},
     "output_type": "display_data"
    },
    {
     "data": {
      "text/html": [
       "<style>\n",
       "    table.wandb td:nth-child(1) { padding: 0 10px; text-align: right }\n",
       "    .wandb-row { display: flex; flex-direction: row; flex-wrap: wrap; width: 100% }\n",
       "    .wandb-col { display: flex; flex-direction: column; flex-basis: 100%; flex: 1; padding: 10px; }\n",
       "    </style>\n",
       "<div class=\"wandb-row\"><div class=\"wandb-col\">\n",
       "</div><div class=\"wandb-col\">\n",
       "</div></div>\n",
       "Synced 5 W&B file(s), 0 media file(s), 0 artifact file(s) and 0 other file(s)\n",
       "<br/>Synced <strong style=\"color:#cdcd00\">dainty-flower-37</strong>: <a href=\"https://wandb.ai/adisiddharth/Captum%20Pytorch%20Cycle%20Phase/runs/1cnj18gh\" target=\"_blank\">https://wandb.ai/adisiddharth/Captum%20Pytorch%20Cycle%20Phase/runs/1cnj18gh</a><br/>\n",
       "Find logs at: <code>./wandb/run-20220722_202441-1cnj18gh/logs</code><br/>\n"
      ],
      "text/plain": [
       "<IPython.core.display.HTML object>"
      ]
     },
     "metadata": {},
     "output_type": "display_data"
    },
    {
     "data": {
      "text/html": [
       "Successfully finished last run (ID:1cnj18gh). Initializing new run:<br/>"
      ],
      "text/plain": [
       "<IPython.core.display.HTML object>"
      ]
     },
     "metadata": {},
     "output_type": "display_data"
    },
    {
     "name": "stderr",
     "output_type": "stream",
     "text": [
      "\u001b[34m\u001b[1mwandb\u001b[0m: wandb version 0.12.21 is available!  To upgrade, please run:\n",
      "\u001b[34m\u001b[1mwandb\u001b[0m:  $ pip install wandb --upgrade\n",
      "2022-07-22 20:30:38.813827: W tensorflow/stream_executor/platform/default/dso_loader.cc:64] Could not load dynamic library 'libcudart.so.11.0'; dlerror: libcudart.so.11.0: cannot open shared object file: No such file or directory\n",
      "2022-07-22 20:30:38.813856: I tensorflow/stream_executor/cuda/cudart_stub.cc:29] Ignore above cudart dlerror if you do not have a GPU set up on your machine.\n"
     ]
    },
    {
     "data": {
      "text/html": [
       "\n",
       "                    Syncing run <strong><a href=\"https://wandb.ai/adisiddharth/Captum%20Pytorch%20Cycle%20Phase/runs/apgiwrn1\" target=\"_blank\">dry-night-38</a></strong> to <a href=\"https://wandb.ai/adisiddharth/Captum%20Pytorch%20Cycle%20Phase\" target=\"_blank\">Weights & Biases</a> (<a href=\"https://docs.wandb.com/integrations/jupyter.html\" target=\"_blank\">docs</a>).<br/>\n",
       "\n",
       "                "
      ],
      "text/plain": [
       "<IPython.core.display.HTML object>"
      ]
     },
     "metadata": {},
     "output_type": "display_data"
    }
   ],
   "source": [
    "# Set up config (columns) to record in wandb\n",
    "run_config = {'lr': lr, 'optimizer': optimizer, 'epochs': num_epochs, 'nodes': nodes, 'activation1': activation1, 'activation2': activation2, 'loss': loss}\n",
    "wandb_run = wandb.init(project='Captum Pytorch Cycle Phase', config=run_config)"
   ]
  },
  {
   "cell_type": "code",
   "execution_count": 102,
   "id": "29f65647-205e-4d7a-93cc-2e3215166182",
   "metadata": {},
   "outputs": [],
   "source": [
    "if activation1 == 'relu':    \n",
    "    activation1 = nn.ReLU()\n",
    "elif activation1 == 'elu':    \n",
    "    activation1 = nn.ELU()\n",
    "elif activation1 == 'selu':    \n",
    "    activation1 = nn.SELU()\n",
    "elif activation1 == 'sigmoid':    \n",
    "    activation1 = nn.Sigmoid()\n",
    "if activation2 == 'sigmoid':    \n",
    "    activation2 = nn.Sigmoid()\n",
    "elif activation2 == 'relu':    \n",
    "    activation2 = nn.ReLU()\n",
    "elif activation2 == 'softmax':    \n",
    "    activation2 = nn.Softmax()"
   ]
  },
  {
   "cell_type": "code",
   "execution_count": 103,
   "id": "c4b4f764-0b02-4655-af74-d2ca89126234",
   "metadata": {
    "scrolled": true,
    "tags": []
   },
   "outputs": [
    {
     "name": "stderr",
     "output_type": "stream",
     "text": [
      "/tmp/ipykernel_2742/3942551225.py:37: UserWarning: Implicit dimension choice for softmax has been deprecated. Change the call to include dim=X as an argument.\n",
      "  out11 = self.relu10(self.linear10(out10))\n"
     ]
    },
    {
     "name": "stdout",
     "output_type": "stream",
     "text": [
      "Epoch 1 \t\t Training Loss: 0.003938273272731088 \t\t Validation Loss: 0.6930725574493408\n",
      "Validation Loss Decreased(inf--->121.980770) \t Saving The Model\n",
      "Validation Loss Decreased(121.980770--->121.957366) \t Saving The Model\n",
      "Validation Loss Decreased(121.957366--->121.926167) \t Saving The Model\n",
      "Validation Loss Decreased(121.926167--->121.887783) \t Saving The Model\n",
      "Validation Loss Decreased(121.887783--->121.839999) \t Saving The Model\n",
      "Validation Loss Decreased(121.839999--->121.781631) \t Saving The Model\n",
      "Validation Loss Decreased(121.781631--->121.712247) \t Saving The Model\n",
      "Validation Loss Decreased(121.712247--->121.630705) \t Saving The Model\n",
      "Validation Loss Decreased(121.630705--->121.536900) \t Saving The Model\n",
      "Validation Loss Decreased(121.536900--->121.431607) \t Saving The Model\n",
      "Validation Loss Decreased(121.431607--->121.313328) \t Saving The Model\n",
      "Validation Loss Decreased(121.313328--->121.181621) \t Saving The Model\n",
      "Validation Loss Decreased(121.181621--->121.034083) \t Saving The Model\n",
      "Validation Loss Decreased(121.034083--->120.870674) \t Saving The Model\n",
      "Validation Loss Decreased(120.870674--->120.691330) \t Saving The Model\n",
      "Validation Loss Decreased(120.691330--->120.495096) \t Saving The Model\n",
      "Validation Loss Decreased(120.495096--->120.279025) \t Saving The Model\n",
      "Validation Loss Decreased(120.279025--->120.042057) \t Saving The Model\n",
      "Validation Loss Decreased(120.042057--->119.784370) \t Saving The Model\n",
      "Validation Loss Decreased(119.784370--->119.504276) \t Saving The Model\n",
      "Validation Loss Decreased(119.504276--->119.199215) \t Saving The Model\n",
      "Validation Loss Decreased(119.199215--->118.865336) \t Saving The Model\n",
      "Validation Loss Decreased(118.865336--->118.499766) \t Saving The Model\n",
      "Validation Loss Decreased(118.499766--->118.096210) \t Saving The Model\n",
      "Validation Loss Decreased(118.096210--->117.650630) \t Saving The Model\n",
      "Validation Loss Decreased(117.650630--->117.157350) \t Saving The Model\n",
      "Validation Loss Decreased(117.157350--->116.617922) \t Saving The Model\n",
      "Validation Loss Decreased(116.617922--->116.027783) \t Saving The Model\n",
      "Validation Loss Decreased(116.027783--->115.378017) \t Saving The Model\n",
      "Validation Loss Decreased(115.378017--->114.664889) \t Saving The Model\n",
      "Validation Loss Decreased(114.664889--->113.882619) \t Saving The Model\n",
      "Validation Loss Decreased(113.882619--->113.028363) \t Saving The Model\n",
      "Validation Loss Decreased(113.028363--->112.087729) \t Saving The Model\n",
      "Validation Loss Decreased(112.087729--->111.052304) \t Saving The Model\n",
      "Validation Loss Decreased(111.052304--->109.919444) \t Saving The Model\n",
      "Validation Loss Decreased(109.919444--->108.678197) \t Saving The Model\n",
      "Validation Loss Decreased(108.678197--->107.327304) \t Saving The Model\n",
      "Validation Loss Decreased(107.327304--->105.858341) \t Saving The Model\n",
      "Validation Loss Decreased(105.858341--->104.270165) \t Saving The Model\n",
      "Validation Loss Decreased(104.270165--->102.565431) \t Saving The Model\n",
      "Validation Loss Decreased(102.565431--->100.740266) \t Saving The Model\n",
      "Validation Loss Decreased(100.740266--->98.800220) \t Saving The Model\n",
      "Validation Loss Decreased(98.800220--->96.767996) \t Saving The Model\n",
      "Validation Loss Decreased(96.767996--->94.666639) \t Saving The Model\n",
      "Validation Loss Decreased(94.666639--->92.526175) \t Saving The Model\n",
      "Validation Loss Decreased(92.526175--->90.397102) \t Saving The Model\n",
      "Validation Loss Decreased(90.397102--->88.336407) \t Saving The Model\n",
      "Validation Loss Decreased(88.336407--->86.405268) \t Saving The Model\n",
      "Validation Loss Decreased(86.405268--->84.648590) \t Saving The Model\n",
      "Validation Loss Decreased(84.648590--->83.090757) \t Saving The Model\n",
      "Epoch 51 \t\t Training Loss: 0.0020609247413548555 \t\t Validation Loss: 0.4644559621810913\n",
      "Validation Loss Decreased(83.090757--->81.744249) \t Saving The Model\n",
      "Validation Loss Decreased(81.744249--->80.610267) \t Saving The Model\n",
      "Validation Loss Decreased(80.610267--->79.677773) \t Saving The Model\n",
      "Validation Loss Decreased(79.677773--->78.925133) \t Saving The Model\n",
      "Validation Loss Decreased(78.925133--->78.328307) \t Saving The Model\n",
      "Validation Loss Decreased(78.328307--->77.863335) \t Saving The Model\n",
      "Validation Loss Decreased(77.863335--->77.506294) \t Saving The Model\n",
      "Validation Loss Decreased(77.506294--->77.236753) \t Saving The Model\n",
      "Validation Loss Decreased(77.236753--->77.036171) \t Saving The Model\n",
      "Validation Loss Decreased(77.036171--->76.889541) \t Saving The Model\n",
      "Validation Loss Decreased(76.889541--->76.785051) \t Saving The Model\n",
      "Validation Loss Decreased(76.785051--->76.712987) \t Saving The Model\n",
      "Validation Loss Decreased(76.712987--->76.665870) \t Saving The Model\n",
      "Validation Loss Decreased(76.665870--->76.635626) \t Saving The Model\n",
      "Validation Loss Decreased(76.635626--->76.618311) \t Saving The Model\n",
      "Validation Loss Decreased(76.618311--->76.611115) \t Saving The Model\n",
      "Validation Loss Decreased(76.611115--->76.610559) \t Saving The Model\n",
      "Validation Loss Decreased(76.610559--->76.609956) \t Saving The Model\n",
      "Validation Loss Decreased(76.609956--->76.563142) \t Saving The Model\n",
      "Validation Loss Decreased(76.563142--->76.515322) \t Saving The Model\n",
      "Validation Loss Decreased(76.515322--->76.468645) \t Saving The Model\n",
      "Validation Loss Decreased(76.468645--->76.423767) \t Saving The Model\n",
      "Validation Loss Decreased(76.423767--->76.381228) \t Saving The Model\n",
      "Validation Loss Decreased(76.381228--->76.341627) \t Saving The Model\n",
      "Validation Loss Decreased(76.341627--->76.305130) \t Saving The Model\n",
      "Validation Loss Decreased(76.305130--->76.271530) \t Saving The Model\n",
      "Validation Loss Decreased(76.271530--->76.241102) \t Saving The Model\n",
      "Validation Loss Decreased(76.241102--->76.213654) \t Saving The Model\n",
      "Epoch 101 \t\t Training Loss: 0.0017801924523982134 \t\t Validation Loss: 0.4328928291797638\n",
      "Validation Loss Decreased(76.213654--->76.189138) \t Saving The Model\n",
      "Validation Loss Decreased(76.189138--->76.167208) \t Saving The Model\n",
      "Validation Loss Decreased(76.167208--->76.147842) \t Saving The Model\n",
      "Validation Loss Decreased(76.147842--->76.130523) \t Saving The Model\n",
      "Validation Loss Decreased(76.130523--->76.115175) \t Saving The Model\n",
      "Validation Loss Decreased(76.115175--->76.101774) \t Saving The Model\n",
      "Validation Loss Decreased(76.101774--->76.090255) \t Saving The Model\n",
      "Validation Loss Decreased(76.090255--->76.080405) \t Saving The Model\n",
      "Validation Loss Decreased(76.080405--->76.071997) \t Saving The Model\n",
      "Validation Loss Decreased(76.071997--->76.064973) \t Saving The Model\n",
      "Validation Loss Decreased(76.064973--->76.059225) \t Saving The Model\n",
      "Validation Loss Decreased(76.059225--->76.054625) \t Saving The Model\n",
      "Validation Loss Decreased(76.054625--->76.051042) \t Saving The Model\n",
      "Validation Loss Decreased(76.051042--->76.048393) \t Saving The Model\n",
      "Validation Loss Decreased(76.048393--->76.046647) \t Saving The Model\n",
      "Validation Loss Decreased(76.046647--->76.045655) \t Saving The Model\n",
      "Validation Loss Decreased(76.045655--->76.045341) \t Saving The Model\n",
      "Epoch 151 \t\t Training Loss: 0.0017800364981998098 \t\t Validation Loss: 0.4327462315559387\n",
      "Epoch 201 \t\t Training Loss: 0.0017799746922471306 \t\t Validation Loss: 0.43364793062210083\n",
      "Epoch 251 \t\t Training Loss: 0.0017799386246637864 \t\t Validation Loss: 0.4343082308769226\n",
      "Epoch 301 \t\t Training Loss: 0.0017799194902181625 \t\t Validation Loss: 0.43484067916870117\n",
      "Epoch 351 \t\t Training Loss: 0.0017799093303355303 \t\t Validation Loss: 0.43525180220603943\n",
      "Epoch 401 \t\t Training Loss: 0.0017799042503942144 \t\t Validation Loss: 0.4355798661708832\n",
      "Epoch 451 \t\t Training Loss: 0.0017799013717608018 \t\t Validation Loss: 0.43582355976104736\n"
     ]
    }
   ],
   "source": [
    "# Model\n",
    "class Model(nn.Module):\n",
    "    def __init__(self):\n",
    "        super().__init__()\n",
    "        self.linear1 = nn.Linear(train_features.shape[1], nodes)\n",
    "        self.relu1 = activation1\n",
    "        self.linear2 = nn.Linear(nodes, nodes)\n",
    "        self.relu2 = activation1\n",
    "        self.linear3 = nn.Linear(nodes, nodes)\n",
    "        self.relu3 = activation1\n",
    "        self.linear4 = nn.Linear(nodes, nodes)\n",
    "        self.relu4 = activation1\n",
    "        self.linear5 = nn.Linear(nodes, nodes)\n",
    "        self.relu5 = activation1\n",
    "        self.linear6 = nn.Linear(nodes, nodes)\n",
    "        self.relu6 = activation1\n",
    "        self.linear7 = nn.Linear(nodes, nodes)\n",
    "        self.relu7 = activation1\n",
    "        self.linear8 = nn.Linear(nodes, nodes)\n",
    "        self.relu8 = activation1\n",
    "        self.linear9 = nn.Linear(nodes, nodes)\n",
    "        self.relu9 = activation1\n",
    "        self.linear10 = nn.Linear(nodes, 2)\n",
    "        self.relu10 = activation2\n",
    "        \n",
    "    def forward(self, x):\n",
    "        out1 = self.linear1(x)\n",
    "        out2 = self.relu1(out1)\n",
    "        out3 = self.relu2(self.linear2(out2))\n",
    "        out4 = self.relu3(self.linear3(out3))\n",
    "        out5 = self.relu4(self.linear4(out4))\n",
    "        out6 = self.relu5(self.linear5(out5))\n",
    "        out7 = self.relu6(self.linear6(out6))\n",
    "        out8 = self.relu7(self.linear7(out7))\n",
    "        out9 = self.relu8(self.linear8(out8))\n",
    "        out10 = self.relu9(self.linear9(out9))\n",
    "        out11 = self.relu10(self.linear10(out10))\n",
    "        return out11\n",
    "\n",
    "    \n",
    "model = Model()\n",
    "\n",
    "import numpy as np\n",
    "min_valid_loss = np.inf\n",
    "\n",
    "input_tensor = torch.from_numpy(train_features).type(torch.FloatTensor)\n",
    "label_tensor = torch.from_numpy(train_labels)\n",
    "\n",
    "val_input_tensor = torch.from_numpy(val_features).type(torch.FloatTensor)\n",
    "val_label_tensor = torch.from_numpy(val_labels)\n",
    "for e in range(num_epochs):\n",
    "    train_loss = 0.0\n",
    "    #model.train()     # Optional when not using Model Specific layer\n",
    "    if loss == 'MAE':\n",
    "        criterion = nn.L1Loss()\n",
    "    elif loss == 'CrossEntropyLoss':    \n",
    "        criterion = nn.CrossEntropyLoss()\n",
    "    elif loss == 'MSE':    \n",
    "        criterion = nn.MSELoss()\n",
    "    elif loss == 'BCE':    \n",
    "        criterion = nn.BCELoss()\n",
    "    elif loss == 'BCEWithLogitsLoss':\n",
    "        criterion = nn.BCEWithLogitsLoss\n",
    "    if optimizer == 'Adam':\n",
    "        optimizer = torch.optim.Adam(model.parameters(), lr=lr)\n",
    "    elif optimizer == 'Adamax':\n",
    "        optimizer = torch.optim.Adamax(model.parameters(), lr=lr)\n",
    "    elif optimizer == 'Adagrad':\n",
    "        optimizer = torch.optim.Adagrad(model.parameters(), lr=lr)\n",
    "    optimizer.zero_grad()\n",
    "    target = model(input_tensor)\n",
    "    loss = criterion(target, label_tensor)\n",
    "    loss.backward()\n",
    "    optimizer.step()\n",
    "    train_loss += loss.item()\n",
    "    \n",
    "    valid_loss = 0.0\n",
    "    model.eval()     # Optional when not using Model Specific layer\n",
    "\n",
    "\n",
    "    target = model(val_input_tensor)\n",
    "    loss = criterion(target,val_label_tensor)\n",
    "    valid_loss = loss.item() * val_input_tensor.size(0)\n",
    "    if e % 50 == 0:\n",
    "        print(f'Epoch {e+1} \\t\\t Training Loss: {train_loss / len(val_input_tensor)} \\t\\t Validation Loss: {valid_loss / len(val_input_tensor)}')\n",
    "    if min_valid_loss > valid_loss:\n",
    "        print(f'Validation Loss Decreased({min_valid_loss:.6f}--->{valid_loss:.6f}) \\t Saving The Model')\n",
    "        min_valid_loss = valid_loss\n",
    "        # Saving State Dict\n",
    "        torch.save(model.state_dict(), 'saved_model.pth')\n",
    "\n",
    "#input_tensor = torch.from_numpy(train_features).type(torch.FloatTensor)\n",
    "test_input_tensor = torch.from_numpy(test_features).type(torch.FloatTensor)"
   ]
  },
  {
   "cell_type": "code",
   "execution_count": 104,
   "id": "110928a1-a8c3-4223-9ee9-6799c946fa09",
   "metadata": {},
   "outputs": [
    {
     "name": "stdout",
     "output_type": "stream",
     "text": [
      "Train Accuracy: 1.0\n"
     ]
    },
    {
     "name": "stderr",
     "output_type": "stream",
     "text": [
      "/tmp/ipykernel_2742/3942551225.py:37: UserWarning: Implicit dimension choice for softmax has been deprecated. Change the call to include dim=X as an argument.\n",
      "  out11 = self.relu10(self.linear10(out10))\n"
     ]
    }
   ],
   "source": [
    "out_probs_train = model(input_tensor).detach().numpy()\n",
    "out_classes_train = np.argmax(out_probs_train, axis=1)\n",
    "train_acc = sum(out_classes_train == train_labels) / len(train_labels)\n",
    "print(\"Train Accuracy:\", train_acc)"
   ]
  },
  {
   "cell_type": "code",
   "execution_count": 105,
   "id": "a05d2582-b908-4b13-9270-5b33c3f97e23",
   "metadata": {},
   "outputs": [
    {
     "name": "stdout",
     "output_type": "stream",
     "text": [
      "Test Accuracy: 0.8579545454545454\n"
     ]
    },
    {
     "name": "stderr",
     "output_type": "stream",
     "text": [
      "/tmp/ipykernel_2742/3942551225.py:37: UserWarning: Implicit dimension choice for softmax has been deprecated. Change the call to include dim=X as an argument.\n",
      "  out11 = self.relu10(self.linear10(out10))\n"
     ]
    }
   ],
   "source": [
    "val_input_tensor = torch.from_numpy(val_features).type(torch.FloatTensor)\n",
    "out_probs_val = model(val_input_tensor).detach().numpy()\n",
    "out_classes_val = np.argmax(out_probs_val, axis=1)\n",
    "val_acc = sum(out_classes_val == val_labels) / len(val_labels)\n",
    "print(\"Test Accuracy:\", val_acc)"
   ]
  },
  {
   "cell_type": "code",
   "execution_count": 106,
   "id": "40fe03de-efe9-43ff-8759-c76a2414f325",
   "metadata": {},
   "outputs": [
    {
     "name": "stdout",
     "output_type": "stream",
     "text": [
      "Test Accuracy: 0.8723404255319149\n"
     ]
    },
    {
     "name": "stderr",
     "output_type": "stream",
     "text": [
      "/tmp/ipykernel_2742/3942551225.py:37: UserWarning: Implicit dimension choice for softmax has been deprecated. Change the call to include dim=X as an argument.\n",
      "  out11 = self.relu10(self.linear10(out10))\n"
     ]
    }
   ],
   "source": [
    "test_input_tensor = torch.from_numpy(test_features).type(torch.FloatTensor)\n",
    "out_probs_test = model(test_input_tensor).detach().numpy()\n",
    "out_classes_test = np.argmax(out_probs_test, axis=1)\n",
    "test_acc = sum(out_classes_test == test_labels) / len(test_labels)\n",
    "print(\"Test Accuracy:\", test_acc)"
   ]
  },
  {
   "cell_type": "code",
   "execution_count": 107,
   "id": "c78bfece-b734-41b3-aebb-b549180d4954",
   "metadata": {},
   "outputs": [],
   "source": [
    "r_probs = [0 for _ in range(len(y_test))]"
   ]
  },
  {
   "cell_type": "code",
   "execution_count": 108,
   "id": "12e81038-53a4-45a9-9942-d64eb30d2567",
   "metadata": {},
   "outputs": [],
   "source": [
    "test_labels = test_labels.astype('float32')"
   ]
  },
  {
   "cell_type": "code",
   "execution_count": 109,
   "id": "48d92e72-f241-4d66-9b05-4d2cc4e86312",
   "metadata": {},
   "outputs": [],
   "source": [
    "from sklearn.metrics import roc_curve, roc_auc_score\n",
    "#Random chance ROC\n",
    "r_auc = roc_auc_score(test_labels, r_probs)\n",
    "r_fpr, r_tpr, _ = roc_curve(test_labels, r_probs)\n",
    "\n",
    "#Train ROC\n",
    "tr_fpr, tr_tpr, _ = roc_curve(train_labels, out_probs_train[:, 1])\n",
    "tr_auc = roc_auc_score(train_labels, out_probs_train[:, 1])\n",
    "\n",
    "#Val ROC\n",
    "val_fpr, val_tpr, _ = roc_curve(val_labels, out_probs_val[:, 1])\n",
    "val_auc = roc_auc_score(val_labels, out_probs_val[:, 1])\n",
    "\n",
    "#Test ROC\n",
    "fpr, tpr, _ = roc_curve(test_labels, out_probs_test[:, 1])\n",
    "auc = roc_auc_score(test_labels, out_probs_test[:, 1])"
   ]
  },
  {
   "cell_type": "code",
   "execution_count": 110,
   "id": "5483e2be-3c8a-44e5-8b87-0adbfb08490e",
   "metadata": {},
   "outputs": [
    {
     "name": "stdout",
     "output_type": "stream",
     "text": [
      "Random (chance) Prediction: AUROC = 0.500\n",
      "Test Prediction: AUROC = 0.963\n",
      "Train Prediction: AUROC = 1.000\n",
      "Val Prediction: AUROC = 0.953\n"
     ]
    }
   ],
   "source": [
    "print('Random (chance) Prediction: AUROC = %.3f' % (r_auc))\n",
    "print('Test Prediction: AUROC = %.3f' % (auc))\n",
    "print('Train Prediction: AUROC = %.3f' % (tr_auc))\n",
    "print('Val Prediction: AUROC = %.3f' % (val_auc))"
   ]
  },
  {
   "cell_type": "code",
   "execution_count": 111,
   "id": "959eada2-5522-4ad3-aa63-07310b2df57f",
   "metadata": {},
   "outputs": [
    {
     "data": {
      "image/png": "[encoded data removed]",
      "text/plain": [
       "<Figure size 432x288 with 1 Axes>"
      ]
     },
     "metadata": {
      "needs_background": "light"
     },
     "output_type": "display_data"
    }
   ],
   "source": [
    "# AUC Plots\n",
    "plt.plot(r_fpr, r_tpr, linestyle='--', label='Random prediction (AUROC = %0.3f)' % r_auc)\n",
    "plt.plot(tr_fpr, tr_tpr, marker='.', label='Train (AUROC = %0.3f)' % tr_auc)\n",
    "plt.plot(val_fpr, val_tpr, marker='.', label='Val (AUROC = %0.3f)' % val_auc)\n",
    "plt.plot(fpr, tpr, marker='.', label='Test (AUROC = %0.3f)' % auc)\n",
    "\n",
    "# Title\n",
    "plt.title('ROC Plot')\n",
    "# Axis labels\n",
    "plt.xlabel('False Positive Rate')\n",
    "plt.ylabel('True Positive Rate')\n",
    "# Show legend\n",
    "plt.legend(loc = 'lower right', prop={'size': 10}) \n",
    "plt.tight_layout()\n",
    "#plt.savefig(dataset + '_' + activation1 + '_' + activation2 + '_' + 'ROC_Curve' + kfold + '.png', bbox_inches = \"tight\")"
   ]
  },
  {
   "cell_type": "code",
   "execution_count": 30,
   "id": "6815fe0b-0cb3-45d3-ab68-a6cb482d075e",
   "metadata": {
    "tags": []
   },
   "outputs": [],
   "source": [
    "# record more metrics in wandb\n",
    "wandb_run.log({'auc': auc, 'train_accuracy': train_acc, 'test_accuracy': test_acc})"
   ]
  },
  {
   "cell_type": "code",
   "execution_count": 31,
   "id": "5aa92d4f-3350-49ea-a0a3-ad45e89508ff",
   "metadata": {},
   "outputs": [
    {
     "name": "stderr",
     "output_type": "stream",
     "text": [
      "<ipython-input-21-51d084ecc3c6>:37: UserWarning: Implicit dimension choice for softmax has been deprecated. Change the call to include dim=X as an argument.\n",
      "  out11 = self.relu10(self.linear10(out10))\n"
     ]
    }
   ],
   "source": [
    "# set up integrated gradients \n",
    "ig = IntegratedGradients(model)\n",
    "\n",
    "# obtain integrated gradient attributes\n",
    "test_input_tensor.requires_grad_()\n",
    "attr, delta = ig.attribute(test_input_tensor,target=1, return_convergence_delta=True)\n",
    "attr = attr.detach().numpy()\n",
    "\n",
    "# get cpg islands\n",
    "feature_names = x_train.columns"
   ]
  },
  {
   "cell_type": "code",
   "execution_count": 32,
   "id": "e75b64e6-7d0b-4636-9557-c081b269bd9b",
   "metadata": {
    "tags": []
   },
   "outputs": [
    {
     "data": {
      "image/png": "[encoded data removed]",
      "text/plain": [
       "<Figure size 864x432 with 1 Axes>"
      ]
     },
     "metadata": {
      "needs_background": "light"
     },
     "output_type": "display_data"
    }
   ],
   "source": [
    "# Plot relative importance of cpg islands\n",
    "attributes = pd.DataFrame()\n",
    "cpg = []\n",
    "imp = []\n",
    "def visualize_importances(feature_names, importances, title=\"Average Feature Importances\", plot=True, axis_title=\"Features\"):\n",
    "    #print(title)\n",
    "    for i in range(len(feature_names)):\n",
    "        #print(feature_names[i], \": \", '%.3f'%(importances[i]))\n",
    "        cpg.append(feature_names[i])\n",
    "        imp.append(importances[i])\n",
    "    \n",
    "    \n",
    "    x_pos = (np.arange(len(feature_names)))\n",
    "    if plot:\n",
    "        plt.figure(figsize=(12,6))\n",
    "        plt.bar(x_pos, importances, align='center')\n",
    "        plt.xticks(x_pos, feature_names, wrap=True)\n",
    "        plt.xlabel(axis_title)\n",
    "        plt.title(title)\n",
    "attributes['CPG'] = cpg\n",
    "attributes['Attributes'] = imp\n",
    "visualize_importances(feature_names, np.mean(attr, axis=0))"
   ]
  },
  {
   "cell_type": "code",
   "execution_count": 33,
   "id": "bc3b2d9c-0a9b-4580-8716-d0d94a1cbfea",
   "metadata": {},
   "outputs": [],
   "source": [
    "# collate data into dataframe\n",
    "attributes['CPG'] = cpg\n",
    "attributes['Attributes'] = imp\n",
    "attributes['Attributes Abs'] = np.abs(attributes['Attributes']) # Absolute value of attributes\n",
    "\n",
    "# Order df by descending absolute value of attributes\n",
    "attributes = attributes.sort_values(by = ['Attributes Abs'], ascending = False)\n",
    "\n",
    "at = attributes.reset_index()"
   ]
  },
  {
   "cell_type": "code",
   "execution_count": 34,
   "id": "c980441f-7de0-4f79-96c1-3f4b2042034b",
   "metadata": {},
   "outputs": [
    {
     "data": {
      "text/plain": [
       "Text(0.5, 1.0, 'Integrated Gradients Attributes')"
      ]
     },
     "execution_count": 34,
     "metadata": {},
     "output_type": "execute_result"
    },
    {
     "data": {
      "image/png": "[encoded data removed]",
      "text/plain": [
       "<Figure size 432x288 with 1 Axes>"
      ]
     },
     "metadata": {
      "needs_background": "light"
     },
     "output_type": "display_data"
    }
   ],
   "source": [
    "plt.plot(np.abs(at['Attributes Abs'][:1000]))\n",
    "plt.title('Integrated Gradients Attributes')"
   ]
  },
  {
   "cell_type": "code",
   "execution_count": 35,
   "id": "b6eab41a-c0b6-465e-8f24-33d705a0a35f",
   "metadata": {},
   "outputs": [],
   "source": [
    "# Get top 500 CPG islands\n",
    "cpg_captum = attributes.iloc[:500,0].to_list()"
   ]
  },
  {
   "cell_type": "code",
   "execution_count": 36,
   "id": "fc5e7e72-3df1-4177-a575-4092289c2fbb",
   "metadata": {},
   "outputs": [],
   "source": [
    "# subset testing set CPG islands using top 500 CPG islands from IG \n",
    "top_500_cpg_df = x_test[x_test.columns.intersection(cpg_captum)]"
   ]
  },
  {
   "cell_type": "code",
   "execution_count": 37,
   "id": "6bc9b7b5-d594-4a4b-902e-df04754105b5",
   "metadata": {},
   "outputs": [],
   "source": [
    "# set up color map\n",
    "color_list = ['r', 'b', 'g', 'y', 'k', 'm']\n",
    "vals_1 = y_test.unique()\n",
    "lut_1 = dict(zip(vals_1, ''.join(color_list[:len(vals_1)])))\n",
    "row_colors_1 = y_test.map(lut_1).values"
   ]
  },
  {
   "cell_type": "code",
   "execution_count": 39,
   "id": "e8fa0bbf-ef1b-482b-957b-192bb8471b16",
   "metadata": {},
   "outputs": [
    {
     "data": {
      "image/png": "[encoded data removed]",
      "text/plain": [
       "<Figure size 720x720 with 5 Axes>"
      ]
     },
     "metadata": {
      "needs_background": "light"
     },
     "output_type": "display_data"
    }
   ],
   "source": [
    "import seaborn as sns\n",
    "g = sns.clustermap(top_500_cpg_df, standard_scale=1, row_colors=row_colors_1)\n",
    "g.ax_heatmap.tick_params(right=False, bottom=False, labelbottom=False, labelright=False)\n",
    "#g.fig.suptitle(\"Pytorch Grouping extremes train, extreme visualize clustermap\")"
   ]
  },
  {
   "cell_type": "code",
   "execution_count": null,
   "id": "c712ac17-36e0-4d78-b9da-b388ca45cf32",
   "metadata": {},
   "outputs": [],
   "source": []
  }
 ],
 "metadata": {
  "kernelspec": {
   "display_name": "Python 3 (ipykernel)",
   "language": "python",
   "name": "python3"
  },
  "language_info": {
   "codemirror_mode": {
    "name": "ipython",
    "version": 3
   },
   "file_extension": ".py",
   "mimetype": "text/x-python",
   "name": "python",
   "nbconvert_exporter": "python",
   "pygments_lexer": "ipython3",
   "version": "3.8.12"
  }
 },
 "nbformat": 4,
 "nbformat_minor": 5
}
