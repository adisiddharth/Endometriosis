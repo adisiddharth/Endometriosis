{
 "cells": [
  {
   "cell_type": "code",
   "execution_count": 23,
   "id": "a6fed6ac-b869-451c-9c37-ff6842d76054",
   "metadata": {},
   "outputs": [],
   "source": [
    "# import libraries\n",
    "import numpy as np\n",
    "import pandas as pd\n",
    "import torch\n",
    "import torch.nn as nn\n",
    "from torch.autograd import grad\n",
    "\n",
    "import matplotlib.pyplot as plt\n",
    "\n",
    "from captum.attr import IntegratedGradients\n",
    "from captum.attr import LayerConductance\n",
    "from captum.attr import NeuronConductance"
   ]
  },
  {
   "cell_type": "code",
   "execution_count": 24,
   "id": "cd9635d4-8afe-4470-bcf3-1f9e4fec3ebc",
   "metadata": {
    "jp-MarkdownHeadingCollapsed": true,
    "tags": []
   },
   "outputs": [
    {
     "name": "stdout",
     "output_type": "stream",
     "text": [
      "\u001b[34m\u001b[1mwandb\u001b[0m: Currently logged in as: \u001b[33madisiddharth\u001b[0m (use `wandb login --relogin` to force relogin)\n"
     ]
    }
   ],
   "source": [
    "# import and login Weights and Baises\n",
    "import wandb\n",
    "!wandb login"
   ]
  },
  {
   "cell_type": "code",
   "execution_count": 25,
   "id": "e0390fd0-25ce-4080-8340-4695b39984f4",
   "metadata": {},
   "outputs": [
    {
     "data": {
      "text/html": [
       "Finishing last run (ID:2enqjzj0) before initializing another..."
      ],
      "text/plain": [
       "<IPython.core.display.HTML object>"
      ]
     },
     "metadata": {},
     "output_type": "display_data"
    },
    {
     "data": {
      "text/html": [
       "<br/>Waiting for W&B process to finish, PID 26216... <strong style=\"color:green\">(success).</strong>"
      ],
      "text/plain": [
       "<IPython.core.display.HTML object>"
      ]
     },
     "metadata": {},
     "output_type": "display_data"
    },
    {
     "data": {
      "application/vnd.jupyter.widget-view+json": {
       "model_id": "",
       "version_major": 2,
       "version_minor": 0
      },
      "text/plain": [
       "VBox(children=(Label(value=' 0.00MB of 0.00MB uploaded (0.00MB deduped)\\r'), FloatProgress(value=1.0, max=1.0)…"
      ]
     },
     "metadata": {},
     "output_type": "display_data"
    },
    {
     "data": {
      "text/html": [
       "<style>\n",
       "    table.wandb td:nth-child(1) { padding: 0 10px; text-align: right }\n",
       "    .wandb-row { display: flex; flex-direction: row; flex-wrap: wrap; width: 100% }\n",
       "    .wandb-col { display: flex; flex-direction: column; flex-basis: 100%; flex: 1; padding: 10px; }\n",
       "    </style>\n",
       "<div class=\"wandb-row\"><div class=\"wandb-col\">\n",
       "<h3>Run history:</h3><br/><table class=\"wandb\"><tr><td>auc</td><td>▁</td></tr><tr><td>test_accuracy</td><td>▁</td></tr><tr><td>train_accuracy</td><td>▁</td></tr></table><br/></div><div class=\"wandb-col\">\n",
       "<h3>Run summary:</h3><br/><table class=\"wandb\"><tr><td>auc</td><td>0.93905</td></tr><tr><td>test_accuracy</td><td>0.91304</td></tr><tr><td>train_accuracy</td><td>0.99858</td></tr></table>\n",
       "</div></div>\n",
       "Synced 6 W&B file(s), 0 media file(s), 0 artifact file(s) and 0 other file(s)\n",
       "<br/>Synced <strong style=\"color:#cdcd00\">chocolate-dawn-5</strong>: <a href=\"https://wandb.ai/adisiddharth/Captum%20Pytorch%20Cycle%20Phase/runs/2enqjzj0\" target=\"_blank\">https://wandb.ai/adisiddharth/Captum%20Pytorch%20Cycle%20Phase/runs/2enqjzj0</a><br/>\n",
       "Find logs at: <code>./wandb/run-20220624_170448-2enqjzj0/logs</code><br/>\n"
      ],
      "text/plain": [
       "<IPython.core.display.HTML object>"
      ]
     },
     "metadata": {},
     "output_type": "display_data"
    },
    {
     "data": {
      "text/html": [
       "Successfully finished last run (ID:2enqjzj0). Initializing new run:<br/>"
      ],
      "text/plain": [
       "<IPython.core.display.HTML object>"
      ]
     },
     "metadata": {},
     "output_type": "display_data"
    },
    {
     "name": "stderr",
     "output_type": "stream",
     "text": [
      "\u001b[34m\u001b[1mwandb\u001b[0m: wandb version 0.12.19 is available!  To upgrade, please run:\n",
      "\u001b[34m\u001b[1mwandb\u001b[0m:  $ pip install wandb --upgrade\n"
     ]
    },
    {
     "data": {
      "text/html": [
       "\n",
       "                    Syncing run <strong><a href=\"https://wandb.ai/adisiddharth/Captum%20Pytorch%20Cycle%20Phase/runs/w8nwdnww\" target=\"_blank\">fine-vortex-6</a></strong> to <a href=\"https://wandb.ai/adisiddharth/Captum%20Pytorch%20Cycle%20Phase\" target=\"_blank\">Weights & Biases</a> (<a href=\"https://docs.wandb.com/integrations/jupyter.html\" target=\"_blank\">docs</a>).<br/>\n",
       "\n",
       "                "
      ],
      "text/plain": [
       "<IPython.core.display.HTML object>"
      ]
     },
     "metadata": {},
     "output_type": "display_data"
    },
    {
     "data": {
      "text/html": [
       "<button onClick=\"this.nextSibling.style.display='block';this.style.display='none';\">Display W&B run</button><iframe src=\"https://wandb.ai/adisiddharth/Captum%20Pytorch%20Cycle%20Phase/runs/w8nwdnww?jupyter=true\" style=\"border:none;width:100%;height:420px;display:none;\"></iframe>"
      ],
      "text/plain": [
       "<wandb.sdk.wandb_run.Run at 0x7f0c33b6fe80>"
      ]
     },
     "execution_count": 25,
     "metadata": {},
     "output_type": "execute_result"
    }
   ],
   "source": [
    "# Initialize wandb project\n",
    "wandb.init(project = 'Captum Pytorch Cycle Phase')"
   ]
  },
  {
   "cell_type": "code",
   "execution_count": 26,
   "id": "009703e5-4853-4709-9147-4373c4fdf7d1",
   "metadata": {},
   "outputs": [],
   "source": [
    "#set cuda\n",
    "device = torch.device('cuda' if torch.cuda.is_available() else 'cpu')"
   ]
  },
  {
   "cell_type": "code",
   "execution_count": 27,
   "id": "cc66531c-da71-4c37-bbfa-827a3a9f6d5c",
   "metadata": {},
   "outputs": [],
   "source": [
    "# Train dataset\n",
    "train = pd.read_csv('Endometriosis_subset_train_feature_extract_no_mamc_splitfunction.csv')\n",
    "\n",
    "# Set index to IDs\n",
    "train.set_axis(train['meth_id'], inplace = True)\n",
    "\n",
    "# Drop the ID cols \n",
    "cols_drop = ['meth_id', 'meth_id.1']\n",
    "train.drop(columns=cols_drop, inplace = True)\n",
    "\n",
    "# Change Endo Yes/No to binary\n",
    "train['Endometriosis_int'] = np.where(train['Endometriosis'] == 'Yes', 1, train['Endometriosis'])\n",
    "train['Endometriosis_int'] = np.where(train['Endometriosis_int'] == 'No', 0, train['Endometriosis_int'])\n",
    "\n",
    "train.drop(train.loc[train['Stage'] == 'UNKNOWN'].index, inplace=True)\n",
    "\n",
    "# Change Endo Yes/No to binary\n",
    "train['Cycle_Phase_1'] = np.where(train['Cycle_Phase'] == 'PE', 0, '')\n",
    "train['Cycle_Phase_2'] = np.where(train['Cycle_Phase'] == 'SE', 1, '')\n",
    "train['Cycle_Phase_3'] = np.where(train['Cycle_Phase'] == 'Menstrual', 2, '')\n",
    "train['Cycle_Phase_int'] = train['Cycle_Phase_1'] + train['Cycle_Phase_2'] + train['Cycle_Phase_3'] \n",
    "\n",
    "train.drop(train[train['Cycle_Phase_int'] == '2'].index, inplace = True)\n",
    "\n",
    "# Comment out to remove Cycle Phase from features\n",
    "y_train = train['Cycle_Phase_int']\n",
    "x_train = train.iloc[:, 5:-5]"
   ]
  },
  {
   "cell_type": "code",
   "execution_count": 28,
   "id": "89624112-838e-479e-9231-6774200c057f",
   "metadata": {},
   "outputs": [],
   "source": [
    "# Val dataset\n",
    "val = pd.read_csv('Endometriosis_subset_val_feature_extract_no_mamc_splitfunction.csv')\n",
    "\n",
    "#set index to IDs\n",
    "val = val.set_axis(val['meth_id'])\n",
    "\n",
    "# Group ESE, MSE and LSE into SE \n",
    "val.loc[val['Cycle_Phase'].isin(['ESE', 'MSE', 'LSE']), 'Cycle_Phase'] = 'SE'\n",
    "\n",
    "# Change Endo Yes/No to binary\n",
    "val['Endometriosis_int'] = np.where(val['Endometriosis'] == 'Yes', 1, val['Endometriosis'])\n",
    "val['Endometriosis_int'] = np.where(val['Endometriosis_int'] == 'No', 0, val['Endometriosis_int'])\n",
    "\n",
    "val.drop(val.loc[val['Stage'] == 'UNKNOWN'].index, inplace=True)\n",
    "\n",
    "# Change Endo Yes/No to binary\n",
    "val['Cycle_Phase_1'] = np.where(val['Cycle_Phase'] == 'PE', 0, '')\n",
    "val['Cycle_Phase_2'] = np.where(val['Cycle_Phase'] == 'SE', 1, '')\n",
    "val['Cycle_Phase_3'] = np.where(val['Cycle_Phase'] == 'Menstrual', 2, '')\n",
    "val['Cycle_Phase_int'] = val['Cycle_Phase_1'] + val['Cycle_Phase_2'] + val['Cycle_Phase_3'] \n",
    "\n",
    "val.drop(val[val['Cycle_Phase_int'] == '2'].index, inplace = True)\n",
    "\n",
    "# Comment out to remove Cycle Phase from features\n",
    "y_val = val['Cycle_Phase_int']\n",
    "x_val = val.iloc[:, 6:-5]"
   ]
  },
  {
   "cell_type": "code",
   "execution_count": 29,
   "id": "edeafd84-99ac-480a-a674-7c73c037fbe1",
   "metadata": {},
   "outputs": [],
   "source": [
    "# Test dataset\n",
    "test = pd.read_csv('Endometriosis_subset_test2_feature_extract_no_mamc_splitfunction.csv')\n",
    "\n",
    "# Assign index as IDs\n",
    "test.set_index('meth_id', inplace = True)\n",
    "\n",
    "test.drop(test.loc[test['Stage'] == 'UNKNOWN'].index, inplace=True)\n",
    "\n",
    "test.drop('Unnamed: 0', axis=1, inplace=True)\n",
    "\n",
    "# Group ESE, MSE and LSE into SE \n",
    "test.loc[test['Cycle_Phase'].isin(['ESE', 'MSE', 'LSE']), 'Cycle_Phase'] = 'SE'\n",
    "\n",
    "# Change Endo Yes/No to binary\n",
    "test['Cycle_Phase_1'] = np.where(test['Cycle_Phase'] == 'PE', 0, '')\n",
    "test['Cycle_Phase_2'] = np.where(test['Cycle_Phase'] == 'SE', 1, '')\n",
    "test['Cycle_Phase_3'] = np.where(test['Cycle_Phase'] == 'Menstrual', 2, '')\n",
    "test['Cycle_Phase_int'] = test['Cycle_Phase_1'] + test['Cycle_Phase_2'] + test['Cycle_Phase_3'] \n",
    "\n",
    "test.drop(test[test['Cycle_Phase_int'] == '2'].index, inplace = True)\n",
    "\n",
    "# Change Endo Yes/No to binary\n",
    "test['Endometriosis_int'] = np.where(test['Endometriosis'] == 'Yes', 1, test['Endometriosis'])\n",
    "test['Endometriosis_int'] = np.where(test['Endometriosis_int'] == 'No', 0, test['Endometriosis_int'])\n",
    "\n",
    "# Comment out to remove Cycle Phase from features\n",
    "#test = test.join(pd.get_dummies(test['Cycle_Phase']))\n",
    "y_test = test['Cycle_Phase_int']\n",
    "x_test = test.iloc[:, 5:-5]"
   ]
  },
  {
   "cell_type": "code",
   "execution_count": 30,
   "id": "8440e7f3-5f53-4f8b-81b9-790f17a74aa5",
   "metadata": {},
   "outputs": [],
   "source": [
    "# Set train and test features and labels\n",
    "train_features = x_train.to_numpy()\n",
    "train_labels = y_train.to_numpy(dtype=np.int64)\n",
    "\n",
    "val_features = x_val.to_numpy()\n",
    "val_labels = y_val.to_numpy(dtype=np.int64)\n",
    "\n",
    "test_features = x_test.to_numpy()\n",
    "test_labels = y_test.to_numpy(dtype=np.int64)"
   ]
  },
  {
   "cell_type": "code",
   "execution_count": 31,
   "id": "9e7e0ff8-619c-47af-84ac-65fc52ac0950",
   "metadata": {},
   "outputs": [],
   "source": [
    "# Set hyperparameters\n",
    "lr=0.0001 \n",
    "optimizer = \"Adamax\"\n",
    "num_epochs = 500\n",
    "loss = 'CrossEntropyLoss'\n",
    "nodes = 300\n",
    "activation1 = 'relu'\n",
    "activation2 = 'softmax'"
   ]
  },
  {
   "cell_type": "code",
   "execution_count": 32,
   "id": "82d64b4e-fd3a-4395-a291-f14803b272b6",
   "metadata": {},
   "outputs": [
    {
     "data": {
      "text/html": [
       "Finishing last run (ID:w8nwdnww) before initializing another..."
      ],
      "text/plain": [
       "<IPython.core.display.HTML object>"
      ]
     },
     "metadata": {},
     "output_type": "display_data"
    },
    {
     "data": {
      "text/html": [
       "<br/>Waiting for W&B process to finish, PID 62934... <strong style=\"color:green\">(success).</strong>"
      ],
      "text/plain": [
       "<IPython.core.display.HTML object>"
      ]
     },
     "metadata": {},
     "output_type": "display_data"
    },
    {
     "data": {
      "application/vnd.jupyter.widget-view+json": {
       "model_id": "",
       "version_major": 2,
       "version_minor": 0
      },
      "text/plain": [
       "VBox(children=(Label(value=' 0.00MB of 0.00MB uploaded (0.00MB deduped)\\r'), FloatProgress(value=1.0, max=1.0)…"
      ]
     },
     "metadata": {},
     "output_type": "display_data"
    },
    {
     "data": {
      "text/html": [
       "<style>\n",
       "    table.wandb td:nth-child(1) { padding: 0 10px; text-align: right }\n",
       "    .wandb-row { display: flex; flex-direction: row; flex-wrap: wrap; width: 100% }\n",
       "    .wandb-col { display: flex; flex-direction: column; flex-basis: 100%; flex: 1; padding: 10px; }\n",
       "    </style>\n",
       "<div class=\"wandb-row\"><div class=\"wandb-col\">\n",
       "</div><div class=\"wandb-col\">\n",
       "</div></div>\n",
       "Synced 5 W&B file(s), 0 media file(s), 0 artifact file(s) and 0 other file(s)\n",
       "<br/>Synced <strong style=\"color:#cdcd00\">fine-vortex-6</strong>: <a href=\"https://wandb.ai/adisiddharth/Captum%20Pytorch%20Cycle%20Phase/runs/w8nwdnww\" target=\"_blank\">https://wandb.ai/adisiddharth/Captum%20Pytorch%20Cycle%20Phase/runs/w8nwdnww</a><br/>\n",
       "Find logs at: <code>./wandb/run-20220624_204851-w8nwdnww/logs</code><br/>\n"
      ],
      "text/plain": [
       "<IPython.core.display.HTML object>"
      ]
     },
     "metadata": {},
     "output_type": "display_data"
    },
    {
     "data": {
      "text/html": [
       "Successfully finished last run (ID:w8nwdnww). Initializing new run:<br/>"
      ],
      "text/plain": [
       "<IPython.core.display.HTML object>"
      ]
     },
     "metadata": {},
     "output_type": "display_data"
    },
    {
     "name": "stderr",
     "output_type": "stream",
     "text": [
      "\u001b[34m\u001b[1mwandb\u001b[0m: wandb version 0.12.19 is available!  To upgrade, please run:\n",
      "\u001b[34m\u001b[1mwandb\u001b[0m:  $ pip install wandb --upgrade\n"
     ]
    },
    {
     "data": {
      "text/html": [
       "\n",
       "                    Syncing run <strong><a href=\"https://wandb.ai/adisiddharth/Captum%20Pytorch%20Cycle%20Phase/runs/2o0g5rgq\" target=\"_blank\">winter-totem-7</a></strong> to <a href=\"https://wandb.ai/adisiddharth/Captum%20Pytorch%20Cycle%20Phase\" target=\"_blank\">Weights & Biases</a> (<a href=\"https://docs.wandb.com/integrations/jupyter.html\" target=\"_blank\">docs</a>).<br/>\n",
       "\n",
       "                "
      ],
      "text/plain": [
       "<IPython.core.display.HTML object>"
      ]
     },
     "metadata": {},
     "output_type": "display_data"
    }
   ],
   "source": [
    "# Set up config (columns) to record in wandb\n",
    "run_config = {'lr': lr, 'optimizer': optimizer, 'epochs': num_epochs, 'nodes': nodes, 'activation1': activation1, 'activation2': activation2, 'loss': loss}\n",
    "wandb_run = wandb.init(project='Captum Pytorch Cycle Phase', config=run_config)"
   ]
  },
  {
   "cell_type": "code",
   "execution_count": 33,
   "id": "29f65647-205e-4d7a-93cc-2e3215166182",
   "metadata": {},
   "outputs": [],
   "source": [
    "if activation1 == 'relu':    \n",
    "    activation1 = nn.ReLU()\n",
    "elif activation1 == 'elu':    \n",
    "    activation1 = nn.ELU()\n",
    "elif activation1 == 'selu':    \n",
    "    activation1 = nn.SELU()\n",
    "elif activation1 == 'sigmoid':    \n",
    "    activation1 = nn.Sigmoid()\n",
    "if activation2 == 'sigmoid':    \n",
    "    activation2 = nn.Sigmoid()\n",
    "elif activation2 == 'relu':    \n",
    "    activation2 = nn.ReLU()\n",
    "elif activation2 == 'softmax':    \n",
    "    activation2 = nn.Softmax()"
   ]
  },
  {
   "cell_type": "code",
   "execution_count": 34,
   "id": "c4b4f764-0b02-4655-af74-d2ca89126234",
   "metadata": {
    "scrolled": true,
    "tags": []
   },
   "outputs": [
    {
     "name": "stderr",
     "output_type": "stream",
     "text": [
      "<ipython-input-34-51d084ecc3c6>:37: UserWarning: Implicit dimension choice for softmax has been deprecated. Change the call to include dim=X as an argument.\n",
      "  out11 = self.relu10(self.linear10(out10))\n"
     ]
    },
    {
     "name": "stdout",
     "output_type": "stream",
     "text": [
      "Epoch 1 \t\t Training Loss: 0.003918754178925422 \t\t Validation Loss: 0.6928018927574158\n",
      "Validation Loss Decreased(inf--->122.625935) \t Saving The Model\n",
      "Epoch 51 \t\t Training Loss: 0.0039068123715072026 \t\t Validation Loss: 0.6930358409881592\n",
      "Validation Loss Decreased(122.625935--->122.624268) \t Saving The Model\n",
      "Validation Loss Decreased(122.624268--->122.614784) \t Saving The Model\n",
      "Validation Loss Decreased(122.614784--->122.597566) \t Saving The Model\n",
      "Validation Loss Decreased(122.597566--->122.566960) \t Saving The Model\n",
      "Validation Loss Decreased(122.566960--->122.551768) \t Saving The Model\n",
      "Validation Loss Decreased(122.551768--->122.520519) \t Saving The Model\n",
      "Validation Loss Decreased(122.520519--->122.492667) \t Saving The Model\n",
      "Validation Loss Decreased(122.492667--->122.482835) \t Saving The Model\n",
      "Validation Loss Decreased(122.482835--->122.425854) \t Saving The Model\n",
      "Validation Loss Decreased(122.425854--->122.368504) \t Saving The Model\n",
      "Validation Loss Decreased(122.368504--->122.324415) \t Saving The Model\n",
      "Validation Loss Decreased(122.324415--->122.265135) \t Saving The Model\n",
      "Validation Loss Decreased(122.265135--->122.212026) \t Saving The Model\n",
      "Validation Loss Decreased(122.212026--->122.111885) \t Saving The Model\n",
      "Validation Loss Decreased(122.111885--->122.064853) \t Saving The Model\n",
      "Validation Loss Decreased(122.064853--->121.943939) \t Saving The Model\n",
      "Validation Loss Decreased(121.943939--->121.878086) \t Saving The Model\n",
      "Validation Loss Decreased(121.878086--->121.738056) \t Saving The Model\n",
      "Validation Loss Decreased(121.738056--->121.682520) \t Saving The Model\n",
      "Validation Loss Decreased(121.682520--->121.496724) \t Saving The Model\n",
      "Validation Loss Decreased(121.496724--->121.492609) \t Saving The Model\n",
      "Validation Loss Decreased(121.492609--->121.227677) \t Saving The Model\n",
      "Validation Loss Decreased(121.227677--->121.195711) \t Saving The Model\n",
      "Validation Loss Decreased(121.195711--->120.901080) \t Saving The Model\n",
      "Validation Loss Decreased(120.901080--->120.743737) \t Saving The Model\n",
      "Validation Loss Decreased(120.743737--->120.514369) \t Saving The Model\n",
      "Validation Loss Decreased(120.514369--->120.281530) \t Saving The Model\n",
      "Validation Loss Decreased(120.281530--->120.059980) \t Saving The Model\n",
      "Validation Loss Decreased(120.059980--->119.898997) \t Saving The Model\n",
      "Validation Loss Decreased(119.898997--->119.584923) \t Saving The Model\n",
      "Validation Loss Decreased(119.584923--->119.058909) \t Saving The Model\n",
      "Validation Loss Decreased(119.058909--->118.462548) \t Saving The Model\n",
      "Validation Loss Decreased(118.462548--->118.412678) \t Saving The Model\n",
      "Epoch 101 \t\t Training Loss: 0.003666699606146516 \t\t Validation Loss: 0.6695606112480164\n",
      "Validation Loss Decreased(118.412678--->117.748966) \t Saving The Model\n",
      "Validation Loss Decreased(117.748966--->117.272759) \t Saving The Model\n",
      "Validation Loss Decreased(117.272759--->117.152478) \t Saving The Model\n",
      "Validation Loss Decreased(117.152478--->116.890004) \t Saving The Model\n",
      "Validation Loss Decreased(116.890004--->116.283578) \t Saving The Model\n",
      "Validation Loss Decreased(116.283578--->115.554899) \t Saving The Model\n",
      "Validation Loss Decreased(115.554899--->115.474265) \t Saving The Model\n",
      "Validation Loss Decreased(115.474265--->114.634705) \t Saving The Model\n",
      "Validation Loss Decreased(114.634705--->114.535070) \t Saving The Model\n",
      "Validation Loss Decreased(114.535070--->113.588849) \t Saving The Model\n",
      "Validation Loss Decreased(113.588849--->112.975408) \t Saving The Model\n",
      "Validation Loss Decreased(112.975408--->112.499623) \t Saving The Model\n",
      "Validation Loss Decreased(112.499623--->111.723278) \t Saving The Model\n",
      "Validation Loss Decreased(111.723278--->111.390678) \t Saving The Model\n",
      "Validation Loss Decreased(111.390678--->110.443708) \t Saving The Model\n",
      "Validation Loss Decreased(110.443708--->109.085752) \t Saving The Model\n",
      "Validation Loss Decreased(109.085752--->108.159797) \t Saving The Model\n",
      "Validation Loss Decreased(108.159797--->107.704258) \t Saving The Model\n",
      "Validation Loss Decreased(107.704258--->106.735682) \t Saving The Model\n",
      "Validation Loss Decreased(106.735682--->106.318956) \t Saving The Model\n",
      "Validation Loss Decreased(106.318956--->105.374982) \t Saving The Model\n",
      "Validation Loss Decreased(105.374982--->103.979035) \t Saving The Model\n",
      "Validation Loss Decreased(103.979035--->102.723761) \t Saving The Model\n",
      "Validation Loss Decreased(102.723761--->102.436073) \t Saving The Model\n",
      "Validation Loss Decreased(102.436073--->101.851686) \t Saving The Model\n",
      "Validation Loss Decreased(101.851686--->101.227958) \t Saving The Model\n",
      "Validation Loss Decreased(101.227958--->99.878304) \t Saving The Model\n",
      "Validation Loss Decreased(99.878304--->98.837629) \t Saving The Model\n",
      "Validation Loss Decreased(98.837629--->97.328290) \t Saving The Model\n",
      "Epoch 151 \t\t Training Loss: 0.0027074869406425346 \t\t Validation Loss: 0.5764651298522949\n",
      "Validation Loss Decreased(97.328290--->96.871263) \t Saving The Model\n",
      "Validation Loss Decreased(96.871263--->96.383652) \t Saving The Model\n",
      "Validation Loss Decreased(96.383652--->94.996915) \t Saving The Model\n",
      "Validation Loss Decreased(94.996915--->94.496411) \t Saving The Model\n",
      "Validation Loss Decreased(94.496411--->93.118789) \t Saving The Model\n",
      "Validation Loss Decreased(93.118789--->92.084212) \t Saving The Model\n",
      "Validation Loss Decreased(92.084212--->91.806936) \t Saving The Model\n",
      "Validation Loss Decreased(91.806936--->90.559913) \t Saving The Model\n",
      "Validation Loss Decreased(90.559913--->88.764130) \t Saving The Model\n",
      "Validation Loss Decreased(88.764130--->88.361315) \t Saving The Model\n",
      "Validation Loss Decreased(88.361315--->87.172438) \t Saving The Model\n",
      "Validation Loss Decreased(87.172438--->86.843583) \t Saving The Model\n",
      "Validation Loss Decreased(86.843583--->86.019516) \t Saving The Model\n",
      "Validation Loss Decreased(86.019516--->84.851992) \t Saving The Model\n",
      "Validation Loss Decreased(84.851992--->83.260727) \t Saving The Model\n",
      "Validation Loss Decreased(83.260727--->83.174059) \t Saving The Model\n",
      "Validation Loss Decreased(83.174059--->82.740226) \t Saving The Model\n",
      "Validation Loss Decreased(82.740226--->82.178801) \t Saving The Model\n",
      "Validation Loss Decreased(82.178801--->81.903235) \t Saving The Model\n",
      "Epoch 201 \t\t Training Loss: 0.0020277717355954446 \t\t Validation Loss: 0.4752708971500397\n",
      "Validation Loss Decreased(81.903235--->81.427450) \t Saving The Model\n",
      "Validation Loss Decreased(81.427450--->81.059027) \t Saving The Model\n",
      "Validation Loss Decreased(81.059027--->80.911448) \t Saving The Model\n",
      "Validation Loss Decreased(80.911448--->80.632126) \t Saving The Model\n",
      "Validation Loss Decreased(80.632126--->80.473654) \t Saving The Model\n",
      "Validation Loss Decreased(80.473654--->80.361565) \t Saving The Model\n",
      "Validation Loss Decreased(80.361565--->80.114784) \t Saving The Model\n",
      "Validation Loss Decreased(80.114784--->80.071302) \t Saving The Model\n",
      "Validation Loss Decreased(80.071302--->79.880083) \t Saving The Model\n",
      "Validation Loss Decreased(79.880083--->79.715218) \t Saving The Model\n",
      "Validation Loss Decreased(79.715218--->79.557738) \t Saving The Model\n",
      "Validation Loss Decreased(79.557738--->79.483698) \t Saving The Model\n",
      "Validation Loss Decreased(79.483698--->79.471650) \t Saving The Model\n",
      "Validation Loss Decreased(79.471650--->79.236611) \t Saving The Model\n",
      "Validation Loss Decreased(79.236611--->79.118424) \t Saving The Model\n",
      "Validation Loss Decreased(79.118424--->79.055283) \t Saving The Model\n",
      "Validation Loss Decreased(79.055283--->78.890776) \t Saving The Model\n",
      "Validation Loss Decreased(78.890776--->78.790171) \t Saving The Model\n",
      "Validation Loss Decreased(78.790171--->78.769630) \t Saving The Model\n",
      "Validation Loss Decreased(78.769630--->78.760626) \t Saving The Model\n",
      "Validation Loss Decreased(78.760626--->78.614012) \t Saving The Model\n",
      "Validation Loss Decreased(78.614012--->78.567149) \t Saving The Model\n",
      "Validation Loss Decreased(78.567149--->78.471603) \t Saving The Model\n",
      "Validation Loss Decreased(78.471603--->78.425932) \t Saving The Model\n",
      "Validation Loss Decreased(78.425932--->78.343879) \t Saving The Model\n",
      "Epoch 251 \t\t Training Loss: 0.0018458038063372596 \t\t Validation Loss: 0.44316643476486206\n",
      "Validation Loss Decreased(78.343879--->78.323359) \t Saving The Model\n",
      "Validation Loss Decreased(78.323359--->78.313263) \t Saving The Model\n",
      "Validation Loss Decreased(78.313263--->78.240547) \t Saving The Model\n",
      "Validation Loss Decreased(78.240547--->78.193156) \t Saving The Model\n",
      "Validation Loss Decreased(78.193156--->78.178038) \t Saving The Model\n",
      "Validation Loss Decreased(78.178038--->78.161448) \t Saving The Model\n",
      "Validation Loss Decreased(78.161448--->78.121732) \t Saving The Model\n",
      "Validation Loss Decreased(78.121732--->78.080244) \t Saving The Model\n",
      "Validation Loss Decreased(78.080244--->78.046242) \t Saving The Model\n",
      "Validation Loss Decreased(78.046242--->78.016464) \t Saving The Model\n",
      "Validation Loss Decreased(78.016464--->77.989609) \t Saving The Model\n",
      "Validation Loss Decreased(77.989609--->77.962701) \t Saving The Model\n",
      "Validation Loss Decreased(77.962701--->77.938721) \t Saving The Model\n",
      "Validation Loss Decreased(77.938721--->77.916471) \t Saving The Model\n",
      "Validation Loss Decreased(77.916471--->77.896795) \t Saving The Model\n",
      "Validation Loss Decreased(77.896795--->77.892707) \t Saving The Model\n",
      "Validation Loss Decreased(77.892707--->77.879609) \t Saving The Model\n",
      "Validation Loss Decreased(77.879609--->77.868621) \t Saving The Model\n",
      "Validation Loss Decreased(77.868621--->77.863404) \t Saving The Model\n",
      "Validation Loss Decreased(77.863404--->77.847801) \t Saving The Model\n",
      "Validation Loss Decreased(77.847801--->77.846076) \t Saving The Model\n",
      "Validation Loss Decreased(77.846076--->77.831617) \t Saving The Model\n",
      "Validation Loss Decreased(77.831617--->77.824454) \t Saving The Model\n",
      "Validation Loss Decreased(77.824454--->77.817301) \t Saving The Model\n",
      "Epoch 301 \t\t Training Loss: 0.001798621847131158 \t\t Validation Loss: 0.43957915902137756\n",
      "Validation Loss Decreased(77.817301--->77.805511) \t Saving The Model\n",
      "Validation Loss Decreased(77.805511--->77.803253) \t Saving The Model\n",
      "Validation Loss Decreased(77.803253--->77.801117) \t Saving The Model\n",
      "Validation Loss Decreased(77.801117--->77.790857) \t Saving The Model\n",
      "Validation Loss Decreased(77.790857--->77.783182) \t Saving The Model\n",
      "Validation Loss Decreased(77.783182--->77.781837) \t Saving The Model\n",
      "Validation Loss Decreased(77.781837--->77.776984) \t Saving The Model\n",
      "Validation Loss Decreased(77.776984--->77.767441) \t Saving The Model\n",
      "Validation Loss Decreased(77.767441--->77.762246) \t Saving The Model\n",
      "Validation Loss Decreased(77.762246--->77.760399) \t Saving The Model\n",
      "Validation Loss Decreased(77.760399--->77.754243) \t Saving The Model\n",
      "Validation Loss Decreased(77.754243--->77.746041) \t Saving The Model\n",
      "Validation Loss Decreased(77.746041--->77.741784) \t Saving The Model\n",
      "Validation Loss Decreased(77.741784--->77.739046) \t Saving The Model\n",
      "Validation Loss Decreased(77.739046--->77.732927) \t Saving The Model\n",
      "Validation Loss Decreased(77.732927--->77.725748) \t Saving The Model\n",
      "Validation Loss Decreased(77.725748--->77.721755) \t Saving The Model\n",
      "Validation Loss Decreased(77.721755--->77.718727) \t Saving The Model\n",
      "Validation Loss Decreased(77.718727--->77.712866) \t Saving The Model\n",
      "Validation Loss Decreased(77.712866--->77.706130) \t Saving The Model\n",
      "Validation Loss Decreased(77.706130--->77.701994) \t Saving The Model\n",
      "Validation Loss Decreased(77.701994--->77.699035) \t Saving The Model\n",
      "Validation Loss Decreased(77.699035--->77.693871) \t Saving The Model\n",
      "Validation Loss Decreased(77.693871--->77.687736) \t Saving The Model\n",
      "Validation Loss Decreased(77.687736--->77.683236) \t Saving The Model\n",
      "Validation Loss Decreased(77.683236--->77.680077) \t Saving The Model\n",
      "Validation Loss Decreased(77.680077--->77.675683) \t Saving The Model\n",
      "Validation Loss Decreased(77.675683--->77.669980) \t Saving The Model\n",
      "Validation Loss Decreased(77.669980--->77.665475) \t Saving The Model\n",
      "Validation Loss Decreased(77.665475--->77.662268) \t Saving The Model\n",
      "Validation Loss Decreased(77.662268--->77.657980) \t Saving The Model\n",
      "Validation Loss Decreased(77.657980--->77.652694) \t Saving The Model\n",
      "Validation Loss Decreased(77.652694--->77.647910) \t Saving The Model\n",
      "Validation Loss Decreased(77.647910--->77.644681) \t Saving The Model\n",
      "Validation Loss Decreased(77.644681--->77.641184) \t Saving The Model\n",
      "Validation Loss Decreased(77.641184--->77.636247) \t Saving The Model\n",
      "Validation Loss Decreased(77.636247--->77.631151) \t Saving The Model\n",
      "Validation Loss Decreased(77.631151--->77.627395) \t Saving The Model\n",
      "Validation Loss Decreased(77.627395--->77.624452) \t Saving The Model\n",
      "Validation Loss Decreased(77.624452--->77.620585) \t Saving The Model\n",
      "Validation Loss Decreased(77.620585--->77.615806) \t Saving The Model\n",
      "Validation Loss Decreased(77.615806--->77.611407) \t Saving The Model\n",
      "Validation Loss Decreased(77.611407--->77.607925) \t Saving The Model\n",
      "Validation Loss Decreased(77.607925--->77.604639) \t Saving The Model\n",
      "Validation Loss Decreased(77.604639--->77.600725) \t Saving The Model\n",
      "Validation Loss Decreased(77.600725--->77.596346) \t Saving The Model\n",
      "Validation Loss Decreased(77.596346--->77.592469) \t Saving The Model\n",
      "Validation Loss Decreased(77.592469--->77.589104) \t Saving The Model\n",
      "Validation Loss Decreased(77.589104--->77.585802) \t Saving The Model\n",
      "Validation Loss Decreased(77.585802--->77.582078) \t Saving The Model\n",
      "Epoch 351 \t\t Training Loss: 0.0017870184728654764 \t\t Validation Loss: 0.4382942318916321\n",
      "Validation Loss Decreased(77.582078--->77.578079) \t Saving The Model\n",
      "Validation Loss Decreased(77.578079--->77.574439) \t Saving The Model\n",
      "Validation Loss Decreased(77.574439--->77.571137) \t Saving The Model\n",
      "Validation Loss Decreased(77.571137--->77.567613) \t Saving The Model\n",
      "Validation Loss Decreased(77.567613--->77.563937) \t Saving The Model\n",
      "Validation Loss Decreased(77.563937--->77.560381) \t Saving The Model\n",
      "Validation Loss Decreased(77.560381--->77.557053) \t Saving The Model\n",
      "Validation Loss Decreased(77.557053--->77.553803) \t Saving The Model\n",
      "Validation Loss Decreased(77.553803--->77.550522) \t Saving The Model\n",
      "Validation Loss Decreased(77.550522--->77.547194) \t Saving The Model\n",
      "Validation Loss Decreased(77.547194--->77.543839) \t Saving The Model\n",
      "Validation Loss Decreased(77.543839--->77.540732) \t Saving The Model\n",
      "Validation Loss Decreased(77.540732--->77.537620) \t Saving The Model\n",
      "Validation Loss Decreased(77.537620--->77.534254) \t Saving The Model\n",
      "Validation Loss Decreased(77.534254--->77.530836) \t Saving The Model\n",
      "Validation Loss Decreased(77.530836--->77.527692) \t Saving The Model\n",
      "Validation Loss Decreased(77.527692--->77.524765) \t Saving The Model\n",
      "Validation Loss Decreased(77.524765--->77.521858) \t Saving The Model\n",
      "Validation Loss Decreased(77.521858--->77.518709) \t Saving The Model\n",
      "Validation Loss Decreased(77.518709--->77.515412) \t Saving The Model\n",
      "Validation Loss Decreased(77.515412--->77.512321) \t Saving The Model\n",
      "Validation Loss Decreased(77.512321--->77.509504) \t Saving The Model\n",
      "Validation Loss Decreased(77.509504--->77.506576) \t Saving The Model\n",
      "Validation Loss Decreased(77.506576--->77.503459) \t Saving The Model\n",
      "Validation Loss Decreased(77.503459--->77.500315) \t Saving The Model\n",
      "Validation Loss Decreased(77.500315--->77.497340) \t Saving The Model\n",
      "Validation Loss Decreased(77.497340--->77.494639) \t Saving The Model\n",
      "Validation Loss Decreased(77.494639--->77.491928) \t Saving The Model\n",
      "Validation Loss Decreased(77.491928--->77.489026) \t Saving The Model\n",
      "Validation Loss Decreased(77.489026--->77.486078) \t Saving The Model\n",
      "Validation Loss Decreased(77.486078--->77.483129) \t Saving The Model\n",
      "Validation Loss Decreased(77.483129--->77.480354) \t Saving The Model\n",
      "Validation Loss Decreased(77.480354--->77.477674) \t Saving The Model\n",
      "Validation Loss Decreased(77.477674--->77.474847) \t Saving The Model\n",
      "Validation Loss Decreased(77.474847--->77.471956) \t Saving The Model\n",
      "Validation Loss Decreased(77.471956--->77.469224) \t Saving The Model\n",
      "Validation Loss Decreased(77.469224--->77.466834) \t Saving The Model\n",
      "Validation Loss Decreased(77.466834--->77.464323) \t Saving The Model\n",
      "Validation Loss Decreased(77.464323--->77.461412) \t Saving The Model\n",
      "Validation Loss Decreased(77.461412--->77.458421) \t Saving The Model\n",
      "Validation Loss Decreased(77.458421--->77.455894) \t Saving The Model\n",
      "Validation Loss Decreased(77.455894--->77.453726) \t Saving The Model\n",
      "Validation Loss Decreased(77.453726--->77.451447) \t Saving The Model\n",
      "Validation Loss Decreased(77.451447--->77.448778) \t Saving The Model\n",
      "Validation Loss Decreased(77.448778--->77.445908) \t Saving The Model\n",
      "Validation Loss Decreased(77.445908--->77.443160) \t Saving The Model\n",
      "Validation Loss Decreased(77.443160--->77.440765) \t Saving The Model\n",
      "Validation Loss Decreased(77.440765--->77.438555) \t Saving The Model\n",
      "Validation Loss Decreased(77.438555--->77.436213) \t Saving The Model\n",
      "Validation Loss Decreased(77.436213--->77.433607) \t Saving The Model\n",
      "Epoch 401 \t\t Training Loss: 0.0017827538783940892 \t\t Validation Loss: 0.4374624192714691\n",
      "Validation Loss Decreased(77.433607--->77.430848) \t Saving The Model\n",
      "Validation Loss Decreased(77.430848--->77.428153) \t Saving The Model\n",
      "Validation Loss Decreased(77.428153--->77.425631) \t Saving The Model\n",
      "Validation Loss Decreased(77.425631--->77.423226) \t Saving The Model\n",
      "Validation Loss Decreased(77.423226--->77.421021) \t Saving The Model\n",
      "Validation Loss Decreased(77.421021--->77.418452) \t Saving The Model\n",
      "Validation Loss Decreased(77.418452--->77.415535) \t Saving The Model\n",
      "Validation Loss Decreased(77.415535--->77.412697) \t Saving The Model\n",
      "Validation Loss Decreased(77.412697--->77.410186) \t Saving The Model\n",
      "Validation Loss Decreased(77.410186--->77.407912) \t Saving The Model\n",
      "Validation Loss Decreased(77.407912--->77.405998) \t Saving The Model\n",
      "Validation Loss Decreased(77.405998--->77.404114) \t Saving The Model\n",
      "Validation Loss Decreased(77.404114--->77.401445) \t Saving The Model\n",
      "Validation Loss Decreased(77.401445--->77.398148) \t Saving The Model\n",
      "Validation Loss Decreased(77.398148--->77.395189) \t Saving The Model\n",
      "Validation Loss Decreased(77.395189--->77.393090) \t Saving The Model\n",
      "Validation Loss Decreased(77.393090--->77.391428) \t Saving The Model\n",
      "Validation Loss Decreased(77.391428--->77.389640) \t Saving The Model\n",
      "Validation Loss Decreased(77.389640--->77.387197) \t Saving The Model\n",
      "Validation Loss Decreased(77.387197--->77.384302) \t Saving The Model\n",
      "Validation Loss Decreased(77.384302--->77.381738) \t Saving The Model\n",
      "Validation Loss Decreased(77.381738--->77.379855) \t Saving The Model\n",
      "Validation Loss Decreased(77.379855--->77.378441) \t Saving The Model\n",
      "Validation Loss Decreased(77.378441--->77.376684) \t Saving The Model\n",
      "Validation Loss Decreased(77.376684--->77.374374) \t Saving The Model\n",
      "Validation Loss Decreased(77.374374--->77.371657) \t Saving The Model\n",
      "Validation Loss Decreased(77.371657--->77.369189) \t Saving The Model\n",
      "Validation Loss Decreased(77.369189--->77.367279) \t Saving The Model\n",
      "Validation Loss Decreased(77.367279--->77.365586) \t Saving The Model\n",
      "Validation Loss Decreased(77.365586--->77.363592) \t Saving The Model\n",
      "Validation Loss Decreased(77.363592--->77.361292) \t Saving The Model\n",
      "Validation Loss Decreased(77.361292--->77.358770) \t Saving The Model\n",
      "Validation Loss Decreased(77.358770--->77.356391) \t Saving The Model\n",
      "Validation Loss Decreased(77.356391--->77.354392) \t Saving The Model\n",
      "Validation Loss Decreased(77.354392--->77.352615) \t Saving The Model\n",
      "Validation Loss Decreased(77.352615--->77.350763) \t Saving The Model\n",
      "Validation Loss Decreased(77.350763--->77.348579) \t Saving The Model\n",
      "Validation Loss Decreased(77.348579--->77.346242) \t Saving The Model\n",
      "Validation Loss Decreased(77.346242--->77.343895) \t Saving The Model\n",
      "Validation Loss Decreased(77.343895--->77.341896) \t Saving The Model\n",
      "Validation Loss Decreased(77.341896--->77.340218) \t Saving The Model\n",
      "Validation Loss Decreased(77.340218--->77.338567) \t Saving The Model\n",
      "Validation Loss Decreased(77.338567--->77.336710) \t Saving The Model\n",
      "Validation Loss Decreased(77.336710--->77.334527) \t Saving The Model\n",
      "Validation Loss Decreased(77.334527--->77.332200) \t Saving The Model\n",
      "Validation Loss Decreased(77.332200--->77.330027) \t Saving The Model\n",
      "Validation Loss Decreased(77.330027--->77.328096) \t Saving The Model\n",
      "Validation Loss Decreased(77.328096--->77.326472) \t Saving The Model\n",
      "Validation Loss Decreased(77.326472--->77.324747) \t Saving The Model\n",
      "Validation Loss Decreased(77.324747--->77.322790) \t Saving The Model\n",
      "Epoch 451 \t\t Training Loss: 0.0017806475108626198 \t\t Validation Loss: 0.43683934211730957\n",
      "Validation Loss Decreased(77.322790--->77.320564) \t Saving The Model\n",
      "Validation Loss Decreased(77.320564--->77.318343) \t Saving The Model\n",
      "Validation Loss Decreased(77.318343--->77.316270) \t Saving The Model\n",
      "Validation Loss Decreased(77.316270--->77.314360) \t Saving The Model\n",
      "Validation Loss Decreased(77.314360--->77.312582) \t Saving The Model\n",
      "Validation Loss Decreased(77.312582--->77.310694) \t Saving The Model\n",
      "Validation Loss Decreased(77.310694--->77.308721) \t Saving The Model\n",
      "Validation Loss Decreased(77.308721--->77.306748) \t Saving The Model\n",
      "Validation Loss Decreased(77.306748--->77.304855) \t Saving The Model\n",
      "Validation Loss Decreased(77.304855--->77.302977) \t Saving The Model\n",
      "Validation Loss Decreased(77.302977--->77.301093) \t Saving The Model\n",
      "Validation Loss Decreased(77.301093--->77.299194) \t Saving The Model\n",
      "Validation Loss Decreased(77.299194--->77.297269) \t Saving The Model\n",
      "Validation Loss Decreased(77.297269--->77.295259) \t Saving The Model\n",
      "Validation Loss Decreased(77.295259--->77.293350) \t Saving The Model\n",
      "Validation Loss Decreased(77.293350--->77.291403) \t Saving The Model\n",
      "Validation Loss Decreased(77.291403--->77.289694) \t Saving The Model\n",
      "Validation Loss Decreased(77.289694--->77.288064) \t Saving The Model\n",
      "Validation Loss Decreased(77.288064--->77.286508) \t Saving The Model\n",
      "Validation Loss Decreased(77.286508--->77.284957) \t Saving The Model\n",
      "Validation Loss Decreased(77.284957--->77.283380) \t Saving The Model\n",
      "Validation Loss Decreased(77.283380--->77.281555) \t Saving The Model\n",
      "Validation Loss Decreased(77.281555--->77.279709) \t Saving The Model\n",
      "Validation Loss Decreased(77.279709--->77.277894) \t Saving The Model\n",
      "Validation Loss Decreased(77.277894--->77.276085) \t Saving The Model\n",
      "Validation Loss Decreased(77.276085--->77.274107) \t Saving The Model\n",
      "Validation Loss Decreased(77.274107--->77.271875) \t Saving The Model\n",
      "Validation Loss Decreased(77.271875--->77.269401) \t Saving The Model\n",
      "Validation Loss Decreased(77.269401--->77.266985) \t Saving The Model\n",
      "Validation Loss Decreased(77.266985--->77.264548) \t Saving The Model\n",
      "Validation Loss Decreased(77.264548--->77.262475) \t Saving The Model\n",
      "Validation Loss Decreased(77.262475--->77.260803) \t Saving The Model\n",
      "Validation Loss Decreased(77.260803--->77.258925) \t Saving The Model\n",
      "Validation Loss Decreased(77.258925--->77.256868) \t Saving The Model\n",
      "Validation Loss Decreased(77.256868--->77.254705) \t Saving The Model\n",
      "Validation Loss Decreased(77.254705--->77.252616) \t Saving The Model\n",
      "Validation Loss Decreased(77.252616--->77.250701) \t Saving The Model\n",
      "Validation Loss Decreased(77.250701--->77.249003) \t Saving The Model\n",
      "Validation Loss Decreased(77.249003--->77.247431) \t Saving The Model\n",
      "Validation Loss Decreased(77.247431--->77.245843) \t Saving The Model\n",
      "Validation Loss Decreased(77.245843--->77.243997) \t Saving The Model\n",
      "Validation Loss Decreased(77.243997--->77.241892) \t Saving The Model\n",
      "Validation Loss Decreased(77.241892--->77.239830) \t Saving The Model\n",
      "Validation Loss Decreased(77.239830--->77.238168) \t Saving The Model\n",
      "Validation Loss Decreased(77.238168--->77.236791) \t Saving The Model\n",
      "Validation Loss Decreased(77.236791--->77.235467) \t Saving The Model\n",
      "Validation Loss Decreased(77.235467--->77.233900) \t Saving The Model\n",
      "Validation Loss Decreased(77.233900--->77.232107) \t Saving The Model\n",
      "Validation Loss Decreased(77.232107--->77.230087) \t Saving The Model\n",
      "Validation Loss Decreased(77.230087--->77.228072) \t Saving The Model\n"
     ]
    }
   ],
   "source": [
    "# Model\n",
    "class Model(nn.Module):\n",
    "    def __init__(self):\n",
    "        super().__init__()\n",
    "        self.linear1 = nn.Linear(train_features.shape[1], nodes)\n",
    "        self.relu1 = activation1\n",
    "        self.linear2 = nn.Linear(nodes, nodes)\n",
    "        self.relu2 = activation1\n",
    "        self.linear3 = nn.Linear(nodes, nodes)\n",
    "        self.relu3 = activation1\n",
    "        self.linear4 = nn.Linear(nodes, nodes)\n",
    "        self.relu4 = activation1\n",
    "        self.linear5 = nn.Linear(nodes, nodes)\n",
    "        self.relu5 = activation1\n",
    "        self.linear6 = nn.Linear(nodes, nodes)\n",
    "        self.relu6 = activation1\n",
    "        self.linear7 = nn.Linear(nodes, nodes)\n",
    "        self.relu7 = activation1\n",
    "        self.linear8 = nn.Linear(nodes, nodes)\n",
    "        self.relu8 = activation1\n",
    "        self.linear9 = nn.Linear(nodes, nodes)\n",
    "        self.relu9 = activation1\n",
    "        self.linear10 = nn.Linear(nodes, 2)\n",
    "        self.relu10 = activation2\n",
    "        \n",
    "    def forward(self, x):\n",
    "        out1 = self.linear1(x)\n",
    "        out2 = self.relu1(out1)\n",
    "        out3 = self.relu2(self.linear2(out2))\n",
    "        out4 = self.relu3(self.linear3(out3))\n",
    "        out5 = self.relu4(self.linear4(out4))\n",
    "        out6 = self.relu5(self.linear5(out5))\n",
    "        out7 = self.relu6(self.linear6(out6))\n",
    "        out8 = self.relu7(self.linear7(out7))\n",
    "        out9 = self.relu8(self.linear8(out8))\n",
    "        out10 = self.relu9(self.linear9(out9))\n",
    "        out11 = self.relu10(self.linear10(out10))\n",
    "        return out11\n",
    "\n",
    "    \n",
    "model = Model()\n",
    "\n",
    "import numpy as np\n",
    "min_valid_loss = np.inf\n",
    "\n",
    "input_tensor = torch.from_numpy(train_features).type(torch.FloatTensor)\n",
    "label_tensor = torch.from_numpy(train_labels)\n",
    "\n",
    "val_input_tensor = torch.from_numpy(val_features).type(torch.FloatTensor)\n",
    "val_label_tensor = torch.from_numpy(val_labels)\n",
    "for e in range(num_epochs):\n",
    "    train_loss = 0.0\n",
    "    #model.train()     # Optional when not using Model Specific layer\n",
    "    if loss == 'MAE':\n",
    "        criterion = nn.L1Loss()\n",
    "    elif loss == 'CrossEntropyLoss':    \n",
    "        criterion = nn.CrossEntropyLoss()\n",
    "    elif loss == 'MSE':    \n",
    "        criterion = nn.MSELoss()\n",
    "    elif loss == 'BCE':    \n",
    "        criterion = nn.BCELoss()\n",
    "    elif loss == 'BCEWithLogitsLoss':\n",
    "        criterion = nn.BCEWithLogitsLoss\n",
    "    if optimizer == 'Adam':\n",
    "        optimizer = torch.optim.Adam(model.parameters(), lr=lr)\n",
    "    elif optimizer == 'Adamax':\n",
    "        optimizer = torch.optim.Adamax(model.parameters(), lr=lr)\n",
    "    elif optimizer == 'Adagrad':\n",
    "        optimizer = torch.optim.Adagrad(model.parameters(), lr=lr)\n",
    "    optimizer.zero_grad()\n",
    "    target = model(input_tensor)\n",
    "    loss = criterion(target, label_tensor)\n",
    "    loss.backward()\n",
    "    optimizer.step()\n",
    "    train_loss += loss.item()\n",
    "    \n",
    "    valid_loss = 0.0\n",
    "    model.eval()     # Optional when not using Model Specific layer\n",
    "\n",
    "\n",
    "    target = model(val_input_tensor)\n",
    "    loss = criterion(target,val_label_tensor)\n",
    "    valid_loss = loss.item() * val_input_tensor.size(0)\n",
    "    if e % 50 == 0:\n",
    "        print(f'Epoch {e+1} \\t\\t Training Loss: {train_loss / len(val_input_tensor)} \\t\\t Validation Loss: {valid_loss / len(val_input_tensor)}')\n",
    "    if min_valid_loss > valid_loss:\n",
    "        print(f'Validation Loss Decreased({min_valid_loss:.6f}--->{valid_loss:.6f}) \\t Saving The Model')\n",
    "        min_valid_loss = valid_loss\n",
    "        # Saving State Dict\n",
    "        torch.save(model.state_dict(), 'saved_model.pth')\n",
    "\n",
    "#input_tensor = torch.from_numpy(train_features).type(torch.FloatTensor)\n",
    "test_input_tensor = torch.from_numpy(test_features).type(torch.FloatTensor)"
   ]
  },
  {
   "cell_type": "code",
   "execution_count": 35,
   "id": "110928a1-a8c3-4223-9ee9-6799c946fa09",
   "metadata": {},
   "outputs": [
    {
     "name": "stdout",
     "output_type": "stream",
     "text": [
      "Train Accuracy: 0.9985795454545454\n"
     ]
    },
    {
     "name": "stderr",
     "output_type": "stream",
     "text": [
      "<ipython-input-34-51d084ecc3c6>:37: UserWarning: Implicit dimension choice for softmax has been deprecated. Change the call to include dim=X as an argument.\n",
      "  out11 = self.relu10(self.linear10(out10))\n"
     ]
    }
   ],
   "source": [
    "out_probs_train = model(input_tensor).detach().numpy()\n",
    "out_classes_train = np.argmax(out_probs_train, axis=1)\n",
    "train_acc = sum(out_classes_train == train_labels) / len(train_labels)\n",
    "print(\"Train Accuracy:\", train_acc)"
   ]
  },
  {
   "cell_type": "code",
   "execution_count": 36,
   "id": "a05d2582-b908-4b13-9270-5b33c3f97e23",
   "metadata": {},
   "outputs": [
    {
     "name": "stdout",
     "output_type": "stream",
     "text": [
      "Test Accuracy: 0.8757062146892656\n"
     ]
    },
    {
     "name": "stderr",
     "output_type": "stream",
     "text": [
      "<ipython-input-34-51d084ecc3c6>:37: UserWarning: Implicit dimension choice for softmax has been deprecated. Change the call to include dim=X as an argument.\n",
      "  out11 = self.relu10(self.linear10(out10))\n"
     ]
    }
   ],
   "source": [
    "val_input_tensor = torch.from_numpy(val_features).type(torch.FloatTensor)\n",
    "out_probs_val = model(val_input_tensor).detach().numpy()\n",
    "out_classes_val = np.argmax(out_probs_val, axis=1)\n",
    "val_acc = sum(out_classes_val == val_labels) / len(val_labels)\n",
    "print(\"Test Accuracy:\", val_acc)"
   ]
  },
  {
   "cell_type": "code",
   "execution_count": 37,
   "id": "40fe03de-efe9-43ff-8759-c76a2414f325",
   "metadata": {},
   "outputs": [
    {
     "name": "stdout",
     "output_type": "stream",
     "text": [
      "Test Accuracy: 0.9130434782608695\n"
     ]
    },
    {
     "name": "stderr",
     "output_type": "stream",
     "text": [
      "<ipython-input-34-51d084ecc3c6>:37: UserWarning: Implicit dimension choice for softmax has been deprecated. Change the call to include dim=X as an argument.\n",
      "  out11 = self.relu10(self.linear10(out10))\n"
     ]
    }
   ],
   "source": [
    "test_input_tensor = torch.from_numpy(test_features).type(torch.FloatTensor)\n",
    "out_probs_test = model(test_input_tensor).detach().numpy()\n",
    "out_classes_test = np.argmax(out_probs_test, axis=1)\n",
    "test_acc = sum(out_classes_test == test_labels) / len(test_labels)\n",
    "print(\"Test Accuracy:\", test_acc)"
   ]
  },
  {
   "cell_type": "code",
   "execution_count": 38,
   "id": "c78bfece-b734-41b3-aebb-b549180d4954",
   "metadata": {},
   "outputs": [],
   "source": [
    "r_probs = [0 for _ in range(len(y_test))]"
   ]
  },
  {
   "cell_type": "code",
   "execution_count": 39,
   "id": "12e81038-53a4-45a9-9942-d64eb30d2567",
   "metadata": {},
   "outputs": [],
   "source": [
    "test_labels = test_labels.astype('float32')"
   ]
  },
  {
   "cell_type": "code",
   "execution_count": 40,
   "id": "48d92e72-f241-4d66-9b05-4d2cc4e86312",
   "metadata": {},
   "outputs": [],
   "source": [
    "from sklearn.metrics import roc_curve, roc_auc_score\n",
    "#Random chance ROC\n",
    "r_auc = roc_auc_score(test_labels, r_probs)\n",
    "r_fpr, r_tpr, _ = roc_curve(test_labels, r_probs)\n",
    "\n",
    "#Train ROC\n",
    "tr_fpr, tr_tpr, _ = roc_curve(train_labels, out_probs_train[:, 1])\n",
    "tr_auc = roc_auc_score(train_labels, out_probs_train[:, 1])\n",
    "\n",
    "#Val ROC\n",
    "val_fpr, val_tpr, _ = roc_curve(val_labels, out_probs_val[:, 1])\n",
    "val_auc = roc_auc_score(val_labels, out_probs_val[:, 1])\n",
    "\n",
    "#Test ROC\n",
    "fpr, tpr, _ = roc_curve(test_labels, out_probs_test[:, 1])\n",
    "auc = roc_auc_score(test_labels, out_probs_test[:, 1])"
   ]
  },
  {
   "cell_type": "code",
   "execution_count": 41,
   "id": "5483e2be-3c8a-44e5-8b87-0adbfb08490e",
   "metadata": {},
   "outputs": [
    {
     "name": "stdout",
     "output_type": "stream",
     "text": [
      "Random (chance) Prediction: AUROC = 0.500\n",
      "Test Prediction: AUROC = 0.937\n",
      "Train Prediction: AUROC = 0.999\n",
      "Val Prediction: AUROC = 0.943\n"
     ]
    }
   ],
   "source": [
    "print('Random (chance) Prediction: AUROC = %.3f' % (r_auc))\n",
    "print('Test Prediction: AUROC = %.3f' % (auc))\n",
    "print('Train Prediction: AUROC = %.3f' % (tr_auc))\n",
    "print('Val Prediction: AUROC = %.3f' % (val_auc))"
   ]
  },
  {
   "cell_type": "code",
   "execution_count": 42,
   "id": "959eada2-5522-4ad3-aa63-07310b2df57f",
   "metadata": {},
   "outputs": [
    {
     "data": {
      "image/png": "[encoded data removed]",
      "text/plain": [
       "<Figure size 432x288 with 1 Axes>"
      ]
     },
     "metadata": {
      "needs_background": "light"
     },
     "output_type": "display_data"
    }
   ],
   "source": [
    "# AUC Plots\n",
    "plt.plot(r_fpr, r_tpr, linestyle='--', label='Random prediction (AUROC = %0.3f)' % r_auc)\n",
    "plt.plot(tr_fpr, tr_tpr, marker='.', label='Train (AUROC = %0.3f)' % tr_auc)\n",
    "plt.plot(val_fpr, val_tpr, marker='.', label='Val (AUROC = %0.3f)' % val_auc)\n",
    "plt.plot(fpr, tpr, marker='.', label='Test (AUROC = %0.3f)' % auc)\n",
    "\n",
    "# Title\n",
    "plt.title('ROC Plot')\n",
    "# Axis labels\n",
    "plt.xlabel('False Positive Rate')\n",
    "plt.ylabel('True Positive Rate')\n",
    "# Show legend\n",
    "plt.legend(loc = 'lower right', prop={'size': 10}) \n",
    "plt.tight_layout()\n",
    "#plt.savefig(dataset + '_' + activation1 + '_' + activation2 + '_' + 'ROC_Curve' + kfold + '.png', bbox_inches = \"tight\")"
   ]
  },
  {
   "cell_type": "code",
   "execution_count": 21,
   "id": "6815fe0b-0cb3-45d3-ab68-a6cb482d075e",
   "metadata": {
    "tags": []
   },
   "outputs": [],
   "source": [
    "# record more metrics in wandb\n",
    "wandb_run.log({'auc': auc, 'train_accuracy': train_acc, 'test_accuracy': test_acc})"
   ]
  },
  {
   "cell_type": "code",
   "execution_count": 22,
   "id": "5aa92d4f-3350-49ea-a0a3-ad45e89508ff",
   "metadata": {},
   "outputs": [
    {
     "name": "stderr",
     "output_type": "stream",
     "text": [
      "<ipython-input-12-51d084ecc3c6>:37: UserWarning: Implicit dimension choice for softmax has been deprecated. Change the call to include dim=X as an argument.\n",
      "  out11 = self.relu10(self.linear10(out10))\n"
     ]
    }
   ],
   "source": [
    "# set up integrated gradients \n",
    "ig = IntegratedGradients(model)\n",
    "\n",
    "# obtain integrated gradient attributes\n",
    "test_input_tensor.requires_grad_()\n",
    "attr, delta = ig.attribute(test_input_tensor,target=1, return_convergence_delta=True)\n",
    "attr = attr.detach().numpy()\n",
    "\n",
    "# get cpg islands\n",
    "feature_names = x_train.columns"
   ]
  },
  {
   "cell_type": "code",
   "execution_count": 98,
   "id": "e75b64e6-7d0b-4636-9557-c081b269bd9b",
   "metadata": {
    "tags": []
   },
   "outputs": [
    {
     "data": {
      "image/png": "[encoded data removed]",
      "text/plain": [
       "<Figure size 864x432 with 1 Axes>"
      ]
     },
     "metadata": {
      "needs_background": "light"
     },
     "output_type": "display_data"
    }
   ],
   "source": [
    "# Plot relative importance of cpg islands\n",
    "attributes = pd.DataFrame()\n",
    "cpg = []\n",
    "imp = []\n",
    "def visualize_importances(feature_names, importances, title=\"Average Feature Importances\", plot=True, axis_title=\"Features\"):\n",
    "    #print(title)\n",
    "    for i in range(len(feature_names)):\n",
    "        #print(feature_names[i], \": \", '%.3f'%(importances[i]))\n",
    "        cpg.append(feature_names[i])\n",
    "        imp.append(importances[i])\n",
    "    \n",
    "    \n",
    "    x_pos = (np.arange(len(feature_names)))\n",
    "    if plot:\n",
    "        plt.figure(figsize=(12,6))\n",
    "        plt.bar(x_pos, importances, align='center')\n",
    "        plt.xticks(x_pos, feature_names, wrap=True)\n",
    "        plt.xlabel(axis_title)\n",
    "        plt.title(title)\n",
    "attributes['CPG'] = cpg\n",
    "attributes['Attributes'] = imp\n",
    "visualize_importances(feature_names, np.mean(attr, axis=0))"
   ]
  },
  {
   "cell_type": "code",
   "execution_count": 99,
   "id": "bc3b2d9c-0a9b-4580-8716-d0d94a1cbfea",
   "metadata": {},
   "outputs": [],
   "source": [
    "# collate data into dataframe\n",
    "attributes['CPG'] = cpg\n",
    "attributes['Attributes'] = imp\n",
    "attributes['Attributes Abs'] = np.abs(attributes['Attributes']) # Absolute value of attributes\n",
    "\n",
    "# Order df by descending absolute value of attributes\n",
    "attributes = attributes.sort_values(by = ['Attributes Abs'], ascending = False)\n",
    "\n",
    "at = attributes.reset_index()"
   ]
  },
  {
   "cell_type": "code",
   "execution_count": 108,
   "id": "c980441f-7de0-4f79-96c1-3f4b2042034b",
   "metadata": {},
   "outputs": [
    {
     "data": {
      "text/plain": [
       "Text(0.5, 1.0, 'Integrated Gradients Attributes')"
      ]
     },
     "execution_count": 108,
     "metadata": {},
     "output_type": "execute_result"
    },
    {
     "data": {
      "image/png": "[encoded data removed]",
      "text/plain": [
       "<Figure size 432x288 with 1 Axes>"
      ]
     },
     "metadata": {
      "needs_background": "light"
     },
     "output_type": "display_data"
    }
   ],
   "source": [
    "plt.plot(np.abs(at['Attributes Abs'][:1000]))\n",
    "plt.title('Integrated Gradients Attributes')"
   ]
  },
  {
   "cell_type": "code",
   "execution_count": 109,
   "id": "b6eab41a-c0b6-465e-8f24-33d705a0a35f",
   "metadata": {},
   "outputs": [],
   "source": [
    "# Get top 500 CPG islands\n",
    "cpg_captum = attributes.iloc[:500,0].to_list()"
   ]
  },
  {
   "cell_type": "code",
   "execution_count": 114,
   "id": "fc5e7e72-3df1-4177-a575-4092289c2fbb",
   "metadata": {},
   "outputs": [],
   "source": [
    "# subset testing set CPG islands using top 500 CPG islands from IG \n",
    "top_500_cpg_df = x_test[x_test.columns.intersection(cpg_captum)]"
   ]
  },
  {
   "cell_type": "code",
   "execution_count": 115,
   "id": "6bc9b7b5-d594-4a4b-902e-df04754105b5",
   "metadata": {},
   "outputs": [],
   "source": [
    "# set up color map\n",
    "color_list = ['r', 'b', 'g', 'y', 'k', 'm']\n",
    "vals_1 = y_test.unique()\n",
    "lut_1 = dict(zip(vals_1, ''.join(color_list[:len(vals_1)])))\n",
    "row_colors_1 = y_test.map(lut_1).values"
   ]
  },
  {
   "cell_type": "code",
   "execution_count": 116,
   "id": "e8fa0bbf-ef1b-482b-957b-192bb8471b16",
   "metadata": {},
   "outputs": [
    {
     "name": "stderr",
     "output_type": "stream",
     "text": [
      "/home/ubuntu/anaconda3/envs/pytorch_env2/lib/python3.8/site-packages/seaborn/matrix.py:654: UserWarning: Clustering large matrix with scipy. Installing `fastcluster` may give better performance.\n",
      "  warnings.warn(msg)\n"
     ]
    },
    {
     "data": {
      "text/plain": [
       "Text(0.5, 0.98, 'Pytorch Grouping extremes train, extreme visualize clustermap')"
      ]
     },
     "execution_count": 116,
     "metadata": {},
     "output_type": "execute_result"
    },
    {
     "data": {
      "image/png": "[encoded data removed]",
      "text/plain": [
       "<Figure size 720x720 with 5 Axes>"
      ]
     },
     "metadata": {
      "needs_background": "light"
     },
     "output_type": "display_data"
    }
   ],
   "source": [
    "import seaborn as sns\n",
    "g = sns.clustermap(top_500_cpg_df, standard_scale=1, row_colors=row_colors_1)\n",
    "g.ax_heatmap.tick_params(right=False, bottom=False, labelbottom=False, labelright=False)\n",
    "g.fig.suptitle(\"Pytorch Grouping extremes train, extreme visualize clustermap\")"
   ]
  }
 ],
 "metadata": {
  "kernelspec": {
   "display_name": "Python 3",
   "language": "python",
   "name": "python3"
  },
  "language_info": {
   "codemirror_mode": {
    "name": "ipython",
    "version": 3
   },
   "file_extension": ".py",
   "mimetype": "text/x-python",
   "name": "python",
   "nbconvert_exporter": "python",
   "pygments_lexer": "ipython3",
   "version": "3.8.12"
  }
 },
 "nbformat": 4,
 "nbformat_minor": 5
}
